{
  "nbformat": 4,
  "nbformat_minor": 5,
  "metadata": {
    "kernelspec": {
      "display_name": "Python 3",
      "language": "python",
      "name": "python3"
    },
    "language_info": {
      "codemirror_mode": {
        "name": "ipython",
        "version": 3
      },
      "file_extension": ".py",
      "mimetype": "text/x-python",
      "name": "python",
      "nbconvert_exporter": "python",
      "pygments_lexer": "ipython3",
      "version": "3.8.8"
    },
    "colab": {
      "name": "reference_UCI_feature",
      "provenance": [],
      "collapsed_sections": [],
      "include_colab_link": true
    },
    "accelerator": "GPU"
  },
  "cells": [
    {
      "cell_type": "markdown",
      "metadata": {
        "id": "view-in-github",
        "colab_type": "text"
      },
      "source": [
        "<a href=\"https://colab.research.google.com/github/chengche6230/Deep-Learning-Course-Team-Project/blob/Comp1_Wen/reference_UCI_feature.ipynb\" target=\"_parent\"><img src=\"https://colab.research.google.com/assets/colab-badge.svg\" alt=\"Open In Colab\"/></a>"
      ]
    },
    {
      "cell_type": "code",
      "metadata": {
        "colab": {
          "base_uri": "https://localhost:8080/"
        },
        "id": "49P-ntnheWHB",
        "outputId": "e7ce6c5f-411d-4671-87d1-2b8a0db0dcbf"
      },
      "source": [
        "from google.colab import drive\n",
        "import os\n",
        "drive.mount('/content/gdrive')"
      ],
      "id": "49P-ntnheWHB",
      "execution_count": null,
      "outputs": [
        {
          "output_type": "stream",
          "name": "stdout",
          "text": [
            "Mounted at /content/gdrive\n"
          ]
        }
      ]
    },
    {
      "cell_type": "code",
      "metadata": {
        "colab": {
          "base_uri": "https://localhost:8080/",
          "height": 35
        },
        "id": "KlMFUOrzeeqK",
        "outputId": "fdac19b9-8068-4c35-dfa1-3963f94877f0"
      },
      "source": [
        "# !cd ./gdrive/MyDrive/NTHU/DL/Comp1/src/\n",
        "os.chdir(\"/content/gdrive/MyDrive/NTHU/DL/Comp1/src\") #更改路徑\n",
        "os.getcwd() #查看當前路徑"
      ],
      "id": "KlMFUOrzeeqK",
      "execution_count": null,
      "outputs": [
        {
          "output_type": "execute_result",
          "data": {
            "application/vnd.google.colaboratory.intrinsic+json": {
              "type": "string"
            },
            "text/plain": [
              "'/content/gdrive/MyDrive/NTHU/DL/Comp1/src'"
            ]
          },
          "metadata": {},
          "execution_count": 7
        }
      ]
    },
    {
      "cell_type": "code",
      "metadata": {
        "colab": {
          "base_uri": "https://localhost:8080/"
        },
        "id": "ib3hPVfNgTwN",
        "outputId": "bf7549ca-2f2c-4d7a-d5dd-298d464d4007"
      },
      "source": [
        "!ls"
      ],
      "id": "ib3hPVfNgTwN",
      "execution_count": null,
      "outputs": [
        {
          "output_type": "stream",
          "name": "stdout",
          "text": [
            "test_top5_predict_with5channel.csv  top_5.ipynb  Untitled0.ipynb\n"
          ]
        }
      ]
    },
    {
      "cell_type": "code",
      "metadata": {
        "colab": {
          "base_uri": "https://localhost:8080/"
        },
        "id": "t24s0niLfEhf",
        "outputId": "4d7dbfb7-7a09-4cb0-faeb-b9965794a58a"
      },
      "source": [
        "!pip install text2emotion"
      ],
      "id": "t24s0niLfEhf",
      "execution_count": null,
      "outputs": [
        {
          "output_type": "stream",
          "name": "stdout",
          "text": [
            "Collecting text2emotion\n",
            "  Downloading text2emotion-0.0.5-py3-none-any.whl (57 kB)\n",
            "\u001b[K     |████████████████████████████████| 57 kB 3.1 MB/s \n",
            "\u001b[?25hCollecting emoji>=0.6.0\n",
            "  Downloading emoji-1.6.1.tar.gz (170 kB)\n",
            "\u001b[K     |████████████████████████████████| 170 kB 11.6 MB/s \n",
            "\u001b[?25hRequirement already satisfied: nltk in /usr/local/lib/python3.7/dist-packages (from text2emotion) (3.2.5)\n",
            "Requirement already satisfied: six in /usr/local/lib/python3.7/dist-packages (from nltk->text2emotion) (1.15.0)\n",
            "Building wheels for collected packages: emoji\n",
            "  Building wheel for emoji (setup.py) ... \u001b[?25l\u001b[?25hdone\n",
            "  Created wheel for emoji: filename=emoji-1.6.1-py3-none-any.whl size=169314 sha256=880c58da2e8cefbe8215e93e09d261fa18e86d677526148e88d118e23051a6ab\n",
            "  Stored in directory: /root/.cache/pip/wheels/ea/5f/d3/03d313ddb3c2a1a427bb4690f1621eea60fe6f2a30cc95940f\n",
            "Successfully built emoji\n",
            "Installing collected packages: emoji, text2emotion\n",
            "Successfully installed emoji-1.6.1 text2emotion-0.0.5\n"
          ]
        }
      ]
    },
    {
      "cell_type": "code",
      "metadata": {
        "colab": {
          "base_uri": "https://localhost:8080/"
        },
        "id": "af37d93d",
        "outputId": "3d3d47a4-3188-4579-ce6a-964eb48ae6f9"
      },
      "source": [
        "%matplotlib inline\n",
        "import numpy as np\n",
        "import pandas as pd\n",
        "import os, itertools, csv\n",
        "import matplotlib.pyplot as plt\n",
        "from tqdm import trange\n",
        "\n",
        "# text related\n",
        "import re\n",
        "from bs4 import BeautifulSoup\n",
        "from datetime import datetime\n",
        "import nltk\n",
        "from nltk.corpus import stopwords\n",
        "from nltk.stem.porter import PorterStemmer\n",
        "\n",
        "import text2emotion as te\n",
        "\n",
        "# sklearn\n",
        "from sklearn.base import TransformerMixin, BaseEstimator\n",
        "from sklearn.pipeline import Pipeline\n",
        "from sklearn.model_selection import GridSearchCV, train_test_split, cross_val_score\n",
        "from sklearn.preprocessing import StandardScaler, LabelEncoder\n",
        "from sklearn.ensemble import RandomForestClassifier\n",
        "from sklearn.feature_extraction.text import CountVectorizer, TfidfVectorizer, HashingVectorizer\n",
        "from sklearn.metrics import accuracy_score, auc, roc_curve\n",
        "from sklearn.impute import SimpleImputer"
      ],
      "id": "af37d93d",
      "execution_count": null,
      "outputs": [
        {
          "output_type": "stream",
          "name": "stdout",
          "text": [
            "[nltk_data] Downloading package stopwords to /root/nltk_data...\n",
            "[nltk_data]   Unzipping corpora/stopwords.zip.\n",
            "[nltk_data] Downloading package punkt to /root/nltk_data...\n",
            "[nltk_data]   Unzipping tokenizers/punkt.zip.\n",
            "[nltk_data] Downloading package wordnet to /root/nltk_data...\n",
            "[nltk_data]   Unzipping corpora/wordnet.zip.\n"
          ]
        }
      ]
    },
    {
      "cell_type": "code",
      "metadata": {
        "id": "83r7qFkaeVLn"
      },
      "source": [
        ""
      ],
      "id": "83r7qFkaeVLn",
      "execution_count": null,
      "outputs": []
    },
    {
      "cell_type": "code",
      "metadata": {
        "id": "225f569f"
      },
      "source": [
        "import nltk\n",
        "from nltk import word_tokenize\n",
        "\n",
        "def count_words(text):\n",
        "    return len(text.split())\n",
        "\n",
        "def count_words_in_quotes(text):\n",
        "    x = re.findall(\"'.'|\\\".\\\"\", text)\n",
        "    count=0\n",
        "    if x is None:\n",
        "        return 0\n",
        "    else:\n",
        "        for i in x:\n",
        "            t=i[1:-1]\n",
        "            count+=count_words(t)\n",
        "        return count\n",
        "\n",
        "def count_stopwords(text):\n",
        "    stop_words = set(stopwords.words('english'))  \n",
        "    word_tokens = word_tokenize(text)\n",
        "    stopwords_x = [w for w in word_tokens if w in stop_words]\n",
        "    return len(stopwords_x)\n",
        "\n",
        "def count_sentence(text):\n",
        "    x = re.split(r'[.!?]+', text)\n",
        "    return len(x) - 1"
      ],
      "id": "225f569f",
      "execution_count": null,
      "outputs": []
    },
    {
      "cell_type": "code",
      "metadata": {
        "id": "cfd87d95"
      },
      "source": [
        "def data_preprocess(text):\n",
        "    bs = BeautifulSoup(text, 'html.parser')\n",
        "    \n",
        "    title = bs.find(class_=\"title\").text\n",
        "    content = bs.find(class_=\"article-content\").text\n",
        "    channel = bs.find(\"article\")[\"data-channel\"]\n",
        "    \n",
        "    \n",
        "    # tag = bs.find(class_=\"article-topics\").text\n",
        "    # match = re.compile('Topics:')\n",
        "    # tag = match.sub(r' ', tag)\n",
        "    topic_tags = bs.find('footer', class_=\"article-topics\").find_all('a')\n",
        "    topics = [t.get_text() for t in topic_tags]\n",
        "    tag = ' '.join(topics)\n",
        "    fig_count = len(bs.find_all('img'))\n",
        "    link_count = len(bs.find_all('a'))\n",
        "    \n",
        "    # Major channel: Lifestyle、Entertainment、Business、Social Media、Tech、World\n",
        "    is_lifestyle = 1 if channel == 'lifestyle' else 0\n",
        "    is_entertainment = 1 if channel == 'entertainment' else 0\n",
        "    is_bus = 1 if channel == 'bus' else 0\n",
        "    is_socmed = 1 if channel == 'socmed' else 0\n",
        "    is_tech = 1 if channel == 'tech' else 0\n",
        "    is_world = 1 if channel == 'world' else 0\n",
        "\n",
        "    ### Modify area\n",
        "    # word_count = len(text.split())\n",
        "    # capital_word_count = sum(map(str.isupper,text.split()))\n",
        "    sentence_count = count_sentence(text)\n",
        "    # unique_word_count = len(set(text.split()))\n",
        "    # htags_count = re.findall(r'(#w[A-Za-z0-9]*)', text)\n",
        "    words_in_quotes_count = count_words_in_quotes(text)\n",
        "    # stopwords_count = count_stopwords(text)\n",
        "    \n",
        "    time = bs.find('time')\n",
        "    timestamp, weekday, month = np.NaN, np.NaN, np.NaN\n",
        "    if time.has_attr('datetime'):\n",
        "        time = datetime.strptime(time['datetime'], '%a, %d %b %Y %H:%M:%S %z')\n",
        "        weekday = 0 if time.weekday() > 4 else 1\n",
        "        month = 1 if time.month > 5 else 0\n",
        "        timestamp = time.timestamp()\n",
        "\n",
        "    # Emotion\n",
        "    emo_val = 0\n",
        "    for v in list(te.get_emotion(title).values()):\n",
        "        if type(v)==int:\n",
        "            break\n",
        "        emo_val += v**2 if v!=0 else 0\n",
        "\n",
        "    return {\n",
        "            \"title\": title, \n",
        "            \"content\": content,\n",
        "            \"tag\":  tag,\n",
        "            \"channel\": channel, \n",
        "            \"fig_count\":  fig_count,\n",
        "            \"link_count\":  link_count,\n",
        "            \"weekday\":  weekday,\n",
        "            \"month\": month,\n",
        "            \"timestamp\":  timestamp,\n",
        "            \"word_count\": words_in_quotes_count,\n",
        "            \"sentence_count\": sentence_count,\n",
        "            \"emo_val\": emo_val,\n",
        "            \"is_lifestyle\": is_lifestyle,\n",
        "            \"is_entertainment\": is_entertainment,\n",
        "            \"is_bus\": is_bus,\n",
        "            \"is_socmed\": is_socmed,\n",
        "            \"is_tech\": is_tech,\n",
        "            \"is_world\": is_world,\n",
        "            }\n",
        "\n",
        "# data_preprocess(df.loc[0,'Page content'])"
      ],
      "id": "cfd87d95",
      "execution_count": null,
      "outputs": []
    },
    {
      "cell_type": "code",
      "metadata": {
        "id": "77d43b79"
      },
      "source": [
        "def preprocessor(text):\n",
        "    \"\"\"\n",
        "    - remove HTML tags\n",
        "    - remove punctuation\n",
        "    - convert to lowercase\n",
        "    \"\"\"\n",
        "    text = text#[0]\n",
        "    # remove HTML tags\n",
        "    text = BeautifulSoup(text, 'html.parser').get_text()\n",
        "    \n",
        "    # regex for matching emoticons, keep emoticons, ex: :), :-P, :-D\n",
        "    r = '(?::|;|=|X)(?:-)?(?:\\)|\\(|D|P)'\n",
        "    emoticons = re.findall(r, text)\n",
        "    text = re.sub(r, '', text)\n",
        "    \n",
        "    # convert to lowercase and append all emoticons behind (with space in between)\n",
        "    # replace('-','') removes nose of emoticons\n",
        "    text = re.sub('[\\W]+', ' ', text.lower()) + ' ' + ' '.join(emoticons).replace('-','')\n",
        "    return text"
      ],
      "id": "77d43b79",
      "execution_count": null,
      "outputs": []
    },
    {
      "cell_type": "code",
      "metadata": {
        "colab": {
          "base_uri": "https://localhost:8080/"
        },
        "id": "e648fd78",
        "outputId": "6e322427-e5fd-4d60-a158-3c5d7bba9530"
      },
      "source": [
        "nltk.download('stopwords')\n",
        "stop = stopwords.words('english')\n",
        "\n",
        "def tokenizer_stem_nostop(text):\n",
        "    \"\"\"\n",
        "    - tokenization\n",
        "    - word-stemming\n",
        "    - remove stop-word\n",
        "    \"\"\"\n",
        "    porter = PorterStemmer()\n",
        "    return [porter.stem(w) for w in re.split('\\s+', text.strip()) \\\n",
        "            if w not in stop and re.match('[a-zA-Z]+', w)]"
      ],
      "id": "e648fd78",
      "execution_count": null,
      "outputs": [
        {
          "output_type": "stream",
          "name": "stdout",
          "text": [
            "[nltk_data] Downloading package stopwords to /root/nltk_data...\n",
            "[nltk_data]   Package stopwords is already up-to-date!\n"
          ]
        }
      ]
    },
    {
      "cell_type": "code",
      "metadata": {
        "id": "e7f3c261"
      },
      "source": [
        "# Custom transformer for sklearn pipeline\n",
        "class ColumnExtractor(TransformerMixin, BaseEstimator):\n",
        "    def __init__(self, cols_from, cols_to):\n",
        "        self.cols_from = cols_from\n",
        "        self.cols_to = cols_to\n",
        "\n",
        "    def transform(self, X):\n",
        "        col_data = pd.DataFrame()\n",
        "        col_data = X.iloc[:, self.cols_from:self.cols_to]\n",
        "        return col_data.values\n",
        "\n",
        "    def fit(self, X, y=None):\n",
        "        return self"
      ],
      "id": "e7f3c261",
      "execution_count": null,
      "outputs": []
    },
    {
      "cell_type": "code",
      "metadata": {
        "colab": {
          "base_uri": "https://localhost:8080/",
          "height": 203
        },
        "id": "19876e4d",
        "outputId": "3682cc56-903b-4d0c-85ea-f9c837a21cbb"
      },
      "source": [
        "attribute = [\"title\", \"content\", \"tag\",\n",
        "            \"channel\", \"fig_count\", \"link_count\",\n",
        "            \"weekday\", \"month\", \"timestamp\",\n",
        "            \"word_count\", \"sentence_count\", \"emo_val\", \n",
        "            \"is_lifestyle\", \"is_entertainment\", \"is_bus\", \"is_socmed\", \"is_tech\", \"is_world\"]\n",
        "df = pd.read_csv('../data/train.csv')\n",
        "df.head()"
      ],
      "id": "19876e4d",
      "execution_count": null,
      "outputs": [
        {
          "output_type": "execute_result",
          "data": {
            "text/html": [
              "<div>\n",
              "<style scoped>\n",
              "    .dataframe tbody tr th:only-of-type {\n",
              "        vertical-align: middle;\n",
              "    }\n",
              "\n",
              "    .dataframe tbody tr th {\n",
              "        vertical-align: top;\n",
              "    }\n",
              "\n",
              "    .dataframe thead th {\n",
              "        text-align: right;\n",
              "    }\n",
              "</style>\n",
              "<table border=\"1\" class=\"dataframe\">\n",
              "  <thead>\n",
              "    <tr style=\"text-align: right;\">\n",
              "      <th></th>\n",
              "      <th>Id</th>\n",
              "      <th>Popularity</th>\n",
              "      <th>Page content</th>\n",
              "    </tr>\n",
              "  </thead>\n",
              "  <tbody>\n",
              "    <tr>\n",
              "      <th>0</th>\n",
              "      <td>0</td>\n",
              "      <td>-1</td>\n",
              "      <td>&lt;html&gt;&lt;head&gt;&lt;div class=\"article-info\"&gt; &lt;span c...</td>\n",
              "    </tr>\n",
              "    <tr>\n",
              "      <th>1</th>\n",
              "      <td>1</td>\n",
              "      <td>1</td>\n",
              "      <td>&lt;html&gt;&lt;head&gt;&lt;div class=\"article-info\"&gt;&lt;span cl...</td>\n",
              "    </tr>\n",
              "    <tr>\n",
              "      <th>2</th>\n",
              "      <td>2</td>\n",
              "      <td>1</td>\n",
              "      <td>&lt;html&gt;&lt;head&gt;&lt;div class=\"article-info\"&gt;&lt;span cl...</td>\n",
              "    </tr>\n",
              "    <tr>\n",
              "      <th>3</th>\n",
              "      <td>3</td>\n",
              "      <td>-1</td>\n",
              "      <td>&lt;html&gt;&lt;head&gt;&lt;div class=\"article-info\"&gt;&lt;span cl...</td>\n",
              "    </tr>\n",
              "    <tr>\n",
              "      <th>4</th>\n",
              "      <td>4</td>\n",
              "      <td>-1</td>\n",
              "      <td>&lt;html&gt;&lt;head&gt;&lt;div class=\"article-info\"&gt;&lt;span cl...</td>\n",
              "    </tr>\n",
              "  </tbody>\n",
              "</table>\n",
              "</div>"
            ],
            "text/plain": [
              "   Id  Popularity                                       Page content\n",
              "0   0          -1  <html><head><div class=\"article-info\"> <span c...\n",
              "1   1           1  <html><head><div class=\"article-info\"><span cl...\n",
              "2   2           1  <html><head><div class=\"article-info\"><span cl...\n",
              "3   3          -1  <html><head><div class=\"article-info\"><span cl...\n",
              "4   4          -1  <html><head><div class=\"article-info\"><span cl..."
            ]
          },
          "metadata": {},
          "execution_count": 16
        }
      ]
    },
    {
      "cell_type": "code",
      "metadata": {
        "colab": {
          "base_uri": "https://localhost:8080/",
          "height": 744
        },
        "id": "5d17181c",
        "outputId": "229366db-4477-414e-a91d-d6c82f81778b"
      },
      "source": [
        "nltk.download('punkt')\n",
        "nltk.download('stopwords')\n",
        "\n",
        "train_data = pd.DataFrame(columns=attribute)\n",
        "train_label = pd.DataFrame(columns=[\"Popularity\"])\n",
        "for i in trange(len(df)):\n",
        "    train_data = train_data.append(data_preprocess(df.loc[i,'Page content']), ignore_index=True)\n",
        "    train_label = train_label.append({\"Popularity\": df.loc[i, \"Popularity\"]}, ignore_index=True)\n",
        "    \n",
        "train_data.head()"
      ],
      "id": "5d17181c",
      "execution_count": null,
      "outputs": [
        {
          "output_type": "stream",
          "name": "stdout",
          "text": [
            "[nltk_data] Downloading package punkt to /root/nltk_data...\n",
            "[nltk_data]   Package punkt is already up-to-date!\n",
            "[nltk_data] Downloading package stopwords to /root/nltk_data...\n",
            "[nltk_data]   Package stopwords is already up-to-date!\n"
          ]
        },
        {
          "output_type": "stream",
          "name": "stderr",
          "text": [
            "100%|██████████| 27643/27643 [36:27<00:00, 12.64it/s]\n"
          ]
        },
        {
          "output_type": "execute_result",
          "data": {
            "text/html": [
              "<div>\n",
              "<style scoped>\n",
              "    .dataframe tbody tr th:only-of-type {\n",
              "        vertical-align: middle;\n",
              "    }\n",
              "\n",
              "    .dataframe tbody tr th {\n",
              "        vertical-align: top;\n",
              "    }\n",
              "\n",
              "    .dataframe thead th {\n",
              "        text-align: right;\n",
              "    }\n",
              "</style>\n",
              "<table border=\"1\" class=\"dataframe\">\n",
              "  <thead>\n",
              "    <tr style=\"text-align: right;\">\n",
              "      <th></th>\n",
              "      <th>title</th>\n",
              "      <th>content</th>\n",
              "      <th>tag</th>\n",
              "      <th>channel</th>\n",
              "      <th>fig_count</th>\n",
              "      <th>link_count</th>\n",
              "      <th>weekday</th>\n",
              "      <th>month</th>\n",
              "      <th>timestamp</th>\n",
              "      <th>word_count</th>\n",
              "      <th>sentence_count</th>\n",
              "      <th>emo_val</th>\n",
              "      <th>is_lifestyle</th>\n",
              "      <th>is_entertainment</th>\n",
              "      <th>is_bus</th>\n",
              "      <th>is_socmed</th>\n",
              "      <th>is_tech</th>\n",
              "      <th>is_world</th>\n",
              "    </tr>\n",
              "  </thead>\n",
              "  <tbody>\n",
              "    <tr>\n",
              "      <th>0</th>\n",
              "      <td>NASA's Grand Challenge: Stop Asteroids From De...</td>\n",
              "      <td>There may be killer asteroids headed for Eart...</td>\n",
              "      <td>Asteroid Asteroids challenge Earth Space U.S. ...</td>\n",
              "      <td>world</td>\n",
              "      <td>1</td>\n",
              "      <td>22</td>\n",
              "      <td>1</td>\n",
              "      <td>1</td>\n",
              "      <td>1.371654e+09</td>\n",
              "      <td>1</td>\n",
              "      <td>84</td>\n",
              "      <td>0.500</td>\n",
              "      <td>0</td>\n",
              "      <td>0</td>\n",
              "      <td>0</td>\n",
              "      <td>0</td>\n",
              "      <td>0</td>\n",
              "      <td>1</td>\n",
              "    </tr>\n",
              "    <tr>\n",
              "      <th>1</th>\n",
              "      <td>Google's New Open Source Patent Pledge: We Won...</td>\n",
              "      <td>Google took a stand of sorts against patent-l...</td>\n",
              "      <td>Apps and Software Google open source opn pledg...</td>\n",
              "      <td>tech</td>\n",
              "      <td>2</td>\n",
              "      <td>18</td>\n",
              "      <td>1</td>\n",
              "      <td>0</td>\n",
              "      <td>1.364492e+09</td>\n",
              "      <td>1</td>\n",
              "      <td>54</td>\n",
              "      <td>0.625</td>\n",
              "      <td>0</td>\n",
              "      <td>0</td>\n",
              "      <td>0</td>\n",
              "      <td>0</td>\n",
              "      <td>1</td>\n",
              "      <td>0</td>\n",
              "    </tr>\n",
              "    <tr>\n",
              "      <th>2</th>\n",
              "      <td>Ballin': 2014 NFL Draft Picks Get to Choose Th...</td>\n",
              "      <td>You've spend countless hours training to be a...</td>\n",
              "      <td>Entertainment NFL NFL Draft Sports Television</td>\n",
              "      <td>entertainment</td>\n",
              "      <td>2</td>\n",
              "      <td>11</td>\n",
              "      <td>1</td>\n",
              "      <td>0</td>\n",
              "      <td>1.399490e+09</td>\n",
              "      <td>26</td>\n",
              "      <td>300</td>\n",
              "      <td>0.000</td>\n",
              "      <td>0</td>\n",
              "      <td>1</td>\n",
              "      <td>0</td>\n",
              "      <td>0</td>\n",
              "      <td>0</td>\n",
              "      <td>0</td>\n",
              "    </tr>\n",
              "    <tr>\n",
              "      <th>3</th>\n",
              "      <td>Cameraperson Fails Deliver Slapstick Laughs</td>\n",
              "      <td>Tired of the same old sports fails and ne...</td>\n",
              "      <td>Sports Video Videos Watercooler</td>\n",
              "      <td>watercooler</td>\n",
              "      <td>1</td>\n",
              "      <td>13</td>\n",
              "      <td>1</td>\n",
              "      <td>1</td>\n",
              "      <td>1.381458e+09</td>\n",
              "      <td>21</td>\n",
              "      <td>214</td>\n",
              "      <td>0.000</td>\n",
              "      <td>0</td>\n",
              "      <td>0</td>\n",
              "      <td>0</td>\n",
              "      <td>0</td>\n",
              "      <td>0</td>\n",
              "      <td>0</td>\n",
              "    </tr>\n",
              "    <tr>\n",
              "      <th>4</th>\n",
              "      <td>NFL Star Helps Young Fan Prove Friendship With...</td>\n",
              "      <td>At 6-foot-5 and 298 pounds, All-Pro NFL star ...</td>\n",
              "      <td>Entertainment instagram instagram video NFL Sp...</td>\n",
              "      <td>entertainment</td>\n",
              "      <td>52</td>\n",
              "      <td>16</td>\n",
              "      <td>1</td>\n",
              "      <td>0</td>\n",
              "      <td>1.397706e+09</td>\n",
              "      <td>3</td>\n",
              "      <td>691</td>\n",
              "      <td>0.250</td>\n",
              "      <td>0</td>\n",
              "      <td>1</td>\n",
              "      <td>0</td>\n",
              "      <td>0</td>\n",
              "      <td>0</td>\n",
              "      <td>0</td>\n",
              "    </tr>\n",
              "  </tbody>\n",
              "</table>\n",
              "</div>"
            ],
            "text/plain": [
              "                                               title  ... is_world\n",
              "0  NASA's Grand Challenge: Stop Asteroids From De...  ...        1\n",
              "1  Google's New Open Source Patent Pledge: We Won...  ...        0\n",
              "2  Ballin': 2014 NFL Draft Picks Get to Choose Th...  ...        0\n",
              "3        Cameraperson Fails Deliver Slapstick Laughs  ...        0\n",
              "4  NFL Star Helps Young Fan Prove Friendship With...  ...        0\n",
              "\n",
              "[5 rows x 18 columns]"
            ]
          },
          "metadata": {},
          "execution_count": 17
        }
      ]
    },
    {
      "cell_type": "code",
      "metadata": {
        "colab": {
          "base_uri": "https://localhost:8080/",
          "height": 257
        },
        "id": "26d3f6c6",
        "outputId": "8e90ef8a-423c-42a6-da78-872b67b6f157"
      },
      "source": [
        "label_le = LabelEncoder()\n",
        "train_data[\"channel\"] = label_le.fit_transform(train_data[\"channel\"].values)\n",
        "\n",
        "old_data = train_data\n",
        "X_train, X_test, y_train, y_test = train_test_split(train_data.drop(columns=['title','content', 'tag']), train_label['Popularity'].astype('int'),\n",
        "                                                    test_size=0.2, random_state=0)\n",
        "print(X_train.shape, y_train.shape)\n",
        "print(X_test.shape, y_test.shape)\n",
        "X_train.head()"
      ],
      "id": "26d3f6c6",
      "execution_count": null,
      "outputs": [
        {
          "output_type": "stream",
          "name": "stdout",
          "text": [
            "(22114, 15) (22114,)\n",
            "(5529, 15) (5529,)\n"
          ]
        },
        {
          "output_type": "execute_result",
          "data": {
            "text/html": [
              "<div>\n",
              "<style scoped>\n",
              "    .dataframe tbody tr th:only-of-type {\n",
              "        vertical-align: middle;\n",
              "    }\n",
              "\n",
              "    .dataframe tbody tr th {\n",
              "        vertical-align: top;\n",
              "    }\n",
              "\n",
              "    .dataframe thead th {\n",
              "        text-align: right;\n",
              "    }\n",
              "</style>\n",
              "<table border=\"1\" class=\"dataframe\">\n",
              "  <thead>\n",
              "    <tr style=\"text-align: right;\">\n",
              "      <th></th>\n",
              "      <th>channel</th>\n",
              "      <th>fig_count</th>\n",
              "      <th>link_count</th>\n",
              "      <th>weekday</th>\n",
              "      <th>month</th>\n",
              "      <th>timestamp</th>\n",
              "      <th>word_count</th>\n",
              "      <th>sentence_count</th>\n",
              "      <th>emo_val</th>\n",
              "      <th>is_lifestyle</th>\n",
              "      <th>is_entertainment</th>\n",
              "      <th>is_bus</th>\n",
              "      <th>is_socmed</th>\n",
              "      <th>is_tech</th>\n",
              "      <th>is_world</th>\n",
              "    </tr>\n",
              "  </thead>\n",
              "  <tbody>\n",
              "    <tr>\n",
              "      <th>3492</th>\n",
              "      <td>3</td>\n",
              "      <td>2</td>\n",
              "      <td>15</td>\n",
              "      <td>1</td>\n",
              "      <td>1</td>\n",
              "      <td>1.383328e+09</td>\n",
              "      <td>2</td>\n",
              "      <td>40</td>\n",
              "      <td>0.5000</td>\n",
              "      <td>0</td>\n",
              "      <td>0</td>\n",
              "      <td>0</td>\n",
              "      <td>0</td>\n",
              "      <td>0</td>\n",
              "      <td>0</td>\n",
              "    </tr>\n",
              "    <tr>\n",
              "      <th>9375</th>\n",
              "      <td>3</td>\n",
              "      <td>2</td>\n",
              "      <td>8</td>\n",
              "      <td>1</td>\n",
              "      <td>1</td>\n",
              "      <td>1.409834e+09</td>\n",
              "      <td>2</td>\n",
              "      <td>45</td>\n",
              "      <td>0.0000</td>\n",
              "      <td>0</td>\n",
              "      <td>0</td>\n",
              "      <td>0</td>\n",
              "      <td>0</td>\n",
              "      <td>0</td>\n",
              "      <td>0</td>\n",
              "    </tr>\n",
              "    <tr>\n",
              "      <th>17129</th>\n",
              "      <td>20</td>\n",
              "      <td>1</td>\n",
              "      <td>14</td>\n",
              "      <td>1</td>\n",
              "      <td>1</td>\n",
              "      <td>1.387937e+09</td>\n",
              "      <td>1</td>\n",
              "      <td>58</td>\n",
              "      <td>0.5578</td>\n",
              "      <td>0</td>\n",
              "      <td>0</td>\n",
              "      <td>0</td>\n",
              "      <td>0</td>\n",
              "      <td>0</td>\n",
              "      <td>0</td>\n",
              "    </tr>\n",
              "    <tr>\n",
              "      <th>27200</th>\n",
              "      <td>31</td>\n",
              "      <td>1</td>\n",
              "      <td>15</td>\n",
              "      <td>1</td>\n",
              "      <td>1</td>\n",
              "      <td>1.413211e+09</td>\n",
              "      <td>1</td>\n",
              "      <td>33</td>\n",
              "      <td>0.0000</td>\n",
              "      <td>0</td>\n",
              "      <td>0</td>\n",
              "      <td>0</td>\n",
              "      <td>0</td>\n",
              "      <td>0</td>\n",
              "      <td>0</td>\n",
              "    </tr>\n",
              "    <tr>\n",
              "      <th>22507</th>\n",
              "      <td>28</td>\n",
              "      <td>21</td>\n",
              "      <td>39</td>\n",
              "      <td>0</td>\n",
              "      <td>0</td>\n",
              "      <td>1.358004e+09</td>\n",
              "      <td>1</td>\n",
              "      <td>352</td>\n",
              "      <td>1.0000</td>\n",
              "      <td>0</td>\n",
              "      <td>0</td>\n",
              "      <td>0</td>\n",
              "      <td>0</td>\n",
              "      <td>1</td>\n",
              "      <td>0</td>\n",
              "    </tr>\n",
              "  </tbody>\n",
              "</table>\n",
              "</div>"
            ],
            "text/plain": [
              "       channel fig_count link_count weekday  ... is_bus  is_socmed is_tech is_world\n",
              "3492         3         2         15       1  ...      0          0       0        0\n",
              "9375         3         2          8       1  ...      0          0       0        0\n",
              "17129       20         1         14       1  ...      0          0       0        0\n",
              "27200       31         1         15       1  ...      0          0       0        0\n",
              "22507       28        21         39       0  ...      0          0       1        0\n",
              "\n",
              "[5 rows x 15 columns]"
            ]
          },
          "metadata": {},
          "execution_count": 18
        }
      ]
    },
    {
      "cell_type": "code",
      "metadata": {
        "id": "a31ca364",
        "colab": {
          "base_uri": "https://localhost:8080/"
        },
        "outputId": "d58d0c6a-c719-4882-afdf-6a716331d782"
      },
      "source": [
        "# param\n",
        "param_est = [50, 200, 500, 800]\n",
        "param_depth = [2, 5, 10, 15]\n",
        "param_grid = [{'clf__n_estimators': param_est, \n",
        "        'clf__max_depth': param_depth}]\n",
        "\n",
        "pipe = Pipeline([ \n",
        "                    ('sc', StandardScaler()),\n",
        "                    (\"imr\", SimpleImputer(missing_values = np.NaN, strategy = 'most_frequent')),\n",
        "                    ('clf', RandomForestClassifier(n_jobs=-1, random_state=1))\n",
        "                ])\n",
        "\n",
        "gs = GridSearchCV(\n",
        "    estimator = pipe, \n",
        "    param_grid = param_grid, \n",
        "    scoring = 'roc_auc',\n",
        "    cv = 10\n",
        ")\n",
        "\n",
        "gs = gs.fit(X_train, y_train)\n",
        "print('[SVC: grid search]')\n",
        "print('Validation roc_auc score: %.3f' % gs.best_score_)\n",
        "print(gs.best_params_)\n",
        "\n",
        "best_clf = gs.best_estimator_"
      ],
      "id": "a31ca364",
      "execution_count": null,
      "outputs": [
        {
          "output_type": "stream",
          "name": "stdout",
          "text": [
            "[SVC: grid search]\n",
            "Validation roc_auc score: 0.589\n",
            "{'clf__max_depth': 10, 'clf__n_estimators': 500}\n"
          ]
        }
      ]
    },
    {
      "cell_type": "code",
      "metadata": {
        "id": "7d75ddf2",
        "colab": {
          "base_uri": "https://localhost:8080/",
          "height": 626
        },
        "outputId": "e2dd638b-8639-42fc-ed9e-4547c20e5db6"
      },
      "source": [
        "tmpx_train, tmpx_test, tmpy_train, tmpy_test = train_test_split(train_data.drop(columns=['content']), train_label['Popularity'].astype('int'),\n",
        "                                                    test_size=0.2, random_state=0)\n",
        "tmpx_train.head()"
      ],
      "id": "7d75ddf2",
      "execution_count": null,
      "outputs": [
        {
          "output_type": "execute_result",
          "data": {
            "text/html": [
              "<div>\n",
              "<style scoped>\n",
              "    .dataframe tbody tr th:only-of-type {\n",
              "        vertical-align: middle;\n",
              "    }\n",
              "\n",
              "    .dataframe tbody tr th {\n",
              "        vertical-align: top;\n",
              "    }\n",
              "\n",
              "    .dataframe thead th {\n",
              "        text-align: right;\n",
              "    }\n",
              "</style>\n",
              "<table border=\"1\" class=\"dataframe\">\n",
              "  <thead>\n",
              "    <tr style=\"text-align: right;\">\n",
              "      <th></th>\n",
              "      <th>title</th>\n",
              "      <th>tag</th>\n",
              "      <th>channel</th>\n",
              "      <th>fig_count</th>\n",
              "      <th>link_count</th>\n",
              "      <th>weekday</th>\n",
              "      <th>month</th>\n",
              "      <th>timestamp</th>\n",
              "      <th>word_count</th>\n",
              "      <th>sentence_count</th>\n",
              "      <th>emo_val</th>\n",
              "      <th>is_lifestyle</th>\n",
              "      <th>is_entertainment</th>\n",
              "      <th>is_bus</th>\n",
              "      <th>is_socmed</th>\n",
              "      <th>is_tech</th>\n",
              "      <th>is_world</th>\n",
              "    </tr>\n",
              "  </thead>\n",
              "  <tbody>\n",
              "    <tr>\n",
              "      <th>3492</th>\n",
              "      <td>Analyst: iPad Air Sales May Top 3 Million This...</td>\n",
              "      <td>Apple Business Gadgets iPad iPad Air iPad Mini...</td>\n",
              "      <td>3</td>\n",
              "      <td>2</td>\n",
              "      <td>15</td>\n",
              "      <td>1</td>\n",
              "      <td>1</td>\n",
              "      <td>1.383328e+09</td>\n",
              "      <td>2</td>\n",
              "      <td>40</td>\n",
              "      <td>0.5000</td>\n",
              "      <td>0</td>\n",
              "      <td>0</td>\n",
              "      <td>0</td>\n",
              "      <td>0</td>\n",
              "      <td>0</td>\n",
              "      <td>0</td>\n",
              "    </tr>\n",
              "    <tr>\n",
              "      <th>9375</th>\n",
              "      <td>Vice Raises $500 Million in Its Quest for 'Tot...</td>\n",
              "      <td>Business Media VICE Media</td>\n",
              "      <td>3</td>\n",
              "      <td>2</td>\n",
              "      <td>8</td>\n",
              "      <td>1</td>\n",
              "      <td>1</td>\n",
              "      <td>1.409834e+09</td>\n",
              "      <td>2</td>\n",
              "      <td>45</td>\n",
              "      <td>0.0000</td>\n",
              "      <td>0</td>\n",
              "      <td>0</td>\n",
              "      <td>0</td>\n",
              "      <td>0</td>\n",
              "      <td>0</td>\n",
              "      <td>0</td>\n",
              "    </tr>\n",
              "    <tr>\n",
              "      <th>17129</th>\n",
              "      <td>Twitter Shares Soar to Record on Optimism for ...</td>\n",
              "      <td>Advertising Business Mobile Twitter</td>\n",
              "      <td>20</td>\n",
              "      <td>1</td>\n",
              "      <td>14</td>\n",
              "      <td>1</td>\n",
              "      <td>1</td>\n",
              "      <td>1.387937e+09</td>\n",
              "      <td>1</td>\n",
              "      <td>58</td>\n",
              "      <td>0.5578</td>\n",
              "      <td>0</td>\n",
              "      <td>0</td>\n",
              "      <td>0</td>\n",
              "      <td>0</td>\n",
              "      <td>0</td>\n",
              "      <td>0</td>\n",
              "    </tr>\n",
              "    <tr>\n",
              "      <th>27200</th>\n",
              "      <td>John Oliver Is Leading the War Against Pumpkin...</td>\n",
              "      <td>Coffee John Oliver Last Week Tonight With John...</td>\n",
              "      <td>31</td>\n",
              "      <td>1</td>\n",
              "      <td>15</td>\n",
              "      <td>1</td>\n",
              "      <td>1</td>\n",
              "      <td>1.413211e+09</td>\n",
              "      <td>1</td>\n",
              "      <td>33</td>\n",
              "      <td>0.0000</td>\n",
              "      <td>0</td>\n",
              "      <td>0</td>\n",
              "      <td>0</td>\n",
              "      <td>0</td>\n",
              "      <td>0</td>\n",
              "      <td>0</td>\n",
              "    </tr>\n",
              "    <tr>\n",
              "      <th>22507</th>\n",
              "      <td>10 Top News Stories This Week</td>\n",
              "      <td>CES Tech</td>\n",
              "      <td>28</td>\n",
              "      <td>21</td>\n",
              "      <td>39</td>\n",
              "      <td>0</td>\n",
              "      <td>0</td>\n",
              "      <td>1.358004e+09</td>\n",
              "      <td>1</td>\n",
              "      <td>352</td>\n",
              "      <td>1.0000</td>\n",
              "      <td>0</td>\n",
              "      <td>0</td>\n",
              "      <td>0</td>\n",
              "      <td>0</td>\n",
              "      <td>1</td>\n",
              "      <td>0</td>\n",
              "    </tr>\n",
              "  </tbody>\n",
              "</table>\n",
              "</div>"
            ],
            "text/plain": [
              "                                                   title  ... is_world\n",
              "3492   Analyst: iPad Air Sales May Top 3 Million This...  ...        0\n",
              "9375   Vice Raises $500 Million in Its Quest for 'Tot...  ...        0\n",
              "17129  Twitter Shares Soar to Record on Optimism for ...  ...        0\n",
              "27200  John Oliver Is Leading the War Against Pumpkin...  ...        0\n",
              "22507                      10 Top News Stories This Week  ...        0\n",
              "\n",
              "[5 rows x 17 columns]"
            ]
          },
          "metadata": {},
          "execution_count": 20
        }
      ]
    },
    {
      "cell_type": "code",
      "metadata": {
        "id": "427f76b4",
        "colab": {
          "base_uri": "https://localhost:8080/"
        },
        "outputId": "6787ecd1-185b-4f76-a144-78e632e4f607"
      },
      "source": [
        "param_est = [800, 1000, 1200]\n",
        "param_depth = [5, 15, 20]\n",
        "param_grid = [{'clf__n_estimators': param_est, \n",
        "               'clf__max_depth': param_depth}]\n",
        "param_grid"
      ],
      "id": "427f76b4",
      "execution_count": null,
      "outputs": [
        {
          "output_type": "execute_result",
          "data": {
            "text/plain": [
              "[{'clf__max_depth': [5, 15, 20], 'clf__n_estimators': [800, 1000, 1200]}]"
            ]
          },
          "metadata": {},
          "execution_count": 21
        }
      ]
    },
    {
      "cell_type": "code",
      "metadata": {
        "colab": {
          "base_uri": "https://localhost:8080/"
        },
        "id": "ECJwr_gBGReM",
        "outputId": "8eec143d-155b-40d2-fce7-ddfc1e2fa219"
      },
      "source": [
        "type(tmpx_train)"
      ],
      "id": "ECJwr_gBGReM",
      "execution_count": null,
      "outputs": [
        {
          "output_type": "execute_result",
          "data": {
            "text/plain": [
              "pandas.core.frame.DataFrame"
            ]
          },
          "metadata": {},
          "execution_count": 23
        }
      ]
    },
    {
      "cell_type": "code",
      "metadata": {
        "id": "ef4303e7",
        "colab": {
          "base_uri": "https://localhost:8080/"
        },
        "outputId": "ccb47a69-9b9b-40a8-df3e-06d3ae8690aa"
      },
      "source": [
        "from sklearn.compose import ColumnTransformer\n",
        "\n",
        "numeric_features = ['channel', 'fig_count', 'link_count',\n",
        "                    'weekday', 'month', 'timestamp', \n",
        "                    'word_count', 'sentence_count', 'emo_val', \n",
        "                    \"is_lifestyle\", \"is_entertainment\", \"is_bus\", \"is_socmed\", \"is_tech\", \"is_world\"]\n",
        "numeric_transformer = Pipeline([ \n",
        "                                ('sc', StandardScaler()),\n",
        "                                (\"imr\", SimpleImputer(missing_values = np.NaN, strategy = 'most_frequent'))\n",
        "                            ])\n",
        "########\n",
        "# categorical_features = ['title']\n",
        "# categorical_transformer = TfidfVectorizer(preprocessor=preprocessor, tokenizer=tokenizer_stem_nostop)\n",
        "\n",
        "# col_preprocessor = ColumnTransformer(transformers=[\n",
        "#         (\"num\", numeric_transformer, numeric_features), \n",
        "#         (\"cat\", categorical_transformer, categorical_features)\n",
        "# ])\n",
        "\n",
        "# pipe_1 = Pipeline([(\"preprocessor\", col_preprocessor),\n",
        "#                 ('clf', RandomForestClassifier(n_jobs=-1, random_state=1, n_estimators=200, max_depth=10)) ])\n",
        "\n",
        "# pipe_1.fit(tmpx_train, tmpy_train)\n",
        "# print(\"model score: %.3f\" % pipe_1.score(tmpx_test, tmpy_test))\n",
        "########\n",
        "\n",
        "# tf = TfidfVectorizer(preprocessor=preprocessor, tokenizer=tokenizer_stem_nostop)\n",
        "tf = HashingVectorizer(n_features=2**4,\n",
        "                        preprocessor=preprocessor,\n",
        "                        tokenizer=tokenizer_stem_nostop)\n",
        "text_trans = tf.fit_transform(tmpx_train['tag']).toarray()\n",
        "text_trans_2 = tf.fit_transform(tmpx_train['title']).toarray()\n",
        "\n",
        "col_preprocessor = ColumnTransformer(transformers=[(\"num\", numeric_transformer, numeric_features)])\n",
        "num_trans = col_preprocessor.fit_transform(tmpx_train)\n",
        "\n",
        "tmpx_train = np.hstack((text_trans, text_trans_2, num_trans))\n",
        "print(\"x_train shape:\", tmpx_train.shape)\n",
        "\n",
        "pipe = Pipeline([('clf', RandomForestClassifier(n_jobs=-1, random_state=1))]) #, n_estimators=200, max_depth=10)\n",
        "\n",
        "gs = GridSearchCV(\n",
        "    estimator = pipe,\n",
        "    param_grid = param_grid, \n",
        "    scoring = 'roc_auc',\n",
        "    cv = 10\n",
        ")\n",
        "\n",
        "gs = gs.fit(tmpx_train, tmpy_train)\n",
        "print('[SVC: grid search]')\n",
        "print('Validation roc_auc score: %.3f' % gs.best_score_)\n",
        "print(gs.best_params_)\n",
        "\n",
        "best_clf = gs.best_estimator_"
      ],
      "id": "ef4303e7",
      "execution_count": null,
      "outputs": [
        {
          "output_type": "stream",
          "name": "stderr",
          "text": [
            "/usr/local/lib/python3.7/dist-packages/sklearn/feature_extraction/text.py:507: UserWarning: The parameter 'token_pattern' will not be used since 'tokenizer' is not None'\n",
            "  warnings.warn(\"The parameter 'token_pattern' will not be used\"\n"
          ]
        },
        {
          "output_type": "stream",
          "name": "stdout",
          "text": [
            "x_train shape: (22114, 47)\n",
            "[SVC: grid search]\n",
            "Validation roc_auc score: 0.590\n",
            "{'clf__max_depth': 20, 'clf__n_estimators': 1000}\n"
          ]
        }
      ]
    },
    {
      "cell_type": "code",
      "metadata": {
        "id": "b56e9ae9",
        "colab": {
          "base_uri": "https://localhost:8080/",
          "height": 384
        },
        "outputId": "9095a5d1-da02-414d-c89d-abd1d5221cfa"
      },
      "source": [
        "# Best Model\n",
        "text_trans = tf.fit_transform(tmpx_test['tag']).toarray()\n",
        "text_trans_2 = tf.fit_transform(tmpx_test['title']).toarray()\n",
        "num_trans = col_preprocessor.fit_transform(tmpx_test)\n",
        "\n",
        "tmpx_test = np.hstack((text_trans, text_trans_2, num_trans))\n",
        "\n",
        "X_test = tmpx_test\n",
        "y_test = tmpy_test\n",
        "\n",
        "\n",
        "proba = best_clf.predict_proba(X_test)\n",
        "y_pred = best_clf.predict(X_test)\n",
        "print('Validation Accuracy: %.4f' % accuracy_score(y_test, y_pred))\n",
        "# Use feature 1 as positive label\n",
        "fpr, tpr, thresholds = roc_curve(y_test,\n",
        "                                 proba[:, 1],\n",
        "                                pos_label=1)\n",
        "print('AUC: %.4f' % auc(fpr, tpr))\n",
        "\n",
        "\n",
        "plt.plot(fpr, tpr, lw=2, label='Voting Classfier')\n",
        "plt.plot([0, 1], [0, 1], linestyle='--', color='gray', label='Random guessing')\n",
        "plt.plot([0, 0, 1], [0, 1, 1], linestyle='-.', alpha=0.5, color='red', label='Perfect')\n",
        "\n",
        "plt.xlim([-0.05, 1.05])\n",
        "plt.ylim([-0.05, 1.05])\n",
        "plt.xlabel('FPR')\n",
        "plt.ylabel('TPR')\n",
        "plt.title('ROC Curve')\n",
        "plt.legend(loc=\"lower right\")\n",
        "plt.tight_layout()\n",
        "plt.legend(loc=4, prop={'size': 18})\n",
        "plt.show()"
      ],
      "id": "b56e9ae9",
      "execution_count": null,
      "outputs": [
        {
          "output_type": "stream",
          "name": "stderr",
          "text": [
            "/usr/local/lib/python3.7/dist-packages/sklearn/feature_extraction/text.py:507: UserWarning: The parameter 'token_pattern' will not be used since 'tokenizer' is not None'\n",
            "  warnings.warn(\"The parameter 'token_pattern' will not be used\"\n"
          ]
        },
        {
          "output_type": "stream",
          "name": "stdout",
          "text": [
            "Validation Accuracy: 0.5618\n",
            "AUC: 0.5867\n"
          ]
        },
        {
          "output_type": "display_data",
          "data": {
            "image/png": "[encoded data removed]",
            "text/plain": [
              "<Figure size 432x288 with 1 Axes>"
            ]
          },
          "metadata": {
            "needs_background": "light"
          }
        }
      ]
    },
    {
      "cell_type": "code",
      "metadata": {
        "id": "425357a2",
        "colab": {
          "base_uri": "https://localhost:8080/",
          "height": 626
        },
        "outputId": "4f7c6506-477f-4660-f7a1-4cd8315fc6aa"
      },
      "source": [
        "df_real = pd.read_csv('../data/test.csv')\n",
        "\n",
        "test_data = pd.DataFrame(columns=attribute)\n",
        "for i in trange(len(df_real)):\n",
        "    test_data = test_data.append(data_preprocess(df_real.loc[i,'Page content']), ignore_index=True)\n",
        "    \n",
        "label_le = LabelEncoder()\n",
        "test_data[\"channel\"] = label_le.fit_transform(test_data[\"channel\"].values)\n",
        "test_data.head()"
      ],
      "id": "425357a2",
      "execution_count": null,
      "outputs": [
        {
          "output_type": "stream",
          "name": "stderr",
          "text": [
            "100%|██████████| 11847/11847 [13:54<00:00, 14.20it/s]\n"
          ]
        },
        {
          "output_type": "execute_result",
          "data": {
            "text/html": [
              "<div>\n",
              "<style scoped>\n",
              "    .dataframe tbody tr th:only-of-type {\n",
              "        vertical-align: middle;\n",
              "    }\n",
              "\n",
              "    .dataframe tbody tr th {\n",
              "        vertical-align: top;\n",
              "    }\n",
              "\n",
              "    .dataframe thead th {\n",
              "        text-align: right;\n",
              "    }\n",
              "</style>\n",
              "<table border=\"1\" class=\"dataframe\">\n",
              "  <thead>\n",
              "    <tr style=\"text-align: right;\">\n",
              "      <th></th>\n",
              "      <th>title</th>\n",
              "      <th>content</th>\n",
              "      <th>tag</th>\n",
              "      <th>channel</th>\n",
              "      <th>fig_count</th>\n",
              "      <th>link_count</th>\n",
              "      <th>weekday</th>\n",
              "      <th>month</th>\n",
              "      <th>timestamp</th>\n",
              "      <th>word_count</th>\n",
              "      <th>sentence_count</th>\n",
              "      <th>emo_val</th>\n",
              "      <th>is_lifestyle</th>\n",
              "      <th>is_entertainment</th>\n",
              "      <th>is_bus</th>\n",
              "      <th>is_socmed</th>\n",
              "      <th>is_tech</th>\n",
              "      <th>is_world</th>\n",
              "    </tr>\n",
              "  </thead>\n",
              "  <tbody>\n",
              "    <tr>\n",
              "      <th>0</th>\n",
              "      <td>Soccer Star Gets Twitter Death Threats After T...</td>\n",
              "      <td>Note to humanity: One Direction fandom ai...</td>\n",
              "      <td>Entertainment Music One Direction soccer Sports</td>\n",
              "      <td>5</td>\n",
              "      <td>1</td>\n",
              "      <td>30</td>\n",
              "      <td>1</td>\n",
              "      <td>1</td>\n",
              "      <td>1.378756e+09</td>\n",
              "      <td>8</td>\n",
              "      <td>128</td>\n",
              "      <td>0.5578</td>\n",
              "      <td>0</td>\n",
              "      <td>1</td>\n",
              "      <td>0</td>\n",
              "      <td>0</td>\n",
              "      <td>0</td>\n",
              "      <td>0</td>\n",
              "    </tr>\n",
              "    <tr>\n",
              "      <th>1</th>\n",
              "      <td>Google Glass Gets an Accessory Store</td>\n",
              "      <td>Shortly after announcing a hardware upgrade f...</td>\n",
              "      <td>Gadgets glass Google Google Glass Google Glass...</td>\n",
              "      <td>25</td>\n",
              "      <td>3</td>\n",
              "      <td>13</td>\n",
              "      <td>1</td>\n",
              "      <td>1</td>\n",
              "      <td>1.383212e+09</td>\n",
              "      <td>2</td>\n",
              "      <td>44</td>\n",
              "      <td>0.0000</td>\n",
              "      <td>0</td>\n",
              "      <td>0</td>\n",
              "      <td>0</td>\n",
              "      <td>0</td>\n",
              "      <td>1</td>\n",
              "      <td>0</td>\n",
              "    </tr>\n",
              "    <tr>\n",
              "      <th>2</th>\n",
              "      <td>OUYA Gaming Console Already Sold Out on Amazon</td>\n",
              "      <td>Well, that was quick. Just hours after going ...</td>\n",
              "      <td>amazon amazon kindle Business Gaming</td>\n",
              "      <td>2</td>\n",
              "      <td>2</td>\n",
              "      <td>13</td>\n",
              "      <td>1</td>\n",
              "      <td>1</td>\n",
              "      <td>1.372165e+09</td>\n",
              "      <td>1</td>\n",
              "      <td>40</td>\n",
              "      <td>1.0000</td>\n",
              "      <td>0</td>\n",
              "      <td>0</td>\n",
              "      <td>0</td>\n",
              "      <td>0</td>\n",
              "      <td>0</td>\n",
              "      <td>0</td>\n",
              "    </tr>\n",
              "    <tr>\n",
              "      <th>3</th>\n",
              "      <td>'Between Two Ferns' Mocks Oscar Nominees</td>\n",
              "      <td>Between Two Ferns: Oscar Buzz Edition Part 1...</td>\n",
              "      <td>Between Two Ferns Movies The Oscars Oscars 201...</td>\n",
              "      <td>6</td>\n",
              "      <td>1</td>\n",
              "      <td>15</td>\n",
              "      <td>1</td>\n",
              "      <td>0</td>\n",
              "      <td>1.360726e+09</td>\n",
              "      <td>4</td>\n",
              "      <td>41</td>\n",
              "      <td>0.0000</td>\n",
              "      <td>0</td>\n",
              "      <td>0</td>\n",
              "      <td>0</td>\n",
              "      <td>0</td>\n",
              "      <td>0</td>\n",
              "      <td>0</td>\n",
              "    </tr>\n",
              "    <tr>\n",
              "      <th>4</th>\n",
              "      <td>'American Sniper' Trailer: Looks Like Eastwood...</td>\n",
              "      <td>Ever since The Hurt Locker it seems like ...</td>\n",
              "      <td>American Sniper Awards Bradley Cooper clint ea...</td>\n",
              "      <td>5</td>\n",
              "      <td>1</td>\n",
              "      <td>10</td>\n",
              "      <td>1</td>\n",
              "      <td>1</td>\n",
              "      <td>1.412300e+09</td>\n",
              "      <td>1</td>\n",
              "      <td>28</td>\n",
              "      <td>1.0000</td>\n",
              "      <td>0</td>\n",
              "      <td>1</td>\n",
              "      <td>0</td>\n",
              "      <td>0</td>\n",
              "      <td>0</td>\n",
              "      <td>0</td>\n",
              "    </tr>\n",
              "  </tbody>\n",
              "</table>\n",
              "</div>"
            ],
            "text/plain": [
              "                                               title  ... is_world\n",
              "0  Soccer Star Gets Twitter Death Threats After T...  ...        0\n",
              "1               Google Glass Gets an Accessory Store  ...        0\n",
              "2     OUYA Gaming Console Already Sold Out on Amazon  ...        0\n",
              "3           'Between Two Ferns' Mocks Oscar Nominees  ...        0\n",
              "4  'American Sniper' Trailer: Looks Like Eastwood...  ...        0\n",
              "\n",
              "[5 rows x 18 columns]"
            ]
          },
          "metadata": {},
          "execution_count": 26
        }
      ]
    },
    {
      "cell_type": "code",
      "metadata": {
        "id": "a972cc7a",
        "colab": {
          "base_uri": "https://localhost:8080/"
        },
        "outputId": "9276f5c7-65ff-4afa-a646-7e0688d074ec"
      },
      "source": [
        "# Run first if choose the second model(text+num)\n",
        "\n",
        "all_train = train_data.drop(columns=['content'])\n",
        "text_trans = tf.fit_transform(all_train['tag']).toarray()\n",
        "text_trans_2 = tf.fit_transform(all_train['title']).toarray()\n",
        "num_trans = col_preprocessor.fit_transform(all_train)\n",
        "\n",
        "all_train = np.hstack((text_trans, text_trans_2, num_trans))\n",
        "print(\"Train shape:\", all_train.shape)\n",
        "\n",
        "all_test = test_data.drop(columns=['content'])\n",
        "text_trans = tf.fit_transform(all_test['tag']).toarray()\n",
        "text_trans_2 = tf.fit_transform(all_test['title']).toarray()\n",
        "num_trans = col_preprocessor.fit_transform(all_test)\n",
        "\n",
        "all_test = np.hstack((text_trans, text_trans_2, num_trans))\n",
        "print(\"Test shape:\", all_test.shape)"
      ],
      "id": "a972cc7a",
      "execution_count": null,
      "outputs": [
        {
          "output_type": "stream",
          "name": "stderr",
          "text": [
            "/usr/local/lib/python3.7/dist-packages/sklearn/feature_extraction/text.py:507: UserWarning: The parameter 'token_pattern' will not be used since 'tokenizer' is not None'\n",
            "  warnings.warn(\"The parameter 'token_pattern' will not be used\"\n"
          ]
        },
        {
          "output_type": "stream",
          "name": "stdout",
          "text": [
            "Train shape: (27643, 47)\n"
          ]
        },
        {
          "output_type": "stream",
          "name": "stderr",
          "text": [
            "/usr/local/lib/python3.7/dist-packages/sklearn/feature_extraction/text.py:507: UserWarning: The parameter 'token_pattern' will not be used since 'tokenizer' is not None'\n",
            "  warnings.warn(\"The parameter 'token_pattern' will not be used\"\n"
          ]
        },
        {
          "output_type": "stream",
          "name": "stdout",
          "text": [
            "Test shape: (11847, 47)\n"
          ]
        }
      ]
    },
    {
      "cell_type": "code",
      "metadata": {
        "id": "ef77c034",
        "colab": {
          "base_uri": "https://localhost:8080/"
        },
        "outputId": "2ac627f1-cc39-47bd-90d5-a8cfdb81b1ca"
      },
      "source": [
        "'''\n",
        "1st model: all_train/test -> train/test_data.drop(columns=[])\n",
        "2nd model(text+num): run above block first\n",
        "'''\n",
        "\n",
        "best_clf.fit(all_train, train_label['Popularity'].astype('int'))\n",
        "result = best_clf.predict_proba(all_test)\n",
        "out = pd.DataFrame({'Id': df_real.Id, 'Popularity': result[:, 1]})\n",
        "out.to_csv('referenceUCI_5_feature.csv', index=False)\n",
        "print(out)"
      ],
      "id": "ef77c034",
      "execution_count": null,
      "outputs": [
        {
          "output_type": "stream",
          "name": "stdout",
          "text": [
            "          Id  Popularity\n",
            "0      27643    0.382833\n",
            "1      27644    0.500234\n",
            "2      27645    0.335652\n",
            "3      27646    0.447288\n",
            "4      27647    0.446180\n",
            "...      ...         ...\n",
            "11842  39485    0.697432\n",
            "11843  39486    0.500116\n",
            "11844  39487    0.566046\n",
            "11845  39488    0.428853\n",
            "11846  39489    0.457240\n",
            "\n",
            "[11847 rows x 2 columns]\n"
          ]
        }
      ]
    },
    {
      "cell_type": "markdown",
      "metadata": {
        "id": "Op8z5m7ZY9MZ"
      },
      "source": [
        "## Conclusion"
      ],
      "id": "Op8z5m7ZY9MZ"
    },
    {
      "cell_type": "markdown",
      "metadata": {
        "id": "0YEd9tadZAIH"
      },
      "source": [
        "從一開始只對 Page content 移除 HTML tag 、stop word 、和實作 hashingVectorizer 等 lecture 提過的方法，分數連 60 的 baseline 都到不了，後來決定加入一些時間資訊(weekday, month)，figure、link 數量此類的 scaler feature ，光是以上的scaler feature 其實就已經可以達到60 baseline了，為了再提升 performance，我們後來結合了文字與數字的feature，陸續加入channel的資訊、title emotion資訊等等，雖然知道不能過於在意 Public score 而一直去調整 feature 或者 tune 參數，不過比賽進行中難免"
      ],
      "id": "0YEd9tadZAIH"
    },
    {
      "cell_type": "code",
      "metadata": {
        "id": "jTWJ4IybvW56"
      },
      "source": [
        ""
      ],
      "id": "jTWJ4IybvW56",
      "execution_count": null,
      "outputs": []
    }
  ]
}