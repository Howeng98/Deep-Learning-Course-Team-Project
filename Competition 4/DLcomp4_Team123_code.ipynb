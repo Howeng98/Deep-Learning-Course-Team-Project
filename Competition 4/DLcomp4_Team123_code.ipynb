{
 "cells": [
  {
   "cell_type": "markdown",
   "metadata": {},
   "source": [
    "# DataLab Cup 4 : Unlearnable Dataset\n",
    "`Neural Tangent Generalization Attacks (NTGA)`"
   ]
  },
  {
   "cell_type": "markdown",
   "metadata": {},
   "source": [
    "# Dataset Download\n",
    "CAUTION: If you nerver download dataset from Kaggle before, plz follow the tutorial in this page: https://www.endtoend.ai/tutorial/how-to-download-kaggle-datasets-on-ubuntu/"
   ]
  },
  {
   "cell_type": "markdown",
   "metadata": {},
   "source": [
    "## CIFAR-10"
   ]
  },
  {
   "cell_type": "code",
   "execution_count": 6,
   "metadata": {},
   "outputs": [
    {
     "name": "stdout",
     "output_type": "stream",
     "text": [
      "Downloading datalab-cup4-unlearnable-datasets-cifar-10.zip to /home/kevin/NTHU/2021 Fall/Deep-Learning-Course-Team-Project/Competition 4\n",
      "100%|███████████████████████████████████████▉| 241M/242M [00:24<00:00, 11.5MB/s]\n",
      "100%|████████████████████████████████████████| 242M/242M [00:24<00:00, 10.3MB/s]\n"
     ]
    }
   ],
   "source": [
    "!kaggle competitions download -c datalab-cup4-unlearnable-datasets-cifar-10"
   ]
  },
  {
   "cell_type": "code",
   "execution_count": 8,
   "metadata": {},
   "outputs": [],
   "source": [
    "import os\n",
    "import zipfile\n",
    "\n",
    "# zipfile example\n",
    "def zip_list(file_path):\n",
    "    zf = zipfile.ZipFile(file_path, 'r')\n",
    "    if not os.path.exists('dataset'):\n",
    "        os.makedirs('dataset')\n",
    "    zf.extractall('./dataset')\n",
    "\n",
    "file_path = './datalab-cup4-unlearnable-datasets-cifar-10.zip'\n",
    "zip_list(file_path)"
   ]
  },
  {
   "cell_type": "markdown",
   "metadata": {},
   "source": [
    "## Imagenet"
   ]
  },
  {
   "cell_type": "code",
   "execution_count": 20,
   "metadata": {},
   "outputs": [
    {
     "name": "stdout",
     "output_type": "stream",
     "text": [
      "Downloading datalab-cup4-unlearnable-datasets-imagenet.zip to /home/kevin/NTHU/2021 Fall/Deep-Learning-Course-Team-Project/Competition 4\n",
      "100%|█████████████████████████████████████▉| 1.21G/1.21G [01:55<00:00, 10.3MB/s]\n",
      "100%|██████████████████████████████████████| 1.21G/1.21G [01:55<00:00, 11.2MB/s]\n"
     ]
    }
   ],
   "source": [
    "!kaggle competitions download -c datalab-cup4-unlearnable-datasets-imagenet"
   ]
  },
  {
   "cell_type": "code",
   "execution_count": null,
   "metadata": {},
   "outputs": [],
   "source": [
    "import os\n",
    "import zipfile\n",
    "\n",
    "# zipfile example\n",
    "def zip_list(file_path):\n",
    "    zf = zipfile.ZipFile(file_path, 'r')\n",
    "    if not os.path.exists('dataset'):\n",
    "        os.makedirs('dataset')\n",
    "    zf.extractall('./dataset')\n",
    "\n",
    "file_path = './datalab-cup4-unlearnable-datasets-imagenet.zip'\n",
    "zip_list(file_path)"
   ]
  },
  {
   "cell_type": "markdown",
   "metadata": {},
   "source": [
    "# Libraries and Packages"
   ]
  },
  {
   "cell_type": "code",
   "execution_count": 1,
   "metadata": {},
   "outputs": [],
   "source": [
    "from __future__ import absolute_import, division, print_function, unicode_literals\n",
    "import tensorflow as tf\n",
    "from tensorflow.keras import layers\n",
    "from tensorflow import keras\n",
    "from tensorflow.keras.models import Sequential\n",
    "import tensorflow_addons as tfa\n",
    "import os\n",
    "\n",
    "import string\n",
    "import matplotlib.pyplot as plt\n",
    "import numpy as np\n",
    "import pandas as pd\n",
    "import PIL\n",
    "import random\n",
    "import time\n",
    "from pathlib import Path\n",
    "\n",
    "from tqdm import tqdm\n",
    "\n",
    "import re\n",
    "from IPython import display"
   ]
  },
  {
   "cell_type": "code",
   "execution_count": 2,
   "metadata": {},
   "outputs": [
    {
     "name": "stdout",
     "output_type": "stream",
     "text": [
      "Tue Jan 11 21:05:15 2022       \n",
      "+-----------------------------------------------------------------------------+\n",
      "| NVIDIA-SMI 465.19.01    Driver Version: 465.19.01    CUDA Version: 11.3     |\n",
      "|-------------------------------+----------------------+----------------------+\n",
      "| GPU  Name        Persistence-M| Bus-Id        Disp.A | Volatile Uncorr. ECC |\n",
      "| Fan  Temp  Perf  Pwr:Usage/Cap|         Memory-Usage | GPU-Util  Compute M. |\n",
      "|                               |                      |               MIG M. |\n",
      "|===============================+======================+======================|\n",
      "|   0  NVIDIA GeForce ...  Off  | 00000000:01:00.0 Off |                  N/A |\n",
      "|  0%   50C    P8    14W / 250W |     19MiB / 11176MiB |      0%      Default |\n",
      "|                               |                      |                  N/A |\n",
      "+-------------------------------+----------------------+----------------------+\n",
      "|   1  NVIDIA GeForce ...  Off  | 00000000:02:00.0 Off |                  N/A |\n",
      "| 28%   48C    P5    16W / 250W |      2MiB / 11178MiB |      0%      Default |\n",
      "|                               |                      |                  N/A |\n",
      "+-------------------------------+----------------------+----------------------+\n",
      "                                                                               \n",
      "+-----------------------------------------------------------------------------+\n",
      "| Processes:                                                                  |\n",
      "|  GPU   GI   CI        PID   Type   Process name                  GPU Memory |\n",
      "|        ID   ID                                                   Usage      |\n",
      "|=============================================================================|\n",
      "|    0   N/A  N/A      1140      G   /usr/lib/xorg/Xorg                 16MiB |\n",
      "+-----------------------------------------------------------------------------+\n"
     ]
    }
   ],
   "source": [
    "!nvidia-smi"
   ]
  },
  {
   "cell_type": "code",
   "execution_count": 3,
   "metadata": {},
   "outputs": [
    {
     "name": "stdout",
     "output_type": "stream",
     "text": [
      "2 Physical GPUs, 1 Logical GPUs\n"
     ]
    }
   ],
   "source": [
    "gpus = tf.config.experimental.list_physical_devices('GPU')\n",
    "if gpus:\n",
    "    try:\n",
    "        # Restrict TensorFlow to only use the first GPU\n",
    "        tf.config.experimental.set_visible_devices(gpus[1], 'GPU')\n",
    "        # Currently, memory growth needs to be the same across GPUs\n",
    "        tf.config.experimental.set_memory_growth(gpus[1], True)\n",
    "        logical_gpus = tf.config.experimental.list_logical_devices('GPU')\n",
    "        print(len(gpus), \"Physical GPUs,\", len(logical_gpus), \"Logical GPUs\")\n",
    "    except RuntimeError as e:\n",
    "        print(e)"
   ]
  },
  {
   "cell_type": "markdown",
   "metadata": {},
   "source": [
    "# Hyperparameter"
   ]
  },
  {
   "cell_type": "code",
   "execution_count": 4,
   "metadata": {},
   "outputs": [],
   "source": [
    "BATCH_SIZE = 1024\n",
    "MODE = 'cifar10'\n",
    "# MODE = 'imagenet'\n",
    "\n",
    "if MODE == 'cifar10':\n",
    "    NUM_CLASSES = 10\n",
    "    IMAGE_HEIGHT = 32\n",
    "    IMAGE_WIDTH = 32\n",
    "if MODE == 'imagenet':\n",
    "    NUM_CLASSES = 2\n",
    "    IMAGE_HEIGHT = 224\n",
    "    IMAGE_WIDTH = 224\n",
    "    \n",
    "IMAGE_CHANNEL = 3"
   ]
  },
  {
   "cell_type": "markdown",
   "metadata": {},
   "source": [
    "# Dataset"
   ]
  },
  {
   "cell_type": "code",
   "execution_count": 5,
   "metadata": {},
   "outputs": [],
   "source": [
    "x_train = np.load(f'./dataset/x_train_{MODE}_unlearn.npy')\n",
    "y_train = np.load(f'./dataset/y_train_{MODE}.npy')\n",
    "x_val = np.load(f'./dataset/x_val_{MODE}.npy')\n",
    "y_val = np.load(f'./dataset/y_val_{MODE}.npy')\n",
    "\n",
    "y_train = np.argmax(y_train, axis=1)\n",
    "y_val = np.argmax(y_val, axis=1)"
   ]
  },
  {
   "cell_type": "markdown",
   "metadata": {},
   "source": [
    "## Data augmentation"
   ]
  },
  {
   "cell_type": "code",
   "execution_count": 6,
   "metadata": {},
   "outputs": [],
   "source": [
    "MAPPING_FUNC = None\n",
    "\n",
    "def vertical_flip(tf_img):\n",
    "    return tf.image.flip_left_right(tf_img)\n",
    "\n",
    "def horizontal_flip(tf_img):\n",
    "    return tf.image.flip_up_down(tf_img)\n",
    "\n",
    "def brightness(tf_img):\n",
    "    return tf.image.random_brightness(tf_img, 0.2, 2)\n",
    "\n",
    "def central_crop(tf_img):\n",
    "    return tf.image.central_crop(tf_img, 0.8)\n",
    "\n",
    "def noise_injection(tf_img):\n",
    "    noise = tf.random.normal(shape=tf.shape(tf_img), mean=0.0, stddev=1, dtype=tf.float32)\n",
    "    return tf.add(tf_img, noise)\n",
    "\n",
    "\n",
    "def data_generator(image, label):\n",
    "    # img = tf.image.decode_image(image, channels=3)\n",
    "    img = tf.cast(image, tf.float32)\n",
    "    img = img\n",
    "    img.set_shape([None, None, 3])\n",
    "    \n",
    "    if MAPPING_FUNC is not None:\n",
    "        img = MAPPING_FUNC(img)\n",
    "\n",
    "    img = tf.image.resize(img, size=[IMAGE_HEIGHT, IMAGE_WIDTH])\n",
    "    img.set_shape([IMAGE_HEIGHT, IMAGE_WIDTH, IMAGE_CHANNEL])\n",
    "    label = tf.cast(label, tf.int32)    \n",
    "    return img, label\n",
    "\n",
    "def transform_dataset(image, label):\n",
    "    dataset = tf.data.Dataset.from_tensor_slices((image, label))\n",
    "    dataset = dataset.map(data_generator, num_parallel_calls=tf.data.experimental.AUTOTUNE)\n",
    "    dataset = dataset.shuffle(len(label))\n",
    "    return dataset"
   ]
  },
  {
   "cell_type": "code",
   "execution_count": 7,
   "metadata": {},
   "outputs": [
    {
     "name": "stdout",
     "output_type": "stream",
     "text": [
      "Total images: 39936\n"
     ]
    }
   ],
   "source": [
    "original_dataset = transform_dataset(x_train, y_train)\n",
    "\n",
    "# MAPPING_FUNC = vertical_flip\n",
    "# vertical_dataset = transform_dataset(x_train, y_train)\n",
    "\n",
    "# MAPPING_FUNC = horizontal_flip\n",
    "# horizontal_dataset = transform_dataset(x_train, y_train)\n",
    "\n",
    "# MAPPING_FUNC = brightness\n",
    "# brightness_dataset = transform_dataset(x_train, y_train)\n",
    "\n",
    "# MAPPING_FUNC = central_crop\n",
    "# crop_dataset = transform_dataset(x_train, y_train)\n",
    "\n",
    "# MAPPING_FUNC = noise_injection\n",
    "# noise_dataset = transform_dataset(x_train, y_train)\n",
    "\n",
    "train_dataset = original_dataset\n",
    "# train_dataset = train_dataset.concatenate(vertical_dataset)\n",
    "# train_dataset = train_dataset.concatenate(horizontal_dataset)\n",
    "# train_dataset = train_dataset.concatenate(brightness_dataset)\n",
    "# train_dataset = train_dataset.concatenate(crop_dataset)\n",
    "# train_dataset = train_dataset.concatenate(noise_dataset)\n",
    "batched_dataset = train_dataset.shuffle(len(y_train)).batch(BATCH_SIZE, drop_remainder=True)\n",
    "batched_dataset = batched_dataset.prefetch(buffer_size=tf.data.experimental.AUTOTUNE)\n",
    "\n",
    "print(f'Batch size: {BATCH_SIZE}, # of batch: {len(batched_dataset)}')\n",
    "print(f'Total images: {len(batched_dataset)*BATCH_SIZE}')"
   ]
  },
  {
   "cell_type": "code",
   "execution_count": 8,
   "metadata": {},
   "outputs": [],
   "source": [
    "# train_dataset = tf.data.Dataset.from_tensor_slices((x_train, y_train))\n",
    "# batched_dataset = train_dataset.batch(BATCH_SIZE, drop_remainder=True)\n",
    "\n",
    "val_dataset = tf.data.Dataset.from_tensor_slices((x_val, y_val))\n",
    "batched_val_dataset = val_dataset.batch(BATCH_SIZE, drop_remainder=True)"
   ]
  },
  {
   "cell_type": "code",
   "execution_count": 9,
   "metadata": {},
   "outputs": [
    {
     "data": {
      "image/png": "[encoded data removed]",
      "text/plain": [
       "<Figure size 432x288 with 1 Axes>"
      ]
     },
     "metadata": {
      "needs_background": "light"
     },
     "output_type": "display_data"
    }
   ],
   "source": [
    "for data in batched_dataset.take(1):\n",
    "    plt.imshow(data[0][3],cmap='gray')"
   ]
  },
  {
   "cell_type": "markdown",
   "metadata": {},
   "source": [
    "# Model"
   ]
  },
  {
   "cell_type": "code",
   "execution_count": 10,
   "metadata": {},
   "outputs": [],
   "source": [
    "# model = Sequential([\n",
    "#   keras.Input(shape=(32, 32, 3)),\n",
    "#   layers.Conv2D(16, 3, padding='same', activation='relu'),\n",
    "#   layers.MaxPooling2D(),\n",
    "#   layers.Conv2D(32, 3, padding='same', activation='relu'),\n",
    "#   layers.MaxPooling2D(),\n",
    "#   layers.Conv2D(64, 3, padding='same', activation='relu'),\n",
    "#   layers.MaxPooling2D(),\n",
    "#   layers.Flatten(),\n",
    "#   layers.Dense(128, activation='relu'),\n",
    "#   layers.Dense(10)\n",
    "# ])\n",
    "\n",
    "# model.summary()"
   ]
  },
  {
   "cell_type": "code",
   "execution_count": 11,
   "metadata": {},
   "outputs": [],
   "source": [
    "# backbone = tf.keras.applications.NASNetLarge(\n",
    "#     input_shape=(IMAGE_HEIGHT, IMAGE_WIDTH, IMAGE_CHANNEL),\n",
    "#     include_top=False,\n",
    "#     weights=None,\n",
    "#     input_tensor=None,\n",
    "#     pooling=None,\n",
    "#     classes=10,\n",
    "# )\n",
    "\n",
    "# x = backbone.output\n",
    "# x = layers.Flatten()(x)\n",
    "# x = layers.Dropout(0.5)(x)\n",
    "# output_layer = layers.Dense(NUM_CLASSES)(x)\n",
    "# model = tf.keras.models.Model(inputs=backbone.input, outputs=output_layer)\n",
    "\n",
    "# model.summary()"
   ]
  },
  {
   "cell_type": "code",
   "execution_count": 12,
   "metadata": {},
   "outputs": [],
   "source": [
    "def conv_leaky_relu(inputs, filters, size, stride):\n",
    "    x = layers.Conv2D(filters, size, stride, padding=\"same\",\n",
    "                      kernel_initializer=tf.keras.initializers.TruncatedNormal())(inputs)\n",
    "    x = layers.LeakyReLU(0.1)(x)\n",
    "\n",
    "    return x"
   ]
  },
  {
   "cell_type": "code",
   "execution_count": 13,
   "metadata": {},
   "outputs": [
    {
     "name": "stdout",
     "output_type": "stream",
     "text": [
      "Model: \"DenseNet121\"\n",
      "_________________________________________________________________\n",
      " Layer (type)                Output Shape              Param #   \n",
      "=================================================================\n",
      " input_2 (InputLayer)        [(None, 32, 32, 3)]       0         \n",
      "                                                                 \n",
      " densenet121 (Functional)    (None, 1, 1, 1024)        7037504   \n",
      "                                                                 \n",
      " conv2d (Conv2D)             (None, 1, 1, 128)         1179776   \n",
      "                                                                 \n",
      " leaky_re_lu (LeakyReLU)     (None, 1, 1, 128)         0         \n",
      "                                                                 \n",
      " conv2d_1 (Conv2D)           (None, 1, 1, 128)         147584    \n",
      "                                                                 \n",
      " leaky_re_lu_1 (LeakyReLU)   (None, 1, 1, 128)         0         \n",
      "                                                                 \n",
      " flatten (Flatten)           (None, 128)               0         \n",
      "                                                                 \n",
      " dense (Dense)               (None, 128)               16512     \n",
      "                                                                 \n",
      " leaky_re_lu_2 (LeakyReLU)   (None, 128)               0         \n",
      "                                                                 \n",
      " dense_1 (Dense)             (None, 128)               16512     \n",
      "                                                                 \n",
      " dense_2 (Dense)             (None, 10)                1290      \n",
      "                                                                 \n",
      "=================================================================\n",
      "Total params: 8,399,178\n",
      "Trainable params: 1,361,674\n",
      "Non-trainable params: 7,037,504\n",
      "_________________________________________________________________\n"
     ]
    }
   ],
   "source": [
    "input_shape=(IMAGE_HEIGHT, IMAGE_WIDTH, IMAGE_CHANNEL)\n",
    "densenet121 = tf.keras.applications.DenseNet121(\n",
    "    input_shape=input_shape,\n",
    "    include_top=False,\n",
    "    weights=None,\n",
    "    classes=10)\n",
    "densenet121.trainable = False\n",
    "\n",
    "inputs = keras.Input(shape=input_shape)\n",
    "x = densenet121(inputs, training=False)\n",
    "\n",
    "x = conv_leaky_relu(x, 128, 3, 1)\n",
    "x = conv_leaky_relu(x, 128, 3, 1)\n",
    "\n",
    "x = layers.Flatten()(x)\n",
    "x = layers.Dense(128)(x)\n",
    "x = layers.LeakyReLU(0.1)(x)\n",
    "x = layers.Dense(128, activation='relu')(x)\n",
    "outputs = layers.Dense(10)(x)\n",
    "\n",
    "model = keras.Model(inputs=inputs, outputs=outputs, name=\"DenseNet121\")\n",
    "model.summary()"
   ]
  },
  {
   "cell_type": "markdown",
   "metadata": {},
   "source": [
    "# Training"
   ]
  },
  {
   "cell_type": "code",
   "execution_count": 14,
   "metadata": {},
   "outputs": [],
   "source": [
    "loss_fn = tf.losses.SparseCategoricalCrossentropy(from_logits=True)\n",
    "optimizer = tf.optimizers.Adam(learning_rate=0.001)\n",
    "model.compile(optimizer=optimizer, loss=loss_fn, metrics=['acc'])"
   ]
  },
  {
   "cell_type": "code",
   "execution_count": 21,
   "metadata": {},
   "outputs": [
    {
     "name": "stdout",
     "output_type": "stream",
     "text": [
      "Epoch 1/50\n",
      "39/39 [==============================] - 2s 54ms/step - loss: 1.5018 - acc: 0.4581 - val_loss: 1.6309 - val_acc: 0.4053\n",
      "Epoch 2/50\n",
      "39/39 [==============================] - 2s 53ms/step - loss: 1.4938 - acc: 0.4615 - val_loss: 1.6445 - val_acc: 0.4045\n",
      "Epoch 3/50\n",
      "39/39 [==============================] - 2s 53ms/step - loss: 1.4847 - acc: 0.4652 - val_loss: 1.6274 - val_acc: 0.4032\n",
      "Epoch 4/50\n",
      "39/39 [==============================] - 2s 53ms/step - loss: 1.4862 - acc: 0.4656 - val_loss: 1.6432 - val_acc: 0.3997\n",
      "Epoch 5/50\n",
      "39/39 [==============================] - 2s 54ms/step - loss: 1.4934 - acc: 0.4647 - val_loss: 1.6581 - val_acc: 0.3899\n",
      "Epoch 6/50\n",
      "39/39 [==============================] - 2s 53ms/step - loss: 1.4821 - acc: 0.4664 - val_loss: 1.6312 - val_acc: 0.4030\n",
      "Epoch 7/50\n",
      "39/39 [==============================] - 2s 53ms/step - loss: 1.4759 - acc: 0.4697 - val_loss: 1.6368 - val_acc: 0.4119\n",
      "Epoch 8/50\n",
      "39/39 [==============================] - 2s 53ms/step - loss: 1.4790 - acc: 0.4654 - val_loss: 1.6646 - val_acc: 0.4005\n",
      "Epoch 9/50\n",
      "39/39 [==============================] - 2s 54ms/step - loss: 1.4880 - acc: 0.4627 - val_loss: 1.6325 - val_acc: 0.4033\n",
      "Epoch 10/50\n",
      "39/39 [==============================] - 2s 54ms/step - loss: 1.4753 - acc: 0.4693 - val_loss: 1.6232 - val_acc: 0.4064\n",
      "Epoch 11/50\n",
      "39/39 [==============================] - 2s 53ms/step - loss: 1.4999 - acc: 0.4580 - val_loss: 1.7106 - val_acc: 0.3957\n",
      "Epoch 12/50\n",
      "39/39 [==============================] - 2s 53ms/step - loss: 1.4971 - acc: 0.4609 - val_loss: 1.6906 - val_acc: 0.3882\n",
      "Epoch 13/50\n",
      "39/39 [==============================] - 2s 53ms/step - loss: 1.4735 - acc: 0.4694 - val_loss: 1.6406 - val_acc: 0.4006\n",
      "Epoch 14/50\n",
      "39/39 [==============================] - 2s 54ms/step - loss: 1.4626 - acc: 0.4757 - val_loss: 1.6097 - val_acc: 0.4077\n",
      "Epoch 15/50\n",
      "39/39 [==============================] - 2s 54ms/step - loss: 1.4588 - acc: 0.4748 - val_loss: 1.6418 - val_acc: 0.4015\n",
      "Epoch 16/50\n",
      "39/39 [==============================] - 2s 53ms/step - loss: 1.4911 - acc: 0.4666 - val_loss: 1.6272 - val_acc: 0.4022\n",
      "Epoch 17/50\n",
      "39/39 [==============================] - 2s 53ms/step - loss: 1.4499 - acc: 0.4815 - val_loss: 1.6705 - val_acc: 0.3894\n",
      "Epoch 18/50\n",
      "39/39 [==============================] - 2s 53ms/step - loss: 1.4515 - acc: 0.4798 - val_loss: 1.6437 - val_acc: 0.3996\n",
      "Epoch 19/50\n",
      "39/39 [==============================] - 2s 54ms/step - loss: 1.4717 - acc: 0.4686 - val_loss: 1.6497 - val_acc: 0.3976\n",
      "Epoch 20/50\n",
      "39/39 [==============================] - 2s 53ms/step - loss: 1.4629 - acc: 0.4744 - val_loss: 1.6175 - val_acc: 0.4119\n",
      "Epoch 21/50\n",
      "39/39 [==============================] - 2s 53ms/step - loss: 1.4520 - acc: 0.4753 - val_loss: 1.6671 - val_acc: 0.3982\n",
      "Epoch 22/50\n",
      "39/39 [==============================] - 2s 54ms/step - loss: 1.4646 - acc: 0.4733 - val_loss: 1.6329 - val_acc: 0.4058\n",
      "Epoch 23/50\n",
      "39/39 [==============================] - 2s 53ms/step - loss: 1.4567 - acc: 0.4751 - val_loss: 1.6022 - val_acc: 0.4144\n",
      "Epoch 24/50\n",
      "39/39 [==============================] - 2s 54ms/step - loss: 1.4638 - acc: 0.4765 - val_loss: 1.6237 - val_acc: 0.4085\n",
      "Epoch 25/50\n",
      "39/39 [==============================] - 2s 53ms/step - loss: 1.4365 - acc: 0.4865 - val_loss: 1.7390 - val_acc: 0.3763\n",
      "Epoch 26/50\n",
      "39/39 [==============================] - 2s 54ms/step - loss: 1.4381 - acc: 0.4853 - val_loss: 1.6339 - val_acc: 0.4045\n",
      "Epoch 27/50\n",
      "39/39 [==============================] - 2s 54ms/step - loss: 1.4431 - acc: 0.4835 - val_loss: 1.6197 - val_acc: 0.4100\n",
      "Epoch 28/50\n",
      "39/39 [==============================] - 2s 53ms/step - loss: 1.4516 - acc: 0.4793 - val_loss: 1.6660 - val_acc: 0.3967\n",
      "Epoch 29/50\n",
      "39/39 [==============================] - 2s 54ms/step - loss: 1.4467 - acc: 0.4800 - val_loss: 1.6407 - val_acc: 0.4108\n",
      "Epoch 30/50\n",
      "39/39 [==============================] - 2s 53ms/step - loss: 1.4485 - acc: 0.4806 - val_loss: 1.6083 - val_acc: 0.4092\n",
      "Epoch 31/50\n",
      "39/39 [==============================] - 2s 54ms/step - loss: 1.4377 - acc: 0.4857 - val_loss: 1.6290 - val_acc: 0.4064\n",
      "Epoch 32/50\n",
      "39/39 [==============================] - 2s 53ms/step - loss: 1.4273 - acc: 0.4879 - val_loss: 1.6380 - val_acc: 0.4062\n",
      "Epoch 33/50\n",
      "39/39 [==============================] - 2s 53ms/step - loss: 1.4204 - acc: 0.4912 - val_loss: 1.6436 - val_acc: 0.4111\n",
      "Epoch 34/50\n",
      "39/39 [==============================] - 2s 53ms/step - loss: 1.4341 - acc: 0.4832 - val_loss: 1.6549 - val_acc: 0.4026\n",
      "Epoch 35/50\n",
      "39/39 [==============================] - 2s 54ms/step - loss: 1.4450 - acc: 0.4821 - val_loss: 1.6621 - val_acc: 0.4047\n",
      "Epoch 36/50\n",
      "39/39 [==============================] - 2s 53ms/step - loss: 1.4352 - acc: 0.4856 - val_loss: 1.6339 - val_acc: 0.4052\n",
      "Epoch 37/50\n",
      "39/39 [==============================] - 2s 53ms/step - loss: 1.4331 - acc: 0.4853 - val_loss: 1.6249 - val_acc: 0.4085\n",
      "Epoch 38/50\n",
      "39/39 [==============================] - 2s 54ms/step - loss: 1.4210 - acc: 0.4907 - val_loss: 1.6272 - val_acc: 0.4080\n",
      "Epoch 39/50\n",
      "39/39 [==============================] - 2s 54ms/step - loss: 1.4123 - acc: 0.4948 - val_loss: 1.6223 - val_acc: 0.4078\n",
      "Epoch 40/50\n",
      "39/39 [==============================] - 2s 54ms/step - loss: 1.4137 - acc: 0.4932 - val_loss: 1.6160 - val_acc: 0.4171\n",
      "Epoch 41/50\n",
      "39/39 [==============================] - 2s 53ms/step - loss: 1.4178 - acc: 0.4912 - val_loss: 1.6265 - val_acc: 0.4166\n",
      "Epoch 42/50\n",
      "39/39 [==============================] - 2s 54ms/step - loss: 1.4185 - acc: 0.4920 - val_loss: 1.6376 - val_acc: 0.4086\n",
      "Epoch 43/50\n",
      "39/39 [==============================] - 2s 53ms/step - loss: 1.4112 - acc: 0.4934 - val_loss: 1.6386 - val_acc: 0.4099\n",
      "Epoch 44/50\n",
      "39/39 [==============================] - 2s 54ms/step - loss: 1.4336 - acc: 0.4882 - val_loss: 1.6849 - val_acc: 0.3870\n",
      "Epoch 45/50\n",
      "39/39 [==============================] - 2s 53ms/step - loss: 1.4285 - acc: 0.4854 - val_loss: 1.6290 - val_acc: 0.4111\n",
      "Epoch 46/50\n",
      "39/39 [==============================] - 2s 54ms/step - loss: 1.4210 - acc: 0.4906 - val_loss: 1.6517 - val_acc: 0.4077\n",
      "Epoch 47/50\n",
      "39/39 [==============================] - 2s 53ms/step - loss: 1.4134 - acc: 0.4905 - val_loss: 1.6163 - val_acc: 0.4134\n",
      "Epoch 48/50\n",
      "39/39 [==============================] - 2s 53ms/step - loss: 1.3974 - acc: 0.5006 - val_loss: 1.7345 - val_acc: 0.3804\n",
      "Epoch 49/50\n",
      "39/39 [==============================] - 2s 53ms/step - loss: 1.4076 - acc: 0.4964 - val_loss: 1.6148 - val_acc: 0.4186\n",
      "Epoch 50/50\n",
      "39/39 [==============================] - 2s 53ms/step - loss: 1.4025 - acc: 0.4985 - val_loss: 1.6204 - val_acc: 0.4112\n"
     ]
    }
   ],
   "source": [
    "history = model.fit(x=batched_dataset, validation_data=batched_val_dataset, epochs=50)"
   ]
  },
  {
   "cell_type": "markdown",
   "metadata": {},
   "source": [
    "# Visualize"
   ]
  },
  {
   "cell_type": "code",
   "execution_count": 22,
   "metadata": {},
   "outputs": [
    {
     "data": {
      "image/png": "[encoded data removed]",
      "text/plain": [
       "<Figure size 432x288 with 1 Axes>"
      ]
     },
     "metadata": {
      "needs_background": "light"
     },
     "output_type": "display_data"
    }
   ],
   "source": [
    "plt.plot(history.history['acc'])\n",
    "plt.plot(history.history['val_acc'])\n",
    "plt.title('model accuracy')\n",
    "plt.ylabel('accuracy')\n",
    "plt.xlabel('epoch')\n",
    "plt.legend(['train', 'val'], loc='upper left')\n",
    "plt.show()"
   ]
  },
  {
   "cell_type": "markdown",
   "metadata": {},
   "source": [
    "# Inference"
   ]
  },
  {
   "cell_type": "code",
   "execution_count": 23,
   "metadata": {},
   "outputs": [
    {
     "name": "stdout",
     "output_type": "stream",
     "text": [
      "10000 10000 10\n"
     ]
    }
   ],
   "source": [
    "x_test = np.load(f'./dataset/x_test_{MODE}.npy')\n",
    "test_dataset = tf.data.Dataset.from_tensor_slices((x_test))\n",
    "batched_test_dataset = test_dataset.batch(BATCH_SIZE, drop_remainder=False)\n",
    "print(len(x_test), len(test_dataset), len(batched_test_dataset))"
   ]
  },
  {
   "cell_type": "code",
   "execution_count": 24,
   "metadata": {},
   "outputs": [],
   "source": [
    "result = model.predict(x=batched_test_dataset)\n",
    "final_result = np.argmax(result, axis=1)\n",
    "output = pd.DataFrame({'id':range(len(final_result)), 'label':final_result})\n",
    "output.to_csv(f'./submission_{MODE}.csv', header=True, index=False)"
   ]
  },
  {
   "cell_type": "code",
   "execution_count": null,
   "metadata": {},
   "outputs": [],
   "source": []
  }
 ],
 "metadata": {
  "interpreter": {
   "hash": "5c5b210ffa015f2312f69f2248e3163602cc860559c1494ea467ed1fecf0f25e"
  },
  "kernelspec": {
   "display_name": "Python 3.8.8 64-bit ('base': conda)",
   "language": "python",
   "name": "python3"
  },
  "language_info": {
   "codemirror_mode": {
    "name": "ipython",
    "version": 3
   },
   "file_extension": ".py",
   "mimetype": "text/x-python",
   "name": "python",
   "nbconvert_exporter": "python",
   "pygments_lexer": "ipython3",
   "version": "3.8.8"
  },
  "orig_nbformat": 4
 },
 "nbformat": 4,
 "nbformat_minor": 2
}
