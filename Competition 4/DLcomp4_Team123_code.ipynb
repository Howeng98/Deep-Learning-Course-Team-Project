{
 "cells": [
  {
   "cell_type": "markdown",
   "metadata": {},
   "source": [
    "# DataLab Cup 4 : Unlearnable Dataset\n",
    "`Neural Tangent Generalization Attacks (NTGA)`"
   ]
  },
  {
   "cell_type": "markdown",
   "metadata": {},
   "source": [
    "# Dataset Download\n",
    "CAUTION: If you nerver download dataset from Kaggle before, plz follow the tutorial in this page: https://www.endtoend.ai/tutorial/how-to-download-kaggle-datasets-on-ubuntu/"
   ]
  },
  {
   "cell_type": "markdown",
   "metadata": {},
   "source": [
    "## CIFAR-10"
   ]
  },
  {
   "cell_type": "code",
   "execution_count": 6,
   "metadata": {},
   "outputs": [
    {
     "name": "stdout",
     "output_type": "stream",
     "text": [
      "Downloading datalab-cup4-unlearnable-datasets-cifar-10.zip to /home/kevin/NTHU/2021 Fall/Deep-Learning-Course-Team-Project/Competition 4\n",
      "100%|███████████████████████████████████████▉| 241M/242M [00:24<00:00, 11.5MB/s]\n",
      "100%|████████████████████████████████████████| 242M/242M [00:24<00:00, 10.3MB/s]\n"
     ]
    }
   ],
   "source": [
    "!kaggle competitions download -c datalab-cup4-unlearnable-datasets-cifar-10"
   ]
  },
  {
   "cell_type": "code",
   "execution_count": 8,
   "metadata": {},
   "outputs": [],
   "source": [
    "import os\n",
    "import zipfile\n",
    "\n",
    "# zipfile example\n",
    "def zip_list(file_path):\n",
    "    zf = zipfile.ZipFile(file_path, 'r')\n",
    "    if not os.path.exists('dataset'):\n",
    "        os.makedirs('dataset')\n",
    "    zf.extractall('./dataset')\n",
    "\n",
    "file_path = './datalab-cup4-unlearnable-datasets-cifar-10.zip'\n",
    "zip_list(file_path)"
   ]
  },
  {
   "cell_type": "markdown",
   "metadata": {},
   "source": [
    "## Imagenet"
   ]
  },
  {
   "cell_type": "code",
   "execution_count": 20,
   "metadata": {},
   "outputs": [
    {
     "name": "stdout",
     "output_type": "stream",
     "text": [
      "Downloading datalab-cup4-unlearnable-datasets-imagenet.zip to /home/kevin/NTHU/2021 Fall/Deep-Learning-Course-Team-Project/Competition 4\n",
      "100%|█████████████████████████████████████▉| 1.21G/1.21G [01:55<00:00, 10.3MB/s]\n",
      "100%|██████████████████████████████████████| 1.21G/1.21G [01:55<00:00, 11.2MB/s]\n"
     ]
    }
   ],
   "source": [
    "!kaggle competitions download -c datalab-cup4-unlearnable-datasets-imagenet"
   ]
  },
  {
   "cell_type": "code",
   "execution_count": null,
   "metadata": {},
   "outputs": [],
   "source": [
    "import os\n",
    "import zipfile\n",
    "\n",
    "# zipfile example\n",
    "def zip_list(file_path):\n",
    "    zf = zipfile.ZipFile(file_path, 'r')\n",
    "    if not os.path.exists('dataset'):\n",
    "        os.makedirs('dataset')\n",
    "    zf.extractall('./dataset')\n",
    "\n",
    "file_path = './datalab-cup4-unlearnable-datasets-imagenet.zip'\n",
    "zip_list(file_path)"
   ]
  },
  {
   "cell_type": "markdown",
   "metadata": {},
   "source": [
    "# Libraries and Packages"
   ]
  },
  {
   "cell_type": "code",
   "execution_count": 2,
   "metadata": {},
   "outputs": [],
   "source": [
    "from __future__ import absolute_import, division, print_function, unicode_literals\n",
    "import tensorflow as tf\n",
    "from tensorflow.keras import layers\n",
    "from tensorflow import keras\n",
    "from tensorflow.keras.models import Sequential\n",
    "import tensorflow_addons as tfa\n",
    "import os\n",
    "\n",
    "import string\n",
    "import matplotlib.pyplot as plt\n",
    "import numpy as np\n",
    "import pandas as pd\n",
    "import PIL\n",
    "import random\n",
    "import time\n",
    "from pathlib import Path\n",
    "\n",
    "from tqdm import tqdm\n",
    "\n",
    "import re\n",
    "from IPython import display"
   ]
  },
  {
   "cell_type": "code",
   "execution_count": 7,
   "metadata": {},
   "outputs": [
    {
     "name": "stdout",
     "output_type": "stream",
     "text": [
      "Mon Jan 10 17:04:40 2022       \n",
      "+-----------------------------------------------------------------------------+\n",
      "| NVIDIA-SMI 465.19.01    Driver Version: 465.19.01    CUDA Version: 11.3     |\n",
      "|-------------------------------+----------------------+----------------------+\n",
      "| GPU  Name        Persistence-M| Bus-Id        Disp.A | Volatile Uncorr. ECC |\n",
      "| Fan  Temp  Perf  Pwr:Usage/Cap|         Memory-Usage | GPU-Util  Compute M. |\n",
      "|                               |                      |               MIG M. |\n",
      "|===============================+======================+======================|\n",
      "|   0  NVIDIA GeForce ...  Off  | 00000000:01:00.0 Off |                  N/A |\n",
      "|  0%   45C    P8    14W / 250W |     21MiB / 11176MiB |      0%      Default |\n",
      "|                               |                      |                  N/A |\n",
      "+-------------------------------+----------------------+----------------------+\n",
      "|   1  NVIDIA GeForce ...  Off  | 00000000:02:00.0 Off |                  N/A |\n",
      "|  0%   52C    P8    14W / 250W |    267MiB / 11178MiB |      0%      Default |\n",
      "|                               |                      |                  N/A |\n",
      "+-------------------------------+----------------------+----------------------+\n",
      "                                                                               \n",
      "+-----------------------------------------------------------------------------+\n",
      "| Processes:                                                                  |\n",
      "|  GPU   GI   CI        PID   Type   Process name                  GPU Memory |\n",
      "|        ID   ID                                                   Usage      |\n",
      "|=============================================================================|\n",
      "|    0   N/A  N/A      1140      G   /usr/lib/xorg/Xorg                 16MiB |\n",
      "|    1   N/A  N/A     31927      C   ...evin/anaconda3/bin/python      263MiB |\n",
      "+-----------------------------------------------------------------------------+\n"
     ]
    }
   ],
   "source": [
    "!nvidia-smi"
   ]
  },
  {
   "cell_type": "code",
   "execution_count": 5,
   "metadata": {},
   "outputs": [
    {
     "name": "stdout",
     "output_type": "stream",
     "text": [
      "2 Physical GPUs, 1 Logical GPUs\n"
     ]
    }
   ],
   "source": [
    "gpus = tf.config.experimental.list_physical_devices('GPU')\n",
    "if gpus:\n",
    "    try:\n",
    "        # Restrict TensorFlow to only use the first GPU\n",
    "        tf.config.experimental.set_visible_devices(gpus[1], 'GPU')\n",
    "        # Currently, memory growth needs to be the same across GPUs\n",
    "        tf.config.experimental.set_memory_growth(gpus[1], True)\n",
    "        logical_gpus = tf.config.experimental.list_logical_devices('GPU')\n",
    "        print(len(gpus), \"Physical GPUs,\", len(logical_gpus), \"Logical GPUs\")\n",
    "    except RuntimeError as e:\n",
    "        print(e)"
   ]
  },
  {
   "cell_type": "markdown",
   "metadata": {},
   "source": [
    "# Hyperparameter"
   ]
  },
  {
   "cell_type": "code",
   "execution_count": 19,
   "metadata": {},
   "outputs": [],
   "source": [
    "BATCH_SIZE = 64\n",
    "# MODE = 'cifar10'\n",
    "MODE = 'imagenet'"
   ]
  },
  {
   "cell_type": "markdown",
   "metadata": {},
   "source": [
    "# Dataset"
   ]
  },
  {
   "cell_type": "code",
   "execution_count": 9,
   "metadata": {},
   "outputs": [],
   "source": [
    "x_train = np.load(f'./dataset/x_train_{MODE}_unlearn.npy')\n",
    "y_train = np.load(f'./dataset/y_train_{MODE}.npy')\n",
    "x_val = np.load(f'./dataset/x_val_{MODE}.npy')\n",
    "y_val = np.load(f'./dataset/y_val_{MODE}.npy')\n",
    "\n",
    "y_train = np.argmax(y_train, axis=1)\n",
    "y_val = np.argmax(y_val, axis=1)"
   ]
  },
  {
   "cell_type": "code",
   "execution_count": 13,
   "metadata": {},
   "outputs": [],
   "source": [
    "train_dataset = tf.data.Dataset.from_tensor_slices((x_train, y_train))\n",
    "batched_dataset = train_dataset.batch(BATCH_SIZE, drop_remainder=True)\n",
    "\n",
    "val_dataset = tf.data.Dataset.from_tensor_slices((x_val, y_val))\n",
    "batched_val_dataset = val_dataset.batch(BATCH_SIZE, drop_remainder=True)"
   ]
  },
  {
   "cell_type": "code",
   "execution_count": 14,
   "metadata": {},
   "outputs": [
    {
     "data": {
      "image/png": "[encoded data removed]",
      "text/plain": [
       "<Figure size 432x288 with 1 Axes>"
      ]
     },
     "metadata": {
      "needs_background": "light"
     },
     "output_type": "display_data"
    }
   ],
   "source": [
    "for data in batched_dataset.take(1):\n",
    "    plt.imshow(data[0][3],cmap='gray')"
   ]
  },
  {
   "cell_type": "markdown",
   "metadata": {},
   "source": [
    "# Model"
   ]
  },
  {
   "cell_type": "code",
   "execution_count": 15,
   "metadata": {},
   "outputs": [
    {
     "name": "stdout",
     "output_type": "stream",
     "text": [
      "Model: \"sequential\"\n",
      "_________________________________________________________________\n",
      " Layer (type)                Output Shape              Param #   \n",
      "=================================================================\n",
      " conv2d (Conv2D)             (None, 32, 32, 16)        448       \n",
      "                                                                 \n",
      " max_pooling2d (MaxPooling2D  (None, 16, 16, 16)       0         \n",
      " )                                                               \n",
      "                                                                 \n",
      " conv2d_1 (Conv2D)           (None, 16, 16, 32)        4640      \n",
      "                                                                 \n",
      " max_pooling2d_1 (MaxPooling  (None, 8, 8, 32)         0         \n",
      " 2D)                                                             \n",
      "                                                                 \n",
      " conv2d_2 (Conv2D)           (None, 8, 8, 64)          18496     \n",
      "                                                                 \n",
      " max_pooling2d_2 (MaxPooling  (None, 4, 4, 64)         0         \n",
      " 2D)                                                             \n",
      "                                                                 \n",
      " flatten (Flatten)           (None, 1024)              0         \n",
      "                                                                 \n",
      " dense (Dense)               (None, 128)               131200    \n",
      "                                                                 \n",
      " dense_1 (Dense)             (None, 10)                1290      \n",
      "                                                                 \n",
      "=================================================================\n",
      "Total params: 156,074\n",
      "Trainable params: 156,074\n",
      "Non-trainable params: 0\n",
      "_________________________________________________________________\n"
     ]
    }
   ],
   "source": [
    "model = Sequential([\n",
    "  keras.Input(shape=(32, 32, 3)),\n",
    "  layers.Conv2D(16, 3, padding='same', activation='relu'),\n",
    "  layers.MaxPooling2D(),\n",
    "  layers.Conv2D(32, 3, padding='same', activation='relu'),\n",
    "  layers.MaxPooling2D(),\n",
    "  layers.Conv2D(64, 3, padding='same', activation='relu'),\n",
    "  layers.MaxPooling2D(),\n",
    "  layers.Flatten(),\n",
    "  layers.Dense(128, activation='relu'),\n",
    "  layers.Dense(10)\n",
    "])\n",
    "\n",
    "model.summary()"
   ]
  },
  {
   "cell_type": "markdown",
   "metadata": {},
   "source": [
    "# Training"
   ]
  },
  {
   "cell_type": "code",
   "execution_count": 16,
   "metadata": {},
   "outputs": [],
   "source": [
    "loss_fn = tf.losses.SparseCategoricalCrossentropy(from_logits=True)\n",
    "optimizer = tf.optimizers.Adam(learning_rate=0.001)\n",
    "model.compile(optimizer=optimizer, loss=loss_fn, metrics=['acc'])"
   ]
  },
  {
   "cell_type": "code",
   "execution_count": 17,
   "metadata": {},
   "outputs": [
    {
     "name": "stdout",
     "output_type": "stream",
     "text": [
      "Epoch 1/50\n",
      "625/625 [==============================] - 5s 6ms/step - loss: 1.4626 - acc: 0.4914 - val_loss: 2.0491 - val_acc: 0.3445\n",
      "Epoch 2/50\n",
      "625/625 [==============================] - 5s 8ms/step - loss: 0.5233 - acc: 0.8386 - val_loss: 2.3803 - val_acc: 0.3144\n",
      "Epoch 3/50\n",
      "625/625 [==============================] - 3s 5ms/step - loss: 0.2957 - acc: 0.9106 - val_loss: 2.6751 - val_acc: 0.2921\n",
      "Epoch 4/50\n",
      "625/625 [==============================] - 3s 5ms/step - loss: 0.2076 - acc: 0.9381 - val_loss: 2.8689 - val_acc: 0.2873\n",
      "Epoch 5/50\n",
      "625/625 [==============================] - 4s 7ms/step - loss: 0.1559 - acc: 0.9526 - val_loss: 2.8659 - val_acc: 0.3101\n",
      "Epoch 6/50\n",
      "625/625 [==============================] - 4s 7ms/step - loss: 0.1203 - acc: 0.9635 - val_loss: 3.2076 - val_acc: 0.2914\n",
      "Epoch 7/50\n",
      "625/625 [==============================] - 4s 7ms/step - loss: 0.0958 - acc: 0.9706 - val_loss: 3.9379 - val_acc: 0.2573\n",
      "Epoch 8/50\n",
      "625/625 [==============================] - 3s 5ms/step - loss: 0.0769 - acc: 0.9758 - val_loss: 3.9902 - val_acc: 0.2575\n",
      "Epoch 9/50\n",
      "625/625 [==============================] - 4s 7ms/step - loss: 0.0612 - acc: 0.9810 - val_loss: 3.7699 - val_acc: 0.2978\n",
      "Epoch 10/50\n",
      "625/625 [==============================] - 4s 6ms/step - loss: 0.0494 - acc: 0.9840 - val_loss: 3.7650 - val_acc: 0.2955\n",
      "Epoch 11/50\n",
      "625/625 [==============================] - 3s 6ms/step - loss: 0.0452 - acc: 0.9843 - val_loss: 4.1490 - val_acc: 0.2983\n",
      "Epoch 12/50\n",
      "625/625 [==============================] - 3s 5ms/step - loss: 0.0372 - acc: 0.9872 - val_loss: 4.0485 - val_acc: 0.2912\n",
      "Epoch 13/50\n",
      "625/625 [==============================] - 4s 6ms/step - loss: 0.0326 - acc: 0.9886 - val_loss: 4.2567 - val_acc: 0.2886\n",
      "Epoch 14/50\n",
      "625/625 [==============================] - 3s 5ms/step - loss: 0.0306 - acc: 0.9893 - val_loss: 5.1750 - val_acc: 0.2677\n",
      "Epoch 15/50\n",
      "625/625 [==============================] - 3s 6ms/step - loss: 0.0293 - acc: 0.9896 - val_loss: 4.9445 - val_acc: 0.2834\n",
      "Epoch 16/50\n",
      "625/625 [==============================] - 4s 7ms/step - loss: 0.0253 - acc: 0.9908 - val_loss: 4.5622 - val_acc: 0.2982\n",
      "Epoch 17/50\n",
      "625/625 [==============================] - 4s 6ms/step - loss: 0.0202 - acc: 0.9922 - val_loss: 5.4854 - val_acc: 0.2938\n",
      "Epoch 18/50\n",
      "625/625 [==============================] - 2s 4ms/step - loss: 0.0231 - acc: 0.9916 - val_loss: 5.5715 - val_acc: 0.2840\n",
      "Epoch 19/50\n",
      "625/625 [==============================] - 3s 6ms/step - loss: 0.0215 - acc: 0.9930 - val_loss: 5.4903 - val_acc: 0.3071\n",
      "Epoch 20/50\n",
      "625/625 [==============================] - 5s 8ms/step - loss: 0.0216 - acc: 0.9926 - val_loss: 5.2569 - val_acc: 0.2917\n",
      "Epoch 21/50\n",
      "625/625 [==============================] - 3s 4ms/step - loss: 0.0203 - acc: 0.9934 - val_loss: 5.8715 - val_acc: 0.2802\n",
      "Epoch 22/50\n",
      "625/625 [==============================] - 3s 5ms/step - loss: 0.0171 - acc: 0.9940 - val_loss: 5.5123 - val_acc: 0.2996\n",
      "Epoch 23/50\n",
      "625/625 [==============================] - 4s 6ms/step - loss: 0.0161 - acc: 0.9944 - val_loss: 6.4260 - val_acc: 0.2722\n",
      "Epoch 24/50\n",
      "625/625 [==============================] - 4s 6ms/step - loss: 0.0133 - acc: 0.9952 - val_loss: 6.7986 - val_acc: 0.2887\n",
      "Epoch 25/50\n",
      "625/625 [==============================] - 4s 6ms/step - loss: 0.0188 - acc: 0.9937 - val_loss: 7.2078 - val_acc: 0.2678\n",
      "Epoch 26/50\n",
      "625/625 [==============================] - 4s 6ms/step - loss: 0.0136 - acc: 0.9955 - val_loss: 6.7530 - val_acc: 0.2693\n",
      "Epoch 27/50\n",
      "625/625 [==============================] - 4s 6ms/step - loss: 0.0169 - acc: 0.9939 - val_loss: 7.3008 - val_acc: 0.2478\n",
      "Epoch 28/50\n",
      "625/625 [==============================] - 3s 6ms/step - loss: 0.0152 - acc: 0.9949 - val_loss: 6.7307 - val_acc: 0.2615\n",
      "Epoch 29/50\n",
      "625/625 [==============================] - 4s 6ms/step - loss: 0.0149 - acc: 0.9952 - val_loss: 6.5360 - val_acc: 0.2641\n",
      "Epoch 30/50\n",
      "625/625 [==============================] - 3s 5ms/step - loss: 0.0142 - acc: 0.9950 - val_loss: 6.3993 - val_acc: 0.2670\n",
      "Epoch 31/50\n",
      "625/625 [==============================] - 3s 4ms/step - loss: 0.0130 - acc: 0.9953 - val_loss: 7.3406 - val_acc: 0.2608\n",
      "Epoch 32/50\n",
      "625/625 [==============================] - 3s 5ms/step - loss: 0.0147 - acc: 0.9949 - val_loss: 6.7749 - val_acc: 0.2861\n",
      "Epoch 33/50\n",
      "625/625 [==============================] - 4s 7ms/step - loss: 0.0107 - acc: 0.9966 - val_loss: 7.7242 - val_acc: 0.2766\n",
      "Epoch 34/50\n",
      "625/625 [==============================] - 3s 5ms/step - loss: 0.0165 - acc: 0.9951 - val_loss: 7.5656 - val_acc: 0.2379\n",
      "Epoch 35/50\n",
      "625/625 [==============================] - 4s 6ms/step - loss: 0.0130 - acc: 0.9955 - val_loss: 7.0841 - val_acc: 0.2770\n",
      "Epoch 36/50\n",
      "625/625 [==============================] - 4s 7ms/step - loss: 0.0090 - acc: 0.9973 - val_loss: 7.1230 - val_acc: 0.2527\n",
      "Epoch 37/50\n",
      "625/625 [==============================] - 4s 7ms/step - loss: 0.0151 - acc: 0.9948 - val_loss: 7.4677 - val_acc: 0.2643\n",
      "Epoch 38/50\n",
      "625/625 [==============================] - 4s 6ms/step - loss: 0.0189 - acc: 0.9948 - val_loss: 7.1370 - val_acc: 0.2516\n",
      "Epoch 39/50\n",
      "625/625 [==============================] - 3s 5ms/step - loss: 0.0104 - acc: 0.9963 - val_loss: 8.0351 - val_acc: 0.2670\n",
      "Epoch 40/50\n",
      "625/625 [==============================] - 4s 6ms/step - loss: 0.0123 - acc: 0.9961 - val_loss: 8.2110 - val_acc: 0.2646\n",
      "Epoch 41/50\n",
      "625/625 [==============================] - 3s 5ms/step - loss: 0.0122 - acc: 0.9961 - val_loss: 7.2148 - val_acc: 0.2976\n",
      "Epoch 42/50\n",
      "625/625 [==============================] - 5s 7ms/step - loss: 0.0090 - acc: 0.9969 - val_loss: 8.8192 - val_acc: 0.2392\n",
      "Epoch 43/50\n",
      "625/625 [==============================] - 4s 7ms/step - loss: 0.0156 - acc: 0.9952 - val_loss: 7.9134 - val_acc: 0.2873\n",
      "Epoch 44/50\n",
      "625/625 [==============================] - 4s 6ms/step - loss: 0.0147 - acc: 0.9952 - val_loss: 8.8206 - val_acc: 0.2517\n",
      "Epoch 45/50\n",
      "625/625 [==============================] - 6s 9ms/step - loss: 0.0092 - acc: 0.9972 - val_loss: 7.6789 - val_acc: 0.2760\n",
      "Epoch 46/50\n",
      "625/625 [==============================] - 3s 5ms/step - loss: 0.0078 - acc: 0.9977 - val_loss: 9.8026 - val_acc: 0.2684\n",
      "Epoch 47/50\n",
      "625/625 [==============================] - 5s 7ms/step - loss: 0.0123 - acc: 0.9966 - val_loss: 8.5978 - val_acc: 0.2845\n",
      "Epoch 48/50\n",
      "625/625 [==============================] - 4s 6ms/step - loss: 0.0124 - acc: 0.9962 - val_loss: 8.6186 - val_acc: 0.2712\n",
      "Epoch 49/50\n",
      "625/625 [==============================] - 5s 7ms/step - loss: 0.0097 - acc: 0.9967 - val_loss: 8.5293 - val_acc: 0.2611\n",
      "Epoch 50/50\n",
      "625/625 [==============================] - 4s 6ms/step - loss: 0.0093 - acc: 0.9970 - val_loss: 9.4003 - val_acc: 0.2626\n"
     ]
    }
   ],
   "source": [
    "history = model.fit(x=batched_dataset, validation_data=batched_val_dataset, epochs=50)"
   ]
  },
  {
   "cell_type": "markdown",
   "metadata": {},
   "source": [
    "# Visualize"
   ]
  },
  {
   "cell_type": "code",
   "execution_count": 18,
   "metadata": {},
   "outputs": [
    {
     "data": {
      "image/png": "[encoded data removed]",
      "text/plain": [
       "<Figure size 432x288 with 1 Axes>"
      ]
     },
     "metadata": {
      "needs_background": "light"
     },
     "output_type": "display_data"
    }
   ],
   "source": [
    "plt.plot(history.history['acc'])\n",
    "plt.plot(history.history['val_acc'])\n",
    "plt.title('model accuracy')\n",
    "plt.ylabel('accuracy')\n",
    "plt.xlabel('epoch')\n",
    "plt.legend(['train', 'val'], loc='upper left')\n",
    "plt.show()"
   ]
  }
 ],
 "metadata": {
  "interpreter": {
   "hash": "5c5b210ffa015f2312f69f2248e3163602cc860559c1494ea467ed1fecf0f25e"
  },
  "kernelspec": {
   "display_name": "Python 3.8.8 64-bit ('base': conda)",
   "language": "python",
   "name": "python3"
  },
  "language_info": {
   "codemirror_mode": {
    "name": "ipython",
    "version": 3
   },
   "file_extension": ".py",
   "mimetype": "text/x-python",
   "name": "python",
   "nbconvert_exporter": "python",
   "pygments_lexer": "ipython3",
   "version": "3.8.8"
  },
  "orig_nbformat": 4
 },
 "nbformat": 4,
 "nbformat_minor": 2
}
