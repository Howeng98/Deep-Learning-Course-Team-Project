{
 "cells": [
  {
   "cell_type": "markdown",
   "metadata": {},
   "source": [
    "# <center> DataLab Cup 4 : Unlearnable Dataset </center>\n",
    "## <center>Neural Tangent Generalization Attacks (NTGA)</center>"
   ]
  },
  {
   "cell_type": "code",
   "execution_count": 4,
   "metadata": {},
   "outputs": [
    {
     "name": "stdout",
     "output_type": "stream",
     "text": [
      "Collecting tensorflow-addons\n",
      "  Downloading tensorflow_addons-0.15.0-cp39-cp39-win_amd64.whl (753 kB)\n",
      "Collecting typeguard>=2.7\n",
      "  Downloading typeguard-2.13.3-py3-none-any.whl (17 kB)\n",
      "Installing collected packages: typeguard, tensorflow-addons\n",
      "Successfully installed tensorflow-addons-0.15.0 typeguard-2.13.3\n"
     ]
    }
   ],
   "source": [
    "# !pip install tensorflow-addons"
   ]
  },
  {
   "cell_type": "markdown",
   "metadata": {},
   "source": [
    "### import Library"
   ]
  },
  {
   "cell_type": "code",
   "execution_count": 1,
   "metadata": {},
   "outputs": [],
   "source": [
    "from __future__ import absolute_import, division, print_function, unicode_literals\n",
    "import tensorflow as tf\n",
    "from tensorflow.keras import layers\n",
    "from tensorflow import keras\n",
    "from tensorflow.keras.models import Sequential\n",
    "import tensorflow_addons as tfa\n",
    "import os\n",
    "\n",
    "import string\n",
    "import matplotlib.pyplot as plt\n",
    "import numpy as np\n",
    "import pandas as pd\n",
    "import PIL\n",
    "import random\n",
    "import time\n",
    "from pathlib import Path\n",
    "\n",
    "from tqdm import tqdm\n",
    "\n",
    "import re\n",
    "from IPython import display\n",
    "\n",
    "BATCH_SIZE = 64"
   ]
  },
  {
   "cell_type": "code",
   "execution_count": 2,
   "metadata": {},
   "outputs": [
    {
     "name": "stdout",
     "output_type": "stream",
     "text": [
      "1 Physical GPUs, 1 Logical GPUs\n"
     ]
    }
   ],
   "source": [
    "gpus = tf.config.experimental.list_physical_devices('GPU')\n",
    "if gpus:\n",
    "    try:\n",
    "        # Restrict TensorFlow to only use the first GPU\n",
    "        tf.config.experimental.set_visible_devices(gpus[0], 'GPU')\n",
    "\n",
    "        # Currently, memory growth needs to be the same across GPUs\n",
    "        for gpu in gpus:\n",
    "            tf.config.experimental.set_memory_growth(gpu, True)\n",
    "        logical_gpus = tf.config.experimental.list_logical_devices('GPU')\n",
    "        print(len(gpus), \"Physical GPUs,\", len(logical_gpus), \"Logical GPUs\")\n",
    "    except RuntimeError as e:\n",
    "        # Memory growth must be set before GPUs have been initialized\n",
    "        print(e)"
   ]
  },
  {
   "cell_type": "code",
   "execution_count": 3,
   "metadata": {},
   "outputs": [],
   "source": [
    "x_train = np.load('./dataset/x_train_cifar10_unlearn.npy')\n",
    "y_train = np.load('./dataset/y_train_cifar10.npy')\n",
    "x_val = np.load('./dataset/x_val_cifar10.npy')\n",
    "y_val = np.load('./dataset/y_val_cifar10.npy')\n",
    "\n",
    "y_train = np.argmax(y_train, axis=1)\n",
    "y_val = np.argmax(y_val, axis=1)"
   ]
  },
  {
   "cell_type": "code",
   "execution_count": 4,
   "metadata": {},
   "outputs": [],
   "source": [
    "train_dataset = tf.data.Dataset.from_tensor_slices((x_train, y_train))\n",
    "batched_dataset = train_dataset.batch(BATCH_SIZE, drop_remainder=True)\n",
    "\n",
    "val_dataset = tf.data.Dataset.from_tensor_slices((x_val, y_val))\n",
    "batched_val_dataset = val_dataset.batch(BATCH_SIZE, drop_remainder=True)"
   ]
  },
  {
   "cell_type": "code",
   "execution_count": 5,
   "metadata": {},
   "outputs": [
    {
     "data": {
      "image/png": "[encoded data removed]",
      "text/plain": [
       "<Figure size 432x288 with 1 Axes>"
      ]
     },
     "metadata": {
      "needs_background": "light"
     },
     "output_type": "display_data"
    }
   ],
   "source": [
    "for data in batched_dataset.take(1):\n",
    "    plt.imshow(data[0][3],cmap='gray')"
   ]
  },
  {
   "cell_type": "markdown",
   "metadata": {},
   "source": [
    "### Model - DenseNet121"
   ]
  },
  {
   "cell_type": "code",
   "execution_count": 6,
   "metadata": {},
   "outputs": [],
   "source": [
    "def conv_leaky_relu(inputs, filters, size, stride):\n",
    "    x = layers.Conv2D(filters, size, stride, padding=\"same\",\n",
    "                      kernel_initializer=tf.keras.initializers.TruncatedNormal())(inputs)\n",
    "    x = layers.LeakyReLU(0.1)(x)\n",
    "\n",
    "    return x"
   ]
  },
  {
   "cell_type": "code",
   "execution_count": 9,
   "metadata": {},
   "outputs": [
    {
     "name": "stdout",
     "output_type": "stream",
     "text": [
      "Model: \"DenseNet121\"\n",
      "_________________________________________________________________\n",
      " Layer (type)                Output Shape              Param #   \n",
      "=================================================================\n",
      " input_6 (InputLayer)        [(None, 32, 32, 3)]       0         \n",
      "                                                                 \n",
      " densenet121 (Functional)    (None, 1, 1, 1024)        7037504   \n",
      "                                                                 \n",
      " conv2d_2 (Conv2D)           (None, 1, 1, 128)         1179776   \n",
      "                                                                 \n",
      " leaky_re_lu_3 (LeakyReLU)   (None, 1, 1, 128)         0         \n",
      "                                                                 \n",
      " conv2d_3 (Conv2D)           (None, 1, 1, 128)         147584    \n",
      "                                                                 \n",
      " leaky_re_lu_4 (LeakyReLU)   (None, 1, 1, 128)         0         \n",
      "                                                                 \n",
      " flatten_1 (Flatten)         (None, 128)               0         \n",
      "                                                                 \n",
      " dense_2 (Dense)             (None, 128)               16512     \n",
      "                                                                 \n",
      " leaky_re_lu_5 (LeakyReLU)   (None, 128)               0         \n",
      "                                                                 \n",
      " dense_3 (Dense)             (None, 128)               16512     \n",
      "                                                                 \n",
      "=================================================================\n",
      "Total params: 8,397,888\n",
      "Trainable params: 1,360,384\n",
      "Non-trainable params: 7,037,504\n",
      "_________________________________________________________________\n"
     ]
    }
   ],
   "source": [
    "# # DenseNet121 (from competition 2 & change units from 1024 to 128)\n",
    "\n",
    "# IMAGE_SIZE = 32\n",
    "# input_shape = (IMAGE_SIZE, IMAGE_SIZE, 3)\n",
    "\n",
    "# densenet121 = tf.keras.applications.DenseNet121(input_shape=input_shape, include_top=False, weights=None ,classes=10)\n",
    "# densenet121.trainable = False\n",
    "\n",
    "# inputs = keras.Input(shape=input_shape)\n",
    "# x = densenet121(inputs, training=False)\n",
    "\n",
    "# x = conv_leaky_relu(x, 128, 3, 1)\n",
    "# x = conv_leaky_relu(x, 128, 3, 1)\n",
    "\n",
    "# x = layers.Flatten()(x)\n",
    "# x = layers.Dense(128)(x)\n",
    "# x = layers.LeakyReLU(0.1)(x)\n",
    "# outputs = layers.Dense(units=128, activation='softmax')(x)\n",
    "\n",
    "# model = keras.Model(inputs=inputs, outputs=outputs, name=\"DenseNet121\")\n",
    "# model.summary()"
   ]
  },
  {
   "cell_type": "code",
   "execution_count": 7,
   "metadata": {},
   "outputs": [
    {
     "name": "stdout",
     "output_type": "stream",
     "text": [
      "Model: \"DenseNet121\"\n",
      "_________________________________________________________________\n",
      " Layer (type)                Output Shape              Param #   \n",
      "=================================================================\n",
      " input_2 (InputLayer)        [(None, 32, 32, 3)]       0         \n",
      "                                                                 \n",
      " densenet121 (Functional)    (None, 1, 1, 1024)        7037504   \n",
      "                                                                 \n",
      " conv2d (Conv2D)             (None, 1, 1, 128)         1179776   \n",
      "                                                                 \n",
      " leaky_re_lu (LeakyReLU)     (None, 1, 1, 128)         0         \n",
      "                                                                 \n",
      " conv2d_1 (Conv2D)           (None, 1, 1, 128)         147584    \n",
      "                                                                 \n",
      " leaky_re_lu_1 (LeakyReLU)   (None, 1, 1, 128)         0         \n",
      "                                                                 \n",
      " flatten (Flatten)           (None, 128)               0         \n",
      "                                                                 \n",
      " dense (Dense)               (None, 128)               16512     \n",
      "                                                                 \n",
      " leaky_re_lu_2 (LeakyReLU)   (None, 128)               0         \n",
      "                                                                 \n",
      " dense_1 (Dense)             (None, 128)               16512     \n",
      "                                                                 \n",
      " dense_2 (Dense)             (None, 10)                1290      \n",
      "                                                                 \n",
      "=================================================================\n",
      "Total params: 8,399,178\n",
      "Trainable params: 1,361,674\n",
      "Non-trainable params: 7,037,504\n",
      "_________________________________________________________________\n"
     ]
    }
   ],
   "source": [
    "# DenseNet121 (turn softmax to relu & dense 10)\n",
    "\n",
    "IMAGE_SIZE = 32\n",
    "input_shape = (IMAGE_SIZE, IMAGE_SIZE, 3)\n",
    "\n",
    "densenet121 = tf.keras.applications.DenseNet121(input_shape=input_shape, include_top=False, weights=None ,classes=10)\n",
    "densenet121.trainable = False\n",
    "\n",
    "inputs = keras.Input(shape=input_shape)\n",
    "x = densenet121(inputs, training=False)\n",
    "\n",
    "x = conv_leaky_relu(x, 128, 3, 1)\n",
    "x = conv_leaky_relu(x, 128, 3, 1)\n",
    "\n",
    "x = layers.Flatten()(x)\n",
    "x = layers.Dense(128)(x)\n",
    "x = layers.LeakyReLU(0.1)(x)\n",
    "x = layers.Dense(128, activation='relu')(x)\n",
    "outputs = layers.Dense(10)(x)\n",
    "\n",
    "model = keras.Model(inputs=inputs, outputs=outputs, name=\"DenseNet121\")\n",
    "model.summary()\n",
    "\n",
    "#   layers.Dense(128, activation='relu'),\n",
    "#   layers.Dense(10)"
   ]
  },
  {
   "cell_type": "code",
   "execution_count": 8,
   "metadata": {},
   "outputs": [],
   "source": [
    "loss_fn = tf.losses.SparseCategoricalCrossentropy(from_logits=True)\n",
    "optimizer = tf.optimizers.Adam(learning_rate=0.001)\n",
    "model.compile(optimizer=optimizer, loss=loss_fn, metrics=['acc'])"
   ]
  },
  {
   "cell_type": "code",
   "execution_count": 15,
   "metadata": {},
   "outputs": [
    {
     "name": "stdout",
     "output_type": "stream",
     "text": [
      "Epoch 1/50\n",
      "625/625 [==============================] - 31s 44ms/step - loss: 2.1171 - acc: 0.1888 - val_loss: 1.9062 - val_acc: 0.2535\n",
      "Epoch 2/50\n",
      "625/625 [==============================] - 26s 41ms/step - loss: 1.9634 - acc: 0.2418 - val_loss: 1.8771 - val_acc: 0.2622\n",
      "Epoch 3/50\n",
      "625/625 [==============================] - 26s 41ms/step - loss: 1.9192 - acc: 0.2596 - val_loss: 1.8475 - val_acc: 0.2948\n",
      "Epoch 4/50\n",
      "625/625 [==============================] - 26s 42ms/step - loss: 1.8814 - acc: 0.2817 - val_loss: 1.8254 - val_acc: 0.3034\n",
      "Epoch 5/50\n",
      "625/625 [==============================] - 27s 43ms/step - loss: 1.8549 - acc: 0.2949 - val_loss: 1.7821 - val_acc: 0.3199\n",
      "Epoch 6/50\n",
      "625/625 [==============================] - 26s 42ms/step - loss: 1.8320 - acc: 0.3068 - val_loss: 1.7528 - val_acc: 0.3336\n",
      "Epoch 7/50\n",
      "625/625 [==============================] - 26s 41ms/step - loss: 1.8049 - acc: 0.3227 - val_loss: 1.7551 - val_acc: 0.3354 0s - loss: 1.8049 - acc: 0.322\n",
      "Epoch 8/50\n",
      "625/625 [==============================] - 26s 41ms/step - loss: 1.7795 - acc: 0.3325 - val_loss: 1.7596 - val_acc: 0.3359\n",
      "Epoch 9/50\n",
      "625/625 [==============================] - 26s 42ms/step - loss: 1.7587 - acc: 0.3419 - val_loss: 1.7535 - val_acc: 0.3396\n",
      "Epoch 10/50\n",
      "625/625 [==============================] - 27s 43ms/step - loss: 1.7371 - acc: 0.3519 - val_loss: 1.7456 - val_acc: 0.3491\n",
      "Epoch 11/50\n",
      "625/625 [==============================] - 26s 42ms/step - loss: 1.7183 - acc: 0.3616 - val_loss: 1.7304 - val_acc: 0.3549\n",
      "Epoch 12/50\n",
      "625/625 [==============================] - 27s 42ms/step - loss: 1.7008 - acc: 0.3715 - val_loss: 1.7358 - val_acc: 0.3551\n",
      "Epoch 13/50\n",
      "625/625 [==============================] - 26s 42ms/step - loss: 1.6846 - acc: 0.3765 - val_loss: 1.7098 - val_acc: 0.3624\n",
      "Epoch 14/50\n",
      "625/625 [==============================] - 26s 42ms/step - loss: 1.6693 - acc: 0.3822 - val_loss: 1.6898 - val_acc: 0.3691\n",
      "Epoch 15/50\n",
      "625/625 [==============================] - 26s 42ms/step - loss: 1.6549 - acc: 0.3894 - val_loss: 1.6947 - val_acc: 0.3695\n",
      "Epoch 16/50\n",
      "625/625 [==============================] - 26s 42ms/step - loss: 1.6422 - acc: 0.3973 - val_loss: 1.6746 - val_acc: 0.3759\n",
      "Epoch 17/50\n",
      "625/625 [==============================] - 26s 42ms/step - loss: 1.6262 - acc: 0.4046 - val_loss: 1.6819 - val_acc: 0.3759\n",
      "Epoch 18/50\n",
      "625/625 [==============================] - 26s 42ms/step - loss: 1.6103 - acc: 0.4130 - val_loss: 1.7048 - val_acc: 0.3726\n",
      "Epoch 19/50\n",
      "625/625 [==============================] - 26s 41ms/step - loss: 1.5965 - acc: 0.4180 - val_loss: 1.7052 - val_acc: 0.3781\n",
      "Epoch 20/50\n",
      "625/625 [==============================] - 26s 41ms/step - loss: 1.5808 - acc: 0.4241 - val_loss: 1.7123 - val_acc: 0.3775\n",
      "Epoch 21/50\n",
      "625/625 [==============================] - 26s 41ms/step - loss: 1.5688 - acc: 0.4315 - val_loss: 1.7210 - val_acc: 0.3808\n",
      "Epoch 22/50\n",
      "625/625 [==============================] - 26s 42ms/step - loss: 1.5550 - acc: 0.4362 - val_loss: 1.7216 - val_acc: 0.3837\n",
      "Epoch 23/50\n",
      "625/625 [==============================] - 25s 40ms/step - loss: 1.5446 - acc: 0.4396 - val_loss: 1.7171 - val_acc: 0.3834\n",
      "Epoch 24/50\n",
      "625/625 [==============================] - 26s 41ms/step - loss: 1.5359 - acc: 0.4431 - val_loss: 1.7252 - val_acc: 0.3845 los\n",
      "Epoch 25/50\n",
      "625/625 [==============================] - 26s 41ms/step - loss: 1.5255 - acc: 0.4477 - val_loss: 1.7155 - val_acc: 0.3904\n",
      "Epoch 26/50\n",
      "625/625 [==============================] - 26s 41ms/step - loss: 1.5170 - acc: 0.4503 - val_loss: 1.6933 - val_acc: 0.3948\n",
      "Epoch 27/50\n",
      "625/625 [==============================] - 25s 40ms/step - loss: 1.5096 - acc: 0.4523 - val_loss: 1.6848 - val_acc: 0.3964\n",
      "Epoch 28/50\n",
      "625/625 [==============================] - 26s 41ms/step - loss: 1.5055 - acc: 0.4539 - val_loss: 1.6768 - val_acc: 0.4010\n",
      "Epoch 29/50\n",
      "625/625 [==============================] - 25s 41ms/step - loss: 1.4960 - acc: 0.4577 - val_loss: 1.6865 - val_acc: 0.4019\n",
      "Epoch 30/50\n",
      "625/625 [==============================] - 26s 42ms/step - loss: 1.4900 - acc: 0.4606 - val_loss: 1.6655 - val_acc: 0.4061\n",
      "Epoch 31/50\n",
      "625/625 [==============================] - 26s 41ms/step - loss: 1.4794 - acc: 0.4622 - val_loss: 1.6707 - val_acc: 0.4048\n",
      "Epoch 32/50\n",
      "625/625 [==============================] - 26s 41ms/step - loss: 1.4680 - acc: 0.4685 - val_loss: 1.6733 - val_acc: 0.4058\n",
      "Epoch 33/50\n",
      "625/625 [==============================] - 25s 40ms/step - loss: 1.4630 - acc: 0.4698 - val_loss: 1.6757 - val_acc: 0.4093\n",
      "Epoch 34/50\n",
      "625/625 [==============================] - 25s 41ms/step - loss: 1.4505 - acc: 0.4746 - val_loss: 1.6546 - val_acc: 0.4112\n",
      "Epoch 35/50\n",
      "625/625 [==============================] - 26s 41ms/step - loss: 1.4409 - acc: 0.4793 - val_loss: 1.6734 - val_acc: 0.4112\n",
      "Epoch 36/50\n",
      "625/625 [==============================] - 26s 41ms/step - loss: 1.4396 - acc: 0.4789 - val_loss: 1.6549 - val_acc: 0.4095\n",
      "Epoch 37/50\n",
      "625/625 [==============================] - 26s 41ms/step - loss: 1.4344 - acc: 0.4816 - val_loss: 1.6389 - val_acc: 0.4163\n",
      "Epoch 38/50\n",
      "625/625 [==============================] - 26s 41ms/step - loss: 1.4244 - acc: 0.4858 - val_loss: 1.6475 - val_acc: 0.4169\n",
      "Epoch 39/50\n",
      "625/625 [==============================] - 26s 42ms/step - loss: 1.4174 - acc: 0.4896 - val_loss: 1.6540 - val_acc: 0.4155\n",
      "Epoch 40/50\n",
      "625/625 [==============================] - 26s 41ms/step - loss: 1.4111 - acc: 0.4913 - val_loss: 1.6444 - val_acc: 0.4183\n",
      "Epoch 41/50\n",
      "625/625 [==============================] - 26s 41ms/step - loss: 1.4041 - acc: 0.4947 - val_loss: 1.6669 - val_acc: 0.4149\n",
      "Epoch 42/50\n",
      "625/625 [==============================] - 26s 41ms/step - loss: 1.4061 - acc: 0.4927 - val_loss: 1.6463 - val_acc: 0.4199\n",
      "Epoch 43/50\n",
      "625/625 [==============================] - 25s 41ms/step - loss: 1.3998 - acc: 0.4962 - val_loss: 1.6577 - val_acc: 0.4191\n",
      "Epoch 44/50\n",
      "625/625 [==============================] - 26s 41ms/step - loss: 1.3929 - acc: 0.4988 - val_loss: 1.6621 - val_acc: 0.4234\n",
      "Epoch 45/50\n",
      "625/625 [==============================] - 25s 40ms/step - loss: 1.3862 - acc: 0.5014 - val_loss: 1.6770 - val_acc: 0.4222\n",
      "Epoch 46/50\n",
      "625/625 [==============================] - 26s 41ms/step - loss: 1.3804 - acc: 0.5031 - val_loss: 1.6830 - val_acc: 0.4202\n",
      "Epoch 47/50\n",
      "625/625 [==============================] - 26s 41ms/step - loss: 1.3738 - acc: 0.5055 - val_loss: 1.6942 - val_acc: 0.4167\n",
      "Epoch 48/50\n",
      "625/625 [==============================] - 26s 41ms/step - loss: 1.3695 - acc: 0.5070 - val_loss: 1.6838 - val_acc: 0.4177\n",
      "Epoch 49/50\n",
      "625/625 [==============================] - 25s 40ms/step - loss: 1.3641 - acc: 0.5093 - val_loss: 1.6902 - val_acc: 0.4206\n",
      "Epoch 50/50\n",
      "625/625 [==============================] - 26s 41ms/step - loss: 1.3563 - acc: 0.5124 - val_loss: 1.6842 - val_acc: 0.4222\n"
     ]
    }
   ],
   "source": [
    "# denseNet v3\n",
    "# history = model.fit(x=batched_dataset, validation_data=batched_val_dataset, epochs=50) "
   ]
  },
  {
   "cell_type": "code",
   "execution_count": 10,
   "metadata": {},
   "outputs": [
    {
     "name": "stdout",
     "output_type": "stream",
     "text": [
      "Epoch 1/200\n",
      "625/625 [==============================] - 34s 43ms/step - loss: 2.1566 - acc: 0.1862 - val_loss: 1.9506 - val_acc: 0.2625\n",
      "Epoch 2/200\n",
      "625/625 [==============================] - 26s 42ms/step - loss: 2.0113 - acc: 0.2368 - val_loss: 1.8964 - val_acc: 0.2671\n",
      "Epoch 3/200\n",
      "625/625 [==============================] - 26s 41ms/step - loss: 1.9639 - acc: 0.2517 - val_loss: 1.8631 - val_acc: 0.2843\n",
      "Epoch 4/200\n",
      "625/625 [==============================] - 26s 41ms/step - loss: 1.9252 - acc: 0.2717 - val_loss: 1.8399 - val_acc: 0.2950\n",
      "Epoch 5/200\n",
      "625/625 [==============================] - 26s 42ms/step - loss: 1.8874 - acc: 0.2887 - val_loss: 1.8509 - val_acc: 0.2911\n",
      "Epoch 6/200\n",
      "625/625 [==============================] - 26s 41ms/step - loss: 1.8528 - acc: 0.3051 - val_loss: 1.8782 - val_acc: 0.2898\n",
      "Epoch 7/200\n",
      "625/625 [==============================] - 26s 42ms/step - loss: 1.8283 - acc: 0.3142 - val_loss: 1.8366 - val_acc: 0.3027\n",
      "Epoch 8/200\n",
      "625/625 [==============================] - 26s 42ms/step - loss: 1.8034 - acc: 0.3258 - val_loss: 1.8408 - val_acc: 0.3114\n",
      "Epoch 9/200\n",
      "625/625 [==============================] - 26s 41ms/step - loss: 1.7818 - acc: 0.3370 - val_loss: 1.8417 - val_acc: 0.3146\n",
      "Epoch 10/200\n",
      "625/625 [==============================] - 25s 41ms/step - loss: 1.7643 - acc: 0.3422 - val_loss: 1.8427 - val_acc: 0.3140\n",
      "Epoch 11/200\n",
      "625/625 [==============================] - 26s 41ms/step - loss: 1.7467 - acc: 0.3502 - val_loss: 1.8142 - val_acc: 0.3234\n",
      "Epoch 12/200\n",
      "625/625 [==============================] - 26s 41ms/step - loss: 1.7301 - acc: 0.3572 - val_loss: 1.8200 - val_acc: 0.3255\n",
      "Epoch 13/200\n",
      "625/625 [==============================] - 25s 40ms/step - loss: 1.7148 - acc: 0.3620 - val_loss: 1.8129 - val_acc: 0.3281\n",
      "Epoch 14/200\n",
      "625/625 [==============================] - 25s 40ms/step - loss: 1.6995 - acc: 0.3699 - val_loss: 1.7988 - val_acc: 0.3392\n",
      "Epoch 15/200\n",
      "625/625 [==============================] - 25s 40ms/step - loss: 1.6866 - acc: 0.3775 - val_loss: 1.7995 - val_acc: 0.3370\n",
      "Epoch 16/200\n",
      "625/625 [==============================] - 25s 40ms/step - loss: 1.6738 - acc: 0.3839 - val_loss: 1.7977 - val_acc: 0.3385\n",
      "Epoch 17/200\n",
      "625/625 [==============================] - 25s 40ms/step - loss: 1.6619 - acc: 0.3881 - val_loss: 1.7795 - val_acc: 0.3445\n",
      "Epoch 18/200\n",
      "625/625 [==============================] - 25s 40ms/step - loss: 1.6515 - acc: 0.3936 - val_loss: 1.7956 - val_acc: 0.3427\n",
      "Epoch 19/200\n",
      "625/625 [==============================] - 25s 40ms/step - loss: 1.6356 - acc: 0.4013 - val_loss: 1.7825 - val_acc: 0.3483\n",
      "Epoch 20/200\n",
      "625/625 [==============================] - 25s 40ms/step - loss: 1.6245 - acc: 0.4058 - val_loss: 1.7504 - val_acc: 0.3580\n",
      "Epoch 21/200\n",
      "625/625 [==============================] - 25s 40ms/step - loss: 1.6118 - acc: 0.4113 - val_loss: 1.7548 - val_acc: 0.3617\n",
      "Epoch 22/200\n",
      "625/625 [==============================] - 25s 40ms/step - loss: 1.6017 - acc: 0.4146 - val_loss: 1.7470 - val_acc: 0.3643\n",
      "Epoch 23/200\n",
      "625/625 [==============================] - 25s 39ms/step - loss: 1.5881 - acc: 0.4195 - val_loss: 1.7529 - val_acc: 0.3643\n",
      "Epoch 24/200\n",
      "625/625 [==============================] - 25s 40ms/step - loss: 1.5806 - acc: 0.4233 - val_loss: 1.7329 - val_acc: 0.3720\n",
      "Epoch 25/200\n",
      "625/625 [==============================] - 25s 39ms/step - loss: 1.5687 - acc: 0.4286 - val_loss: 1.7357 - val_acc: 0.3729\n",
      "Epoch 26/200\n",
      "625/625 [==============================] - 25s 40ms/step - loss: 1.5575 - acc: 0.4339 - val_loss: 1.7142 - val_acc: 0.3790\n",
      "Epoch 27/200\n",
      "625/625 [==============================] - 25s 40ms/step - loss: 1.5492 - acc: 0.4377 - val_loss: 1.7270 - val_acc: 0.3757\n",
      "Epoch 28/200\n",
      "625/625 [==============================] - 25s 40ms/step - loss: 1.5422 - acc: 0.4395 - val_loss: 1.7504 - val_acc: 0.3691\n",
      "Epoch 29/200\n",
      "625/625 [==============================] - 25s 40ms/step - loss: 1.5325 - acc: 0.4424 - val_loss: 1.7606 - val_acc: 0.3702\n",
      "Epoch 30/200\n",
      "625/625 [==============================] - 25s 39ms/step - loss: 1.5250 - acc: 0.4452 - val_loss: 1.7433 - val_acc: 0.3752\n",
      "Epoch 31/200\n",
      "625/625 [==============================] - 25s 40ms/step - loss: 1.5155 - acc: 0.4487 - val_loss: 1.7342 - val_acc: 0.3811\n",
      "Epoch 32/200\n",
      "625/625 [==============================] - 25s 40ms/step - loss: 1.5087 - acc: 0.4527 - val_loss: 1.7329 - val_acc: 0.3786\n",
      "Epoch 33/200\n",
      "625/625 [==============================] - 25s 40ms/step - loss: 1.5028 - acc: 0.4554 - val_loss: 1.7055 - val_acc: 0.3880\n",
      "Epoch 34/200\n",
      "625/625 [==============================] - 25s 40ms/step - loss: 1.4954 - acc: 0.4563 - val_loss: 1.7004 - val_acc: 0.3880\n",
      "Epoch 35/200\n",
      "625/625 [==============================] - 25s 40ms/step - loss: 1.4898 - acc: 0.4586 - val_loss: 1.6964 - val_acc: 0.3907\n",
      "Epoch 36/200\n",
      "625/625 [==============================] - 25s 40ms/step - loss: 1.4886 - acc: 0.4588 - val_loss: 1.6898 - val_acc: 0.3917\n",
      "Epoch 37/200\n",
      "625/625 [==============================] - 25s 40ms/step - loss: 1.4781 - acc: 0.4640 - val_loss: 1.6743 - val_acc: 0.3931\n",
      "Epoch 38/200\n",
      "625/625 [==============================] - 25s 40ms/step - loss: 1.4756 - acc: 0.4642 - val_loss: 1.6910 - val_acc: 0.3938\n",
      "Epoch 39/200\n",
      "625/625 [==============================] - 25s 40ms/step - loss: 1.4734 - acc: 0.4642 - val_loss: 1.6636 - val_acc: 0.4011\n",
      "Epoch 40/200\n",
      "625/625 [==============================] - 25s 40ms/step - loss: 1.4642 - acc: 0.4696 - val_loss: 1.6837 - val_acc: 0.3997\n",
      "Epoch 41/200\n",
      "625/625 [==============================] - 25s 40ms/step - loss: 1.4596 - acc: 0.4708 - val_loss: 1.6724 - val_acc: 0.4017\n",
      "Epoch 42/200\n",
      "625/625 [==============================] - 25s 40ms/step - loss: 1.4468 - acc: 0.4762 - val_loss: 1.6808 - val_acc: 0.4010\n",
      "Epoch 43/200\n",
      "625/625 [==============================] - 25s 40ms/step - loss: 1.4491 - acc: 0.4754 - val_loss: 1.6727 - val_acc: 0.4014\n",
      "Epoch 44/200\n",
      "625/625 [==============================] - 25s 40ms/step - loss: 1.4400 - acc: 0.4803 - val_loss: 1.6815 - val_acc: 0.3997\n",
      "Epoch 45/200\n",
      "625/625 [==============================] - 25s 40ms/step - loss: 1.4419 - acc: 0.4791 - val_loss: 1.6708 - val_acc: 0.4024\n",
      "Epoch 46/200\n",
      "625/625 [==============================] - 25s 40ms/step - loss: 1.4494 - acc: 0.4780 - val_loss: 1.6860 - val_acc: 0.3973\n",
      "Epoch 47/200\n",
      "625/625 [==============================] - 25s 40ms/step - loss: 1.4440 - acc: 0.4795 - val_loss: 1.6887 - val_acc: 0.3983\n",
      "Epoch 48/200\n",
      "625/625 [==============================] - 25s 40ms/step - loss: 1.4375 - acc: 0.4830 - val_loss: 1.6893 - val_acc: 0.4007\n",
      "Epoch 49/200\n",
      "625/625 [==============================] - 25s 40ms/step - loss: 1.4310 - acc: 0.4834 - val_loss: 1.7008 - val_acc: 0.3970\n",
      "Epoch 50/200\n",
      "625/625 [==============================] - 25s 39ms/step - loss: 1.4250 - acc: 0.4851 - val_loss: 1.6877 - val_acc: 0.4019\n",
      "Epoch 51/200\n",
      "625/625 [==============================] - 25s 40ms/step - loss: 1.4226 - acc: 0.4864 - val_loss: 1.6749 - val_acc: 0.4071\n",
      "Epoch 52/200\n",
      "625/625 [==============================] - 25s 40ms/step - loss: 1.4107 - acc: 0.4929 - val_loss: 1.6723 - val_acc: 0.4090\n",
      "Epoch 53/200\n",
      "625/625 [==============================] - 25s 40ms/step - loss: 1.4062 - acc: 0.4933 - val_loss: 1.6759 - val_acc: 0.4067\n",
      "Epoch 54/200\n",
      "625/625 [==============================] - 25s 40ms/step - loss: 1.4021 - acc: 0.4945 - val_loss: 1.6723 - val_acc: 0.4112\n",
      "Epoch 55/200\n",
      "625/625 [==============================] - 26s 41ms/step - loss: 1.3999 - acc: 0.4967 - val_loss: 1.6640 - val_acc: 0.4133\n",
      "Epoch 56/200\n",
      "625/625 [==============================] - 25s 41ms/step - loss: 1.3933 - acc: 0.4997 - val_loss: 1.6698 - val_acc: 0.4123\n",
      "Epoch 57/200\n",
      "625/625 [==============================] - 25s 40ms/step - loss: 1.3963 - acc: 0.4975 - val_loss: 1.6833 - val_acc: 0.4035\n",
      "Epoch 58/200\n",
      "625/625 [==============================] - 25s 40ms/step - loss: 1.3936 - acc: 0.5003 - val_loss: 1.6886 - val_acc: 0.4019\n",
      "Epoch 59/200\n",
      "625/625 [==============================] - 25s 41ms/step - loss: 1.3845 - acc: 0.5030 - val_loss: 1.6806 - val_acc: 0.4043\n",
      "Epoch 60/200\n",
      "625/625 [==============================] - 24s 39ms/step - loss: 1.3770 - acc: 0.5051 - val_loss: 1.6941 - val_acc: 0.4042\n",
      "Epoch 61/200\n",
      "625/625 [==============================] - 24s 39ms/step - loss: 1.3710 - acc: 0.5080 - val_loss: 1.6845 - val_acc: 0.4050\n",
      "Epoch 62/200\n",
      "625/625 [==============================] - 24s 39ms/step - loss: 1.3679 - acc: 0.5084 - val_loss: 1.6985 - val_acc: 0.4015\n",
      "Epoch 63/200\n",
      "625/625 [==============================] - 24s 39ms/step - loss: 1.3622 - acc: 0.5116 - val_loss: 1.6945 - val_acc: 0.4028\n",
      "Epoch 64/200\n",
      "625/625 [==============================] - 24s 39ms/step - loss: 1.3584 - acc: 0.5122 - val_loss: 1.6878 - val_acc: 0.4058\n",
      "Epoch 65/200\n",
      "625/625 [==============================] - 25s 40ms/step - loss: 1.3607 - acc: 0.5110 - val_loss: 1.6840 - val_acc: 0.4092\n",
      "Epoch 66/200\n",
      "625/625 [==============================] - 25s 40ms/step - loss: 1.3615 - acc: 0.5105 - val_loss: 1.6608 - val_acc: 0.4113\n",
      "Epoch 67/200\n",
      "625/625 [==============================] - 25s 41ms/step - loss: 1.3524 - acc: 0.5133 - val_loss: 1.6958 - val_acc: 0.4021\n",
      "Epoch 68/200\n",
      "625/625 [==============================] - 25s 40ms/step - loss: 1.3514 - acc: 0.5133 - val_loss: 1.6795 - val_acc: 0.4108\n",
      "Epoch 69/200\n",
      "625/625 [==============================] - 25s 40ms/step - loss: 1.3355 - acc: 0.5206 - val_loss: 1.6739 - val_acc: 0.4132\n",
      "Epoch 70/200\n",
      "625/625 [==============================] - 25s 39ms/step - loss: 1.3392 - acc: 0.5180 - val_loss: 1.6805 - val_acc: 0.4095\n",
      "Epoch 71/200\n",
      "625/625 [==============================] - 25s 39ms/step - loss: 1.3418 - acc: 0.5164 - val_loss: 1.6675 - val_acc: 0.4149\n",
      "Epoch 72/200\n",
      "625/625 [==============================] - 24s 39ms/step - loss: 1.3422 - acc: 0.5177 - val_loss: 1.6772 - val_acc: 0.4091\n",
      "Epoch 73/200\n",
      "625/625 [==============================] - 24s 39ms/step - loss: 1.3453 - acc: 0.5171 - val_loss: 1.6682 - val_acc: 0.4108\n",
      "Epoch 74/200\n",
      "625/625 [==============================] - 24s 39ms/step - loss: 1.3355 - acc: 0.5205 - val_loss: 1.6739 - val_acc: 0.4060\n",
      "Epoch 75/200\n",
      "625/625 [==============================] - 24s 39ms/step - loss: 1.3244 - acc: 0.5249 - val_loss: 1.6766 - val_acc: 0.4069\n",
      "Epoch 76/200\n",
      "625/625 [==============================] - 24s 39ms/step - loss: 1.3215 - acc: 0.5254 - val_loss: 1.6737 - val_acc: 0.4115\n",
      "Epoch 77/200\n",
      "625/625 [==============================] - 24s 39ms/step - loss: 1.3114 - acc: 0.5298 - val_loss: 1.6817 - val_acc: 0.4146\n",
      "Epoch 78/200\n",
      "625/625 [==============================] - 25s 40ms/step - loss: 1.3088 - acc: 0.5302 - val_loss: 1.6835 - val_acc: 0.4166\n",
      "Epoch 79/200\n",
      "625/625 [==============================] - 25s 40ms/step - loss: 1.3040 - acc: 0.5314 - val_loss: 1.6859 - val_acc: 0.4123\n",
      "Epoch 80/200\n",
      "625/625 [==============================] - 25s 40ms/step - loss: 1.3045 - acc: 0.5315 - val_loss: 1.6889 - val_acc: 0.4150\n",
      "Epoch 81/200\n",
      "625/625 [==============================] - 25s 40ms/step - loss: 1.2954 - acc: 0.5349 - val_loss: 1.7020 - val_acc: 0.4098\n",
      "Epoch 82/200\n",
      "625/625 [==============================] - 25s 40ms/step - loss: 1.2965 - acc: 0.5312 - val_loss: 1.6922 - val_acc: 0.4159\n",
      "Epoch 83/200\n",
      "625/625 [==============================] - 25s 40ms/step - loss: 1.3024 - acc: 0.5311 - val_loss: 1.6827 - val_acc: 0.4177\n",
      "Epoch 84/200\n",
      "625/625 [==============================] - 25s 40ms/step - loss: 1.3072 - acc: 0.5282 - val_loss: 1.7226 - val_acc: 0.4091\n",
      "Epoch 85/200\n",
      "625/625 [==============================] - 25s 40ms/step - loss: 1.3076 - acc: 0.5311 - val_loss: 1.7171 - val_acc: 0.4146\n",
      "Epoch 86/200\n",
      "625/625 [==============================] - 25s 40ms/step - loss: 1.3014 - acc: 0.5325 - val_loss: 1.7198 - val_acc: 0.4066\n",
      "Epoch 87/200\n",
      "625/625 [==============================] - 25s 40ms/step - loss: 1.2834 - acc: 0.5390 - val_loss: 1.7357 - val_acc: 0.4037\n",
      "Epoch 88/200\n",
      "625/625 [==============================] - 25s 40ms/step - loss: 1.2801 - acc: 0.5397 - val_loss: 1.7144 - val_acc: 0.4093\n",
      "Epoch 89/200\n",
      "625/625 [==============================] - 25s 40ms/step - loss: 1.2737 - acc: 0.5421 - val_loss: 1.7394 - val_acc: 0.4008\n",
      "Epoch 90/200\n",
      "625/625 [==============================] - 25s 40ms/step - loss: 1.2666 - acc: 0.5460 - val_loss: 1.7476 - val_acc: 0.4025\n",
      "Epoch 91/200\n",
      "625/625 [==============================] - 25s 40ms/step - loss: 1.2670 - acc: 0.5447 - val_loss: 1.7517 - val_acc: 0.4022\n",
      "Epoch 92/200\n",
      "625/625 [==============================] - 25s 40ms/step - loss: 1.2609 - acc: 0.5470 - val_loss: 1.7578 - val_acc: 0.4009\n",
      "Epoch 93/200\n",
      "625/625 [==============================] - 25s 40ms/step - loss: 1.2697 - acc: 0.5443 - val_loss: 1.7184 - val_acc: 0.4090\n",
      "Epoch 94/200\n",
      "625/625 [==============================] - 25s 40ms/step - loss: 1.2531 - acc: 0.5516 - val_loss: 1.7323 - val_acc: 0.4072\n",
      "Epoch 95/200\n",
      "625/625 [==============================] - 25s 40ms/step - loss: 1.2387 - acc: 0.5526 - val_loss: 1.7375 - val_acc: 0.4117\n",
      "Epoch 96/200\n",
      "625/625 [==============================] - 25s 40ms/step - loss: 1.2368 - acc: 0.5534 - val_loss: 1.7519 - val_acc: 0.4025\n",
      "Epoch 97/200\n",
      "625/625 [==============================] - 25s 40ms/step - loss: 1.2295 - acc: 0.5581 - val_loss: 1.7549 - val_acc: 0.4006\n",
      "Epoch 98/200\n",
      "625/625 [==============================] - 25s 40ms/step - loss: 1.2355 - acc: 0.5562 - val_loss: 1.7560 - val_acc: 0.3990\n",
      "Epoch 99/200\n",
      "625/625 [==============================] - 25s 40ms/step - loss: 1.2465 - acc: 0.5509 - val_loss: 1.7703 - val_acc: 0.3994\n",
      "Epoch 100/200\n",
      "625/625 [==============================] - 25s 40ms/step - loss: 1.2573 - acc: 0.5464 - val_loss: 1.8111 - val_acc: 0.3832\n",
      "Epoch 101/200\n",
      "625/625 [==============================] - 25s 40ms/step - loss: 1.2526 - acc: 0.5501 - val_loss: 1.8041 - val_acc: 0.3875\n",
      "Epoch 102/200\n",
      "625/625 [==============================] - 25s 40ms/step - loss: 1.2344 - acc: 0.5567 - val_loss: 1.8034 - val_acc: 0.3934\n",
      "Epoch 103/200\n",
      "625/625 [==============================] - 25s 40ms/step - loss: 1.2243 - acc: 0.5602 - val_loss: 1.8466 - val_acc: 0.3816\n",
      "Epoch 104/200\n",
      "625/625 [==============================] - 25s 40ms/step - loss: 1.2330 - acc: 0.5552 - val_loss: 1.9698 - val_acc: 0.3604\n",
      "Epoch 105/200\n",
      "625/625 [==============================] - 25s 40ms/step - loss: 1.2331 - acc: 0.5549 - val_loss: 2.0781 - val_acc: 0.3428\n",
      "Epoch 106/200\n",
      "625/625 [==============================] - 25s 40ms/step - loss: 1.2257 - acc: 0.5586 - val_loss: 2.1050 - val_acc: 0.3431\n",
      "Epoch 107/200\n",
      "625/625 [==============================] - 25s 40ms/step - loss: 1.2245 - acc: 0.5579 - val_loss: 2.1085 - val_acc: 0.3426\n",
      "Epoch 108/200\n",
      "625/625 [==============================] - 25s 40ms/step - loss: 1.2274 - acc: 0.5578 - val_loss: 2.0683 - val_acc: 0.3482\n",
      "Epoch 109/200\n",
      "625/625 [==============================] - 25s 40ms/step - loss: 1.2134 - acc: 0.5630 - val_loss: 2.0465 - val_acc: 0.3520\n",
      "Epoch 110/200\n",
      "625/625 [==============================] - 25s 40ms/step - loss: 1.2121 - acc: 0.5642 - val_loss: 2.0712 - val_acc: 0.3493\n",
      "Epoch 111/200\n",
      "625/625 [==============================] - 25s 39ms/step - loss: 1.2104 - acc: 0.5640 - val_loss: 1.9756 - val_acc: 0.3637\n",
      "Epoch 112/200\n",
      "625/625 [==============================] - 25s 40ms/step - loss: 1.2162 - acc: 0.5605 - val_loss: 1.9330 - val_acc: 0.3714\n",
      "Epoch 113/200\n",
      "625/625 [==============================] - 25s 40ms/step - loss: 1.2095 - acc: 0.5657 - val_loss: 1.9205 - val_acc: 0.3739\n",
      "Epoch 114/200\n",
      "625/625 [==============================] - 25s 40ms/step - loss: 1.2115 - acc: 0.5631 - val_loss: 1.9132 - val_acc: 0.3731\n",
      "Epoch 115/200\n",
      "625/625 [==============================] - 25s 40ms/step - loss: 1.1970 - acc: 0.5684 - val_loss: 1.9064 - val_acc: 0.3803\n",
      "Epoch 116/200\n",
      "625/625 [==============================] - 25s 40ms/step - loss: 1.1842 - acc: 0.5732 - val_loss: 1.8942 - val_acc: 0.3760\n",
      "Epoch 117/200\n",
      "625/625 [==============================] - 25s 40ms/step - loss: 1.1616 - acc: 0.5818 - val_loss: 1.9081 - val_acc: 0.3795\n",
      "Epoch 118/200\n",
      "625/625 [==============================] - 25s 39ms/step - loss: 1.1526 - acc: 0.5858 - val_loss: 1.9048 - val_acc: 0.3831\n",
      "Epoch 119/200\n",
      "625/625 [==============================] - 25s 40ms/step - loss: 1.1468 - acc: 0.5864 - val_loss: 2.0009 - val_acc: 0.3730\n",
      "Epoch 120/200\n",
      "625/625 [==============================] - 25s 40ms/step - loss: 1.1434 - acc: 0.5872 - val_loss: 2.0215 - val_acc: 0.3699\n",
      "Epoch 121/200\n",
      "625/625 [==============================] - 25s 40ms/step - loss: 1.1433 - acc: 0.5872 - val_loss: 2.0120 - val_acc: 0.3751\n",
      "Epoch 122/200\n",
      "625/625 [==============================] - 25s 40ms/step - loss: 1.1401 - acc: 0.5886 - val_loss: 2.0419 - val_acc: 0.3666\n",
      "Epoch 123/200\n",
      "625/625 [==============================] - 25s 40ms/step - loss: 1.1473 - acc: 0.5865 - val_loss: 2.0097 - val_acc: 0.3735\n",
      "Epoch 124/200\n",
      "625/625 [==============================] - 25s 40ms/step - loss: 1.1411 - acc: 0.5912 - val_loss: 1.9705 - val_acc: 0.3757\n",
      "Epoch 125/200\n",
      "625/625 [==============================] - 25s 40ms/step - loss: 1.1408 - acc: 0.5878 - val_loss: 1.9705 - val_acc: 0.3775\n",
      "Epoch 126/200\n",
      "625/625 [==============================] - 25s 40ms/step - loss: 1.1443 - acc: 0.5883 - val_loss: 1.9676 - val_acc: 0.3772\n",
      "Epoch 127/200\n",
      "625/625 [==============================] - 25s 40ms/step - loss: 1.1411 - acc: 0.5877 - val_loss: 1.9486 - val_acc: 0.3812- l - ETA: 0s - loss: 1.1396 \n",
      "Epoch 128/200\n",
      "625/625 [==============================] - 25s 40ms/step - loss: 1.1329 - acc: 0.5910 - val_loss: 1.9843 - val_acc: 0.3716\n",
      "Epoch 129/200\n",
      "625/625 [==============================] - 25s 40ms/step - loss: 1.1301 - acc: 0.5922 - val_loss: 1.9454 - val_acc: 0.38561.1282 -\n",
      "Epoch 130/200\n",
      "625/625 [==============================] - 25s 40ms/step - loss: 1.1293 - acc: 0.5925 - val_loss: 1.9325 - val_acc: 0.3827\n",
      "Epoch 131/200\n",
      "625/625 [==============================] - 25s 40ms/step - loss: 1.1292 - acc: 0.5903 - val_loss: 1.9507 - val_acc: 0.3858\n",
      "Epoch 132/200\n",
      "625/625 [==============================] - 25s 40ms/step - loss: 1.1263 - acc: 0.5936 - val_loss: 1.9123 - val_acc: 0.3864\n",
      "Epoch 133/200\n",
      "625/625 [==============================] - 25s 39ms/step - loss: 1.1335 - acc: 0.5907 - val_loss: 1.9271 - val_acc: 0.3843\n",
      "Epoch 134/200\n",
      "625/625 [==============================] - 25s 40ms/step - loss: 1.1439 - acc: 0.5838 - val_loss: 1.9423 - val_acc: 0.3793\n",
      "Epoch 135/200\n",
      "625/625 [==============================] - 25s 39ms/step - loss: 1.1404 - acc: 0.5854 - val_loss: 1.9320 - val_acc: 0.3840\n",
      "Epoch 136/200\n",
      "625/625 [==============================] - 25s 40ms/step - loss: 1.1378 - acc: 0.5857 - val_loss: 1.9308 - val_acc: 0.3834\n",
      "Epoch 137/200\n",
      "625/625 [==============================] - 25s 39ms/step - loss: 1.1364 - acc: 0.5870 - val_loss: 1.9426 - val_acc: 0.3757\n",
      "Epoch 138/200\n",
      "625/625 [==============================] - 25s 40ms/step - loss: 1.1359 - acc: 0.5867 - val_loss: 1.9615 - val_acc: 0.3780\n",
      "Epoch 139/200\n",
      "625/625 [==============================] - 25s 39ms/step - loss: 1.1177 - acc: 0.5957 - val_loss: 1.9755 - val_acc: 0.3781\n",
      "Epoch 140/200\n",
      "625/625 [==============================] - 25s 39ms/step - loss: 1.0978 - acc: 0.6014 - val_loss: 1.9852 - val_acc: 0.3787\n",
      "Epoch 141/200\n",
      "625/625 [==============================] - 25s 40ms/step - loss: 1.0907 - acc: 0.6049 - val_loss: 2.0260 - val_acc: 0.3741\n",
      "Epoch 142/200\n",
      "625/625 [==============================] - 25s 40ms/step - loss: 1.0936 - acc: 0.6023 - val_loss: 1.9924 - val_acc: 0.3819\n",
      "Epoch 143/200\n",
      "625/625 [==============================] - 25s 40ms/step - loss: 1.0868 - acc: 0.6067 - val_loss: 2.0559 - val_acc: 0.3764\n",
      "Epoch 144/200\n",
      "625/625 [==============================] - 25s 40ms/step - loss: 1.0843 - acc: 0.6072 - val_loss: 2.0482 - val_acc: 0.3800\n",
      "Epoch 145/200\n",
      "625/625 [==============================] - 25s 40ms/step - loss: 1.0873 - acc: 0.6076 - val_loss: 2.0081 - val_acc: 0.3841\n",
      "Epoch 146/200\n",
      "625/625 [==============================] - 25s 40ms/step - loss: 1.0937 - acc: 0.6035 - val_loss: 2.0126 - val_acc: 0.3801\n",
      "Epoch 147/200\n",
      "625/625 [==============================] - 25s 40ms/step - loss: 1.0940 - acc: 0.6043 - val_loss: 2.0827 - val_acc: 0.3748\n",
      "Epoch 148/200\n",
      "625/625 [==============================] - 25s 40ms/step - loss: 1.0989 - acc: 0.6016 - val_loss: 2.1013 - val_acc: 0.3704\n",
      "Epoch 149/200\n",
      "625/625 [==============================] - 25s 40ms/step - loss: 1.0941 - acc: 0.6043 - val_loss: 2.0993 - val_acc: 0.3684\n",
      "Epoch 150/200\n",
      "625/625 [==============================] - 25s 40ms/step - loss: 1.1009 - acc: 0.6025 - val_loss: 2.1109 - val_acc: 0.3739\n",
      "Epoch 151/200\n",
      "625/625 [==============================] - 25s 40ms/step - loss: 1.1325 - acc: 0.5886 - val_loss: 2.0092 - val_acc: 0.3829\n",
      "Epoch 152/200\n",
      "625/625 [==============================] - 25s 40ms/step - loss: 1.1326 - acc: 0.5899 - val_loss: 2.0452 - val_acc: 0.3700\n",
      "Epoch 153/200\n",
      "625/625 [==============================] - 25s 40ms/step - loss: 1.1181 - acc: 0.5950 - val_loss: 2.0499 - val_acc: 0.3732\n",
      "Epoch 154/200\n",
      "625/625 [==============================] - 25s 40ms/step - loss: 1.1001 - acc: 0.6017 - val_loss: 2.0465 - val_acc: 0.3711\n",
      "Epoch 155/200\n",
      "625/625 [==============================] - 26s 42ms/step - loss: 1.0957 - acc: 0.6042 - val_loss: 2.0725 - val_acc: 0.3700\n",
      "Epoch 156/200\n",
      "625/625 [==============================] - 25s 40ms/step - loss: 1.0902 - acc: 0.6039 - val_loss: 2.0875 - val_acc: 0.3694\n",
      "Epoch 157/200\n",
      "625/625 [==============================] - 25s 40ms/step - loss: 1.0798 - acc: 0.6105 - val_loss: 2.0746 - val_acc: 0.3719\n",
      "Epoch 158/200\n",
      "625/625 [==============================] - 25s 40ms/step - loss: 1.0717 - acc: 0.6135 - val_loss: 2.1113 - val_acc: 0.3684\n",
      "Epoch 159/200\n",
      "625/625 [==============================] - 25s 41ms/step - loss: 1.0496 - acc: 0.6212 - val_loss: 2.0689 - val_acc: 0.3840\n",
      "Epoch 160/200\n",
      "625/625 [==============================] - 25s 40ms/step - loss: 1.0423 - acc: 0.6245 - val_loss: 2.0505 - val_acc: 0.3857\n",
      "Epoch 161/200\n",
      "625/625 [==============================] - ETA: 0s - loss: 1.0355 - acc: 0.6280"
     ]
    }
   ],
   "source": [
    "# denseNet v3\n",
    "# 結論: epoch 50 就夠了，更高 epochs val_acc 也上不來\n",
    "# history = model.fit(x=batched_dataset, validation_data=batched_val_dataset, epochs=200) "
   ]
  },
  {
   "cell_type": "markdown",
   "metadata": {},
   "source": [
    "### Property of NTGA"
   ]
  },
  {
   "cell_type": "code",
   "execution_count": 16,
   "metadata": {},
   "outputs": [
    {
     "data": {
      "image/png": "[encoded data removed]",
      "text/plain": [
       "<Figure size 432x288 with 1 Axes>"
      ]
     },
     "metadata": {
      "needs_background": "light"
     },
     "output_type": "display_data"
    }
   ],
   "source": [
    "plt.plot(history.history['acc'])\n",
    "plt.plot(history.history['val_acc'])\n",
    "plt.title('model accuracy')\n",
    "plt.ylabel('accuracy')\n",
    "plt.xlabel('epoch')\n",
    "plt.legend(['train', 'test'], loc='upper left')\n",
    "plt.show()"
   ]
  },
  {
   "cell_type": "markdown",
   "metadata": {},
   "source": [
    "### Testing"
   ]
  },
  {
   "cell_type": "code",
   "execution_count": 56,
   "metadata": {},
   "outputs": [],
   "source": [
    "x_test = np.load('./dataset/x_test_cifar10.npy')\n",
    "test_dataset = tf.data.Dataset.from_tensor_slices((x_test))\n",
    "batched_test_dataset = test_dataset.batch(BATCH_SIZE, drop_remainder=False)"
   ]
  },
  {
   "cell_type": "code",
   "execution_count": 57,
   "metadata": {},
   "outputs": [
    {
     "name": "stdout",
     "output_type": "stream",
     "text": [
      "10000\n",
      "10000\n",
      "157\n"
     ]
    }
   ],
   "source": [
    "print(len(x_test))\n",
    "print(len(test_dataset))\n",
    "print(len(batched_test_dataset))"
   ]
  },
  {
   "cell_type": "code",
   "execution_count": 58,
   "metadata": {},
   "outputs": [],
   "source": [
    "result = model.predict(x=batched_test_dataset)"
   ]
  },
  {
   "cell_type": "code",
   "execution_count": 59,
   "metadata": {},
   "outputs": [
    {
     "data": {
      "text/plain": [
       "10000"
      ]
     },
     "execution_count": 59,
     "metadata": {},
     "output_type": "execute_result"
    }
   ],
   "source": [
    "len(result)"
   ]
  },
  {
   "cell_type": "code",
   "execution_count": 62,
   "metadata": {},
   "outputs": [
    {
     "data": {
      "text/plain": [
       "(10000, 10)"
      ]
     },
     "execution_count": 62,
     "metadata": {},
     "output_type": "execute_result"
    }
   ],
   "source": [
    "result.shape"
   ]
  },
  {
   "cell_type": "code",
   "execution_count": 73,
   "metadata": {},
   "outputs": [
    {
     "data": {
      "text/plain": [
       "array([[-0.04393432, -0.0798047 , -0.24327485, ...,  0.00127435,\n",
       "        -0.14885293,  0.02855207],\n",
       "       [-0.04837721, -0.04913528, -0.22698417, ...,  0.0193783 ,\n",
       "        -0.16397434,  0.06568741],\n",
       "       [ 0.02019629,  0.02319831, -0.17241439, ...,  0.05608439,\n",
       "        -0.11866691, -0.05888293],\n",
       "       ...,\n",
       "       [-0.02380493, -0.01708651, -0.3738721 , ...,  0.01836943,\n",
       "        -0.20118186,  0.08057974],\n",
       "       [-0.0203372 , -0.02627284, -0.24384463, ...,  0.01238948,\n",
       "        -0.15801382,  0.05590353],\n",
       "       [-0.0048778 , -0.02825364, -0.22971855, ...,  0.00985257,\n",
       "        -0.18000358,  0.05708458]], dtype=float32)"
      ]
     },
     "execution_count": 73,
     "metadata": {},
     "output_type": "execute_result"
    }
   ],
   "source": [
    "result"
   ]
  },
  {
   "cell_type": "code",
   "execution_count": 77,
   "metadata": {},
   "outputs": [
    {
     "data": {
      "text/plain": [
       "array([3, 9, 3, ..., 9, 3, 3], dtype=int64)"
      ]
     },
     "execution_count": 77,
     "metadata": {},
     "output_type": "execute_result"
    }
   ],
   "source": [
    "final_result = np.argmax(result, axis=1)\n",
    "final_result"
   ]
  },
  {
   "cell_type": "code",
   "execution_count": 78,
   "metadata": {},
   "outputs": [],
   "source": [
    "output = pd.DataFrame({'id':range(len(final_result)), 'label':final_result})\n",
    "output.to_csv('./output/output.csv', header=True, index=False)"
   ]
  }
 ],
 "metadata": {
  "interpreter": {
   "hash": "72f536152588ccd299ec72722a0a7be5da5ad09f659ceb273b9ef89d4e70ea57"
  },
  "kernelspec": {
   "display_name": "Python 3.9.7 64-bit ('tf2': conda)",
   "language": "python",
   "name": "python3"
  },
  "language_info": {
   "codemirror_mode": {
    "name": "ipython",
    "version": 3
   },
   "file_extension": ".py",
   "mimetype": "text/x-python",
   "name": "python",
   "nbconvert_exporter": "python",
   "pygments_lexer": "ipython3",
   "version": "3.9.7"
  },
  "orig_nbformat": 4
 },
 "nbformat": 4,
 "nbformat_minor": 2
}
