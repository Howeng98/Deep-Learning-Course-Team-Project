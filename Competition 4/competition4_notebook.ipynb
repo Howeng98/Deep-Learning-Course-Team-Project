{
 "cells": [
  {
   "cell_type": "markdown",
   "metadata": {},
   "source": [
    "# <center> DataLab Cup 4 : Unlearnable Dataset </center>\n",
    "## <center>Neural Tangent Generalization Attacks (NTGA)</center>"
   ]
  },
  {
   "cell_type": "code",
   "execution_count": 4,
   "metadata": {},
   "outputs": [
    {
     "name": "stdout",
     "output_type": "stream",
     "text": [
      "Collecting tensorflow-addons\n",
      "  Downloading tensorflow_addons-0.15.0-cp39-cp39-win_amd64.whl (753 kB)\n",
      "Collecting typeguard>=2.7\n",
      "  Downloading typeguard-2.13.3-py3-none-any.whl (17 kB)\n",
      "Installing collected packages: typeguard, tensorflow-addons\n",
      "Successfully installed tensorflow-addons-0.15.0 typeguard-2.13.3\n"
     ]
    }
   ],
   "source": [
    "!pip install tensorflow-addons"
   ]
  },
  {
   "cell_type": "markdown",
   "metadata": {},
   "source": [
    "### import Library"
   ]
  },
  {
   "cell_type": "code",
   "execution_count": 2,
   "metadata": {},
   "outputs": [],
   "source": [
    "from __future__ import absolute_import, division, print_function, unicode_literals\n",
    "import tensorflow as tf\n",
    "from tensorflow.keras import layers\n",
    "from tensorflow import keras\n",
    "from tensorflow.keras.models import Sequential\n",
    "import tensorflow_addons as tfa\n",
    "import os\n",
    "\n",
    "import string\n",
    "import matplotlib.pyplot as plt\n",
    "import numpy as np\n",
    "import pandas as pd\n",
    "import PIL\n",
    "import random\n",
    "import time\n",
    "from pathlib import Path\n",
    "\n",
    "from tqdm import tqdm\n",
    "\n",
    "import re\n",
    "from IPython import display\n",
    "\n",
    "BATCH_SIZE = 64"
   ]
  },
  {
   "cell_type": "code",
   "execution_count": 3,
   "metadata": {},
   "outputs": [
    {
     "name": "stdout",
     "output_type": "stream",
     "text": [
      "1 Physical GPUs, 1 Logical GPUs\n"
     ]
    }
   ],
   "source": [
    "gpus = tf.config.experimental.list_physical_devices('GPU')\n",
    "if gpus:\n",
    "    try:\n",
    "        # Restrict TensorFlow to only use the first GPU\n",
    "        tf.config.experimental.set_visible_devices(gpus[0], 'GPU')\n",
    "\n",
    "        # Currently, memory growth needs to be the same across GPUs\n",
    "        for gpu in gpus:\n",
    "            tf.config.experimental.set_memory_growth(gpu, True)\n",
    "        logical_gpus = tf.config.experimental.list_logical_devices('GPU')\n",
    "        print(len(gpus), \"Physical GPUs,\", len(logical_gpus), \"Logical GPUs\")\n",
    "    except RuntimeError as e:\n",
    "        # Memory growth must be set before GPUs have been initialized\n",
    "        print(e)"
   ]
  },
  {
   "cell_type": "code",
   "execution_count": 4,
   "metadata": {},
   "outputs": [],
   "source": [
    "x_train = np.load('./dataset/x_train_cifar10_unlearn.npy')\n",
    "y_train = np.load('./dataset/y_train_cifar10.npy')\n",
    "x_val = np.load('./dataset/x_val_cifar10.npy')\n",
    "y_val = np.load('./dataset/y_val_cifar10.npy')\n",
    "\n",
    "y_train = np.argmax(y_train, axis=1)\n",
    "y_val = np.argmax(y_val, axis=1)"
   ]
  },
  {
   "cell_type": "code",
   "execution_count": 6,
   "metadata": {},
   "outputs": [],
   "source": [
    "train_dataset = tf.data.Dataset.from_tensor_slices((x_train, y_train))\n",
    "batched_dataset = train_dataset.batch(BATCH_SIZE, drop_remainder=True)\n",
    "\n",
    "val_dataset = tf.data.Dataset.from_tensor_slices((x_val, y_val))\n",
    "batched_val_dataset = val_dataset.batch(BATCH_SIZE, drop_remainder=True)"
   ]
  },
  {
   "cell_type": "code",
   "execution_count": 10,
   "metadata": {},
   "outputs": [
    {
     "data": {
      "image/png": "[encoded data removed]",
      "text/plain": [
       "<Figure size 432x288 with 1 Axes>"
      ]
     },
     "metadata": {
      "needs_background": "light"
     },
     "output_type": "display_data"
    }
   ],
   "source": [
    "for data in batched_dataset.take(1):\n",
    "    plt.imshow(data[0][3],cmap='gray')"
   ]
  },
  {
   "cell_type": "markdown",
   "metadata": {},
   "source": [
    "### Model"
   ]
  },
  {
   "cell_type": "code",
   "execution_count": 42,
   "metadata": {},
   "outputs": [
    {
     "name": "stdout",
     "output_type": "stream",
     "text": [
      "Model: \"sequential_2\"\n",
      "_________________________________________________________________\n",
      " Layer (type)                Output Shape              Param #   \n",
      "=================================================================\n",
      " conv2d_6 (Conv2D)           (None, 32, 32, 16)        448       \n",
      "                                                                 \n",
      " max_pooling2d_6 (MaxPooling  (None, 16, 16, 16)       0         \n",
      " 2D)                                                             \n",
      "                                                                 \n",
      " conv2d_7 (Conv2D)           (None, 16, 16, 32)        4640      \n",
      "                                                                 \n",
      " max_pooling2d_7 (MaxPooling  (None, 8, 8, 32)         0         \n",
      " 2D)                                                             \n",
      "                                                                 \n",
      " conv2d_8 (Conv2D)           (None, 8, 8, 64)          18496     \n",
      "                                                                 \n",
      " max_pooling2d_8 (MaxPooling  (None, 4, 4, 64)         0         \n",
      " 2D)                                                             \n",
      "                                                                 \n",
      " flatten_2 (Flatten)         (None, 1024)              0         \n",
      "                                                                 \n",
      " dense_4 (Dense)             (None, 128)               131200    \n",
      "                                                                 \n",
      " dense_5 (Dense)             (None, 10)                1290      \n",
      "                                                                 \n",
      "=================================================================\n",
      "Total params: 156,074\n",
      "Trainable params: 156,074\n",
      "Non-trainable params: 0\n",
      "_________________________________________________________________\n"
     ]
    }
   ],
   "source": [
    "model = Sequential([\n",
    "  keras.Input(shape=(32, 32, 3)),\n",
    "  layers.Conv2D(16, 3, padding='same', activation='relu'),\n",
    "  layers.MaxPooling2D(),\n",
    "  layers.Conv2D(32, 3, padding='same', activation='relu'),\n",
    "  layers.MaxPooling2D(),\n",
    "  layers.Conv2D(64, 3, padding='same', activation='relu'),\n",
    "  layers.MaxPooling2D(),\n",
    "  layers.Flatten(),\n",
    "  layers.Dense(128, activation='relu'),\n",
    "  layers.Dense(10)\n",
    "])\n",
    "\n",
    "model.summary()"
   ]
  },
  {
   "cell_type": "code",
   "execution_count": 43,
   "metadata": {},
   "outputs": [],
   "source": [
    "loss_fn = tf.losses.SparseCategoricalCrossentropy(from_logits=True)\n",
    "optimizer = tf.optimizers.Adam(learning_rate=0.001)\n",
    "model.compile(optimizer=optimizer, loss=loss_fn, metrics=['acc'])"
   ]
  },
  {
   "cell_type": "code",
   "execution_count": 30,
   "metadata": {},
   "outputs": [
    {
     "name": "stdout",
     "output_type": "stream",
     "text": [
      "Epoch 1/50\n",
      "625/625 [==============================] - 7s 7ms/step - loss: 1.2790 - acc: 0.5694 - val_loss: 2.2582 - val_acc: 0.3120\n",
      "Epoch 2/50\n",
      "625/625 [==============================] - 4s 7ms/step - loss: 0.4627 - acc: 0.8610 - val_loss: 2.3075 - val_acc: 0.3191\n",
      "Epoch 3/50\n",
      "625/625 [==============================] - 4s 7ms/step - loss: 0.2917 - acc: 0.9131 - val_loss: 2.4511 - val_acc: 0.3282\n",
      "Epoch 4/50\n",
      "625/625 [==============================] - 4s 7ms/step - loss: 0.2096 - acc: 0.9359 - val_loss: 2.6140 - val_acc: 0.3172\n",
      "Epoch 5/50\n",
      "625/625 [==============================] - 4s 7ms/step - loss: 0.1581 - acc: 0.9523 - val_loss: 2.8462 - val_acc: 0.3041\n",
      "Epoch 6/50\n",
      "625/625 [==============================] - 5s 7ms/step - loss: 0.1231 - acc: 0.9618 - val_loss: 3.1139 - val_acc: 0.3002\n",
      "Epoch 7/50\n",
      "625/625 [==============================] - 5s 8ms/step - loss: 0.0954 - acc: 0.9691 - val_loss: 3.4415 - val_acc: 0.2808\n",
      "Epoch 8/50\n",
      "625/625 [==============================] - 4s 7ms/step - loss: 0.0771 - acc: 0.9756 - val_loss: 3.3335 - val_acc: 0.3079\n",
      "Epoch 9/50\n",
      "625/625 [==============================] - 4s 7ms/step - loss: 0.0624 - acc: 0.9791 - val_loss: 3.5679 - val_acc: 0.3096\n",
      "Epoch 10/50\n",
      "625/625 [==============================] - 4s 7ms/step - loss: 0.0508 - acc: 0.9828 - val_loss: 3.7499 - val_acc: 0.3164\n",
      "Epoch 11/50\n",
      "625/625 [==============================] - 4s 7ms/step - loss: 0.0406 - acc: 0.9863 - val_loss: 4.1253 - val_acc: 0.3019\n",
      "Epoch 12/50\n",
      "625/625 [==============================] - 4s 7ms/step - loss: 0.0425 - acc: 0.9848 - val_loss: 4.1499 - val_acc: 0.2989\n",
      "Epoch 13/50\n",
      "625/625 [==============================] - 4s 7ms/step - loss: 0.0350 - acc: 0.9877 - val_loss: 4.0263 - val_acc: 0.3255\n",
      "Epoch 14/50\n",
      "625/625 [==============================] - 4s 7ms/step - loss: 0.0308 - acc: 0.9890 - val_loss: 3.9816 - val_acc: 0.3036\n",
      "Epoch 15/50\n",
      "625/625 [==============================] - 4s 7ms/step - loss: 0.0268 - acc: 0.9903 - val_loss: 4.4984 - val_acc: 0.2964\n",
      "Epoch 16/50\n",
      "625/625 [==============================] - 4s 7ms/step - loss: 0.0277 - acc: 0.9905 - val_loss: 4.8985 - val_acc: 0.3055\n",
      "Epoch 17/50\n",
      "625/625 [==============================] - 4s 7ms/step - loss: 0.0218 - acc: 0.9923 - val_loss: 5.0823 - val_acc: 0.3030\n",
      "Epoch 18/50\n",
      "625/625 [==============================] - 4s 7ms/step - loss: 0.0229 - acc: 0.9924 - val_loss: 5.6507 - val_acc: 0.2700\n",
      "Epoch 19/50\n",
      "625/625 [==============================] - 4s 7ms/step - loss: 0.0199 - acc: 0.9930 - val_loss: 5.5765 - val_acc: 0.2936\n",
      "Epoch 20/50\n",
      "625/625 [==============================] - 4s 7ms/step - loss: 0.0189 - acc: 0.9936 - val_loss: 5.9044 - val_acc: 0.2843\n",
      "Epoch 21/50\n",
      "625/625 [==============================] - 4s 7ms/step - loss: 0.0223 - acc: 0.9922 - val_loss: 5.9598 - val_acc: 0.2979\n",
      "Epoch 22/50\n",
      "625/625 [==============================] - 4s 7ms/step - loss: 0.0211 - acc: 0.9930 - val_loss: 5.9017 - val_acc: 0.2783\n",
      "Epoch 23/50\n",
      "625/625 [==============================] - 4s 7ms/step - loss: 0.0153 - acc: 0.9946 - val_loss: 6.4006 - val_acc: 0.2928\n",
      "Epoch 24/50\n",
      "625/625 [==============================] - 4s 7ms/step - loss: 0.0164 - acc: 0.9942 - val_loss: 5.5937 - val_acc: 0.3127\n",
      "Epoch 25/50\n",
      "625/625 [==============================] - 4s 7ms/step - loss: 0.0192 - acc: 0.9938 - val_loss: 6.0038 - val_acc: 0.2885\n",
      "Epoch 26/50\n",
      "625/625 [==============================] - 4s 7ms/step - loss: 0.0205 - acc: 0.9932 - val_loss: 6.3114 - val_acc: 0.2926\n",
      "Epoch 27/50\n",
      "625/625 [==============================] - 4s 7ms/step - loss: 0.0118 - acc: 0.9961 - val_loss: 6.7571 - val_acc: 0.2940\n",
      "Epoch 28/50\n",
      "625/625 [==============================] - 5s 7ms/step - loss: 0.0168 - acc: 0.9945 - val_loss: 6.8096 - val_acc: 0.2830\n",
      "Epoch 29/50\n",
      "625/625 [==============================] - 4s 7ms/step - loss: 0.0144 - acc: 0.9950 - val_loss: 6.1501 - val_acc: 0.2977\n",
      "Epoch 30/50\n",
      "625/625 [==============================] - 4s 7ms/step - loss: 0.0168 - acc: 0.9944 - val_loss: 6.0987 - val_acc: 0.2794\n",
      "Epoch 31/50\n",
      "625/625 [==============================] - 4s 7ms/step - loss: 0.0155 - acc: 0.9950 - val_loss: 7.3971 - val_acc: 0.2838\n",
      "Epoch 32/50\n",
      "625/625 [==============================] - 4s 7ms/step - loss: 0.0173 - acc: 0.9945 - val_loss: 6.1114 - val_acc: 0.2973\n",
      "Epoch 33/50\n",
      "625/625 [==============================] - 4s 7ms/step - loss: 0.0107 - acc: 0.9961 - val_loss: 7.5539 - val_acc: 0.2942\n",
      "Epoch 34/50\n",
      "625/625 [==============================] - 4s 7ms/step - loss: 0.0135 - acc: 0.9954 - val_loss: 7.5497 - val_acc: 0.2765\n",
      "Epoch 35/50\n",
      "625/625 [==============================] - 4s 7ms/step - loss: 0.0127 - acc: 0.9955 - val_loss: 7.1441 - val_acc: 0.2927\n",
      "Epoch 36/50\n",
      "625/625 [==============================] - 4s 7ms/step - loss: 0.0136 - acc: 0.9956 - val_loss: 7.5083 - val_acc: 0.2881\n",
      "Epoch 37/50\n",
      "625/625 [==============================] - 4s 7ms/step - loss: 0.0123 - acc: 0.9958 - val_loss: 6.5067 - val_acc: 0.2872\n",
      "Epoch 38/50\n",
      "625/625 [==============================] - 4s 7ms/step - loss: 0.0141 - acc: 0.9953 - val_loss: 7.5863 - val_acc: 0.2976\n",
      "Epoch 39/50\n",
      "625/625 [==============================] - 4s 7ms/step - loss: 0.0103 - acc: 0.9969 - val_loss: 6.4882 - val_acc: 0.3020\n",
      "Epoch 40/50\n",
      "625/625 [==============================] - 4s 7ms/step - loss: 0.0145 - acc: 0.9957 - val_loss: 8.3468 - val_acc: 0.2728\n",
      "Epoch 41/50\n",
      "625/625 [==============================] - 4s 7ms/step - loss: 0.0099 - acc: 0.9969 - val_loss: 7.7021 - val_acc: 0.2792\n",
      "Epoch 42/50\n",
      "625/625 [==============================] - 4s 7ms/step - loss: 0.0113 - acc: 0.9959 - val_loss: 8.9506 - val_acc: 0.2774\n",
      "Epoch 43/50\n",
      "625/625 [==============================] - 4s 7ms/step - loss: 0.0137 - acc: 0.9962 - val_loss: 8.1764 - val_acc: 0.2757\n",
      "Epoch 44/50\n",
      "625/625 [==============================] - 4s 7ms/step - loss: 0.0127 - acc: 0.9958 - val_loss: 7.5844 - val_acc: 0.3003\n",
      "Epoch 45/50\n",
      "625/625 [==============================] - 4s 7ms/step - loss: 0.0081 - acc: 0.9973 - val_loss: 11.1666 - val_acc: 0.2428\n",
      "Epoch 46/50\n",
      "625/625 [==============================] - 4s 7ms/step - loss: 0.0149 - acc: 0.9955 - val_loss: 6.8837 - val_acc: 0.2907\n",
      "Epoch 47/50\n",
      "625/625 [==============================] - 4s 7ms/step - loss: 0.0076 - acc: 0.9972 - val_loss: 8.2825 - val_acc: 0.2731\n",
      "Epoch 48/50\n",
      "625/625 [==============================] - 4s 7ms/step - loss: 0.0087 - acc: 0.9971 - val_loss: 9.3644 - val_acc: 0.2742\n",
      "Epoch 49/50\n",
      "625/625 [==============================] - 4s 7ms/step - loss: 0.0189 - acc: 0.9948 - val_loss: 9.7884 - val_acc: 0.2423\n",
      "Epoch 50/50\n",
      "625/625 [==============================] - 4s 7ms/step - loss: 0.0069 - acc: 0.9977 - val_loss: 9.1381 - val_acc: 0.2648\n"
     ]
    }
   ],
   "source": [
    "history = model.fit(x=batched_dataset, validation_data=batched_val_dataset, epochs=50)"
   ]
  },
  {
   "cell_type": "markdown",
   "metadata": {},
   "source": [
    "### Property of NTGA"
   ]
  },
  {
   "cell_type": "code",
   "execution_count": 16,
   "metadata": {},
   "outputs": [
    {
     "data": {
      "image/png": "[encoded data removed]",
      "text/plain": [
       "<Figure size 432x288 with 1 Axes>"
      ]
     },
     "metadata": {
      "needs_background": "light"
     },
     "output_type": "display_data"
    }
   ],
   "source": [
    "plt.plot(history.history['acc'])\n",
    "plt.plot(history.history['val_acc'])\n",
    "plt.title('model accuracy')\n",
    "plt.ylabel('accuracy')\n",
    "plt.xlabel('epoch')\n",
    "plt.legend(['train', 'test'], loc='upper left')\n",
    "plt.show()"
   ]
  },
  {
   "cell_type": "markdown",
   "metadata": {},
   "source": [
    "### Testing"
   ]
  },
  {
   "cell_type": "code",
   "execution_count": 56,
   "metadata": {},
   "outputs": [],
   "source": [
    "x_test = np.load('./dataset/x_test_cifar10.npy')\n",
    "test_dataset = tf.data.Dataset.from_tensor_slices((x_test))\n",
    "batched_test_dataset = test_dataset.batch(BATCH_SIZE, drop_remainder=False)"
   ]
  },
  {
   "cell_type": "code",
   "execution_count": 57,
   "metadata": {},
   "outputs": [
    {
     "name": "stdout",
     "output_type": "stream",
     "text": [
      "10000\n",
      "10000\n",
      "157\n"
     ]
    }
   ],
   "source": [
    "print(len(x_test))\n",
    "print(len(test_dataset))\n",
    "print(len(batched_test_dataset))"
   ]
  },
  {
   "cell_type": "code",
   "execution_count": 58,
   "metadata": {},
   "outputs": [],
   "source": [
    "result = model.predict(x=batched_test_dataset)"
   ]
  },
  {
   "cell_type": "code",
   "execution_count": 59,
   "metadata": {},
   "outputs": [
    {
     "data": {
      "text/plain": [
       "10000"
      ]
     },
     "execution_count": 59,
     "metadata": {},
     "output_type": "execute_result"
    }
   ],
   "source": [
    "len(result)"
   ]
  },
  {
   "cell_type": "code",
   "execution_count": 62,
   "metadata": {},
   "outputs": [
    {
     "data": {
      "text/plain": [
       "(10000, 10)"
      ]
     },
     "execution_count": 62,
     "metadata": {},
     "output_type": "execute_result"
    }
   ],
   "source": [
    "result.shape"
   ]
  },
  {
   "cell_type": "code",
   "execution_count": 73,
   "metadata": {},
   "outputs": [
    {
     "data": {
      "text/plain": [
       "array([[-0.04393432, -0.0798047 , -0.24327485, ...,  0.00127435,\n",
       "        -0.14885293,  0.02855207],\n",
       "       [-0.04837721, -0.04913528, -0.22698417, ...,  0.0193783 ,\n",
       "        -0.16397434,  0.06568741],\n",
       "       [ 0.02019629,  0.02319831, -0.17241439, ...,  0.05608439,\n",
       "        -0.11866691, -0.05888293],\n",
       "       ...,\n",
       "       [-0.02380493, -0.01708651, -0.3738721 , ...,  0.01836943,\n",
       "        -0.20118186,  0.08057974],\n",
       "       [-0.0203372 , -0.02627284, -0.24384463, ...,  0.01238948,\n",
       "        -0.15801382,  0.05590353],\n",
       "       [-0.0048778 , -0.02825364, -0.22971855, ...,  0.00985257,\n",
       "        -0.18000358,  0.05708458]], dtype=float32)"
      ]
     },
     "execution_count": 73,
     "metadata": {},
     "output_type": "execute_result"
    }
   ],
   "source": [
    "result"
   ]
  },
  {
   "cell_type": "code",
   "execution_count": 77,
   "metadata": {},
   "outputs": [
    {
     "data": {
      "text/plain": [
       "array([3, 9, 3, ..., 9, 3, 3], dtype=int64)"
      ]
     },
     "execution_count": 77,
     "metadata": {},
     "output_type": "execute_result"
    }
   ],
   "source": [
    "final_result = np.argmax(result, axis=1)\n",
    "final_result"
   ]
  },
  {
   "cell_type": "code",
   "execution_count": 78,
   "metadata": {},
   "outputs": [],
   "source": [
    "output = pd.DataFrame({'id':range(len(final_result)), 'label':final_result})\n",
    "output.to_csv('./output/output.csv', header=True, index=False)"
   ]
  }
 ],
 "metadata": {
  "interpreter": {
   "hash": "72f536152588ccd299ec72722a0a7be5da5ad09f659ceb273b9ef89d4e70ea57"
  },
  "kernelspec": {
   "display_name": "Python 3.9.7 64-bit ('tf2': conda)",
   "language": "python",
   "name": "python3"
  },
  "language_info": {
   "codemirror_mode": {
    "name": "ipython",
    "version": 3
   },
   "file_extension": ".py",
   "mimetype": "text/x-python",
   "name": "python",
   "nbconvert_exporter": "python",
   "pygments_lexer": "ipython3",
   "version": "3.9.7"
  },
  "orig_nbformat": 4
 },
 "nbformat": 4,
 "nbformat_minor": 2
}
