{
 "cells": [
  {
   "cell_type": "markdown",
   "metadata": {},
   "source": [
    "# Library and Packages Import"
   ]
  },
  {
   "cell_type": "code",
   "execution_count": 173,
   "metadata": {},
   "outputs": [],
   "source": [
    "%matplotlib inline\n",
    "\n",
    "import pandas as pd\n",
    "import numpy as np\n",
    "import matplotlib.pyplot as plt\n",
    "\n",
    "from sklearn.compose import ColumnTransformer\n",
    "from sklearn.pipeline import Pipeline\n",
    "from sklearn.impute import SimpleImputer\n",
    "from sklearn.model_selection import train_test_split\n",
    "from sklearn.preprocessing import LabelEncoder, OneHotEncoder, StandardScaler\n",
    "from sklearn.feature_extraction.text import HashingVectorizer\n",
    "from sklearn.linear_model import SGDClassifier\n",
    "from sklearn.ensemble import RandomForestClassifier\n",
    "from sklearn.metrics import roc_auc_score\n",
    "\n",
    "import re\n",
    "from bs4 import BeautifulSoup\n",
    "import nltk\n",
    "from nltk.corpus import stopwords\n",
    "from nltk.stem.porter import PorterStemmer\n",
    "\n",
    "import text2emotion as te\n",
    "\n",
    "train_file, test_file = '../data/train.csv', '../data/test.csv'\n",
    "train_num = 27643"
   ]
  },
  {
   "cell_type": "markdown",
   "metadata": {},
   "source": [
    "# Pre-define Functions"
   ]
  },
  {
   "cell_type": "code",
   "execution_count": 3,
   "metadata": {},
   "outputs": [],
   "source": [
    "def preprocessor(text):\n",
    "    \"\"\"\n",
    "    - remove HTML tags\n",
    "    - remove punctuation\n",
    "    - convert to lowercase\n",
    "    \"\"\"\n",
    "    # remove HTML tags\n",
    "    text = BeautifulSoup(text, 'html.parser').get_text()\n",
    "    \n",
    "    # regex for matching emoticons, keep emoticons, ex: :), :-P, :-D\n",
    "    r = '(?::|;|=|X)(?:-)?(?:\\)|\\(|D|P)'\n",
    "    emoticons = re.findall(r, text)\n",
    "    text = re.sub(r, '', text)\n",
    "    \n",
    "    # convert to lowercase and append all emoticons behind (with space in between)\n",
    "    # replace('-','') removes nose of emoticons\n",
    "    text = re.sub('[\\W]+', ' ', text.lower()) + ' ' + ' '.join(emoticons).replace('-','')\n",
    "    return text"
   ]
  },
  {
   "cell_type": "code",
   "execution_count": 4,
   "metadata": {},
   "outputs": [
    {
     "name": "stderr",
     "output_type": "stream",
     "text": [
      "[nltk_data] Downloading package stopwords to\n",
      "[nltk_data]     C:\\Users\\Che\\AppData\\Roaming\\nltk_data...\n",
      "[nltk_data]   Unzipping corpora\\stopwords.zip.\n"
     ]
    }
   ],
   "source": [
    "nltk.download('stopwords')\n",
    "stop = stopwords.words('english')\n",
    "\n",
    "def tokenizer_stem_nostop(text):\n",
    "    \"\"\"\n",
    "    - tokenization\n",
    "    - word-stemming\n",
    "    - remove stop-word\n",
    "    \"\"\"\n",
    "    porter = PorterStemmer()\n",
    "    return [porter.stem(w) for w in re.split('\\s+', text.strip()) \\\n",
    "            if w not in stop and re.match('[a-zA-Z]+', w)]"
   ]
  },
  {
   "cell_type": "code",
   "execution_count": 5,
   "metadata": {},
   "outputs": [],
   "source": [
    "def get_stream(path, size):\n",
    "    for chunk in pd.read_csv(path, chunksize=size):\n",
    "        yield chunk\n",
    "\n",
    "txt = next(get_stream(path=train_file, size=10))['Page content'][0]"
   ]
  },
  {
   "cell_type": "markdown",
   "metadata": {},
   "source": [
    "# Data Pre-processing"
   ]
  },
  {
   "cell_type": "markdown",
   "metadata": {},
   "source": [
    "# Basic Model"
   ]
  },
  {
   "cell_type": "code",
   "execution_count": 131,
   "metadata": {},
   "outputs": [
    {
     "name": "stdout",
     "output_type": "stream",
     "text": [
      "[iter: 0] val. score: 0.4871\n",
      "[iter: 1] val. score: 0.5520\n",
      "[iter: 2] val. score: 0.5349\n",
      "[iter: 3] val. score: 0.5512\n",
      "[iter: 4] val. score: 0.4675\n",
      "[iter: 5] val. score: 0.5880\n",
      "[iter: 6] val. score: 0.5212\n",
      "[iter: 7] val. score: 0.5052\n",
      "[iter: 8] val. score: 0.5150\n",
      "[iter: 9] val. score: 0.5385\n",
      "[iter:10] val. score: 0.4463\n",
      "[iter:11] val. score: 0.5145\n",
      "[iter:12] val. score: 0.5012\n",
      "[iter:13] val. score: 0.5080\n",
      "[iter:14] val. score: 0.5326\n",
      "[iter:15] val. score: 0.4981\n",
      "[iter:16] val. score: 0.5778\n",
      "[iter:17] val. score: 0.4488\n",
      "[iter:18] val. score: 0.5438\n",
      "[iter:19] val. score: 0.4979\n",
      "[iter:20] val. score: 0.5385\n",
      "[iter:21] val. score: 0.5382\n",
      "[iter:22] val. score: 0.5581\n",
      "[iter:23] val. score: 0.5292\n",
      "[iter:24] val. score: 0.5037\n",
      "[iter:25] val. score: 0.4947\n",
      "[iter:26] val. score: 0.4629\n"
     ]
    }
   ],
   "source": [
    "hashvec = HashingVectorizer(n_features=2**20, \n",
    "                            preprocessor=preprocessor, tokenizer=tokenizer_stem_nostop)\n",
    "# loss='log' gives logistic regression\n",
    "# clf = SGDClassifier(loss='log', max_iter=100, tol=1e-3)\n",
    "clf = RandomForestClassifier(n_estimators=500, max_depth=15, n_jobs=-1, random_state=1)\n",
    "batch_size = 1000\n",
    "stream = get_stream(path=train_file, size=batch_size)\n",
    "classes = np.array([-1, 1])\n",
    "train_auc, val_auc = [], []\n",
    "\n",
    "# we use one batch for training and another for validation in each iteration\n",
    "iters = (26000 + batch_size) // (batch_size)\n",
    "for i in range(iters):\n",
    "    batch = next(stream)\n",
    "    if batch['Page content'] is None:\n",
    "        break \n",
    "\n",
    "    X_train, X_val, y_train, y_val = train_test_split(batch['Page content'], batch['Popularity'],\n",
    "                                                        test_size=0.2, random_state=1)\n",
    "    \n",
    "    X_train = hashvec.transform(X_train)\n",
    "    clf.fit(X_train, y_train) #, classes=classes)\n",
    "    train_auc.append(roc_auc_score(y_train, clf.predict_proba(X_train)[:,1]))\n",
    "    \n",
    "    # validate\n",
    "    score = roc_auc_score(y_val, clf.predict_proba(hashvec.transform(X_val))[:,1])\n",
    "    val_auc.append(score)\n",
    "    print(f'[iter:{i:2d}] val. score: {score:.4f}')"
   ]
  },
  {
   "cell_type": "code",
   "execution_count": 132,
   "metadata": {},
   "outputs": [
    {
     "data": {
      "image/png": "[encoded data removed]",
      "text/plain": [
       "<Figure size 432x288 with 1 Axes>"
      ]
     },
     "metadata": {
      "needs_background": "light"
     },
     "output_type": "display_data"
    }
   ],
   "source": [
    "# Plot training curve\n",
    "\n",
    "plt.plot(range(1, len(train_auc)+1), train_auc, color='blue', label='Train auc')\n",
    "plt.plot(range(1, len(train_auc)+1), val_auc, color='red', label='Val auc')\n",
    "plt.legend(loc=\"best\")\n",
    "plt.xlabel('#Batches')\n",
    "plt.ylabel('Auc')\n",
    "plt.tight_layout()\n",
    "plt.show()"
   ]
  },
  {
   "cell_type": "markdown",
   "metadata": {},
   "source": [
    "# Model Using Time Feature"
   ]
  },
  {
   "cell_type": "code",
   "execution_count": 112,
   "metadata": {},
   "outputs": [
    {
     "data": {
      "text/html": [
       "<div>\n",
       "<style scoped>\n",
       "    .dataframe tbody tr th:only-of-type {\n",
       "        vertical-align: middle;\n",
       "    }\n",
       "\n",
       "    .dataframe tbody tr th {\n",
       "        vertical-align: top;\n",
       "    }\n",
       "\n",
       "    .dataframe thead th {\n",
       "        text-align: right;\n",
       "    }\n",
       "</style>\n",
       "<table border=\"1\" class=\"dataframe\">\n",
       "  <thead>\n",
       "    <tr style=\"text-align: right;\">\n",
       "      <th></th>\n",
       "      <th>Weekday</th>\n",
       "      <th>Month</th>\n",
       "    </tr>\n",
       "  </thead>\n",
       "  <tbody>\n",
       "    <tr>\n",
       "      <th>0</th>\n",
       "      <td>0</td>\n",
       "      <td>1</td>\n",
       "    </tr>\n",
       "    <tr>\n",
       "      <th>1</th>\n",
       "      <td>0</td>\n",
       "      <td>0</td>\n",
       "    </tr>\n",
       "    <tr>\n",
       "      <th>2</th>\n",
       "      <td>0</td>\n",
       "      <td>0</td>\n",
       "    </tr>\n",
       "    <tr>\n",
       "      <th>3</th>\n",
       "      <td>1</td>\n",
       "      <td>1</td>\n",
       "    </tr>\n",
       "    <tr>\n",
       "      <th>4</th>\n",
       "      <td>0</td>\n",
       "      <td>0</td>\n",
       "    </tr>\n",
       "  </tbody>\n",
       "</table>\n",
       "</div>"
      ],
      "text/plain": [
       "  Weekday Month\n",
       "0       0     1\n",
       "1       0     0\n",
       "2       0     0\n",
       "3       1     1\n",
       "4       0     0"
      ]
     },
     "execution_count": 112,
     "metadata": {},
     "output_type": "execute_result"
    }
   ],
   "source": [
    "# extract time feature\n",
    "weekday_trans = {'Mon': 0, 'Tue': 1, 'Wed': 2, 'Thu': 3, 'Fri': 4, 'Sat': 5, 'Sun': 6}\n",
    "month_trans = {'Jan': 1, 'Feb': 2, 'Mar': 3, 'Apr':4, 'May': 5, 'Jun': 6,\n",
    "               'Jul': 7, 'Aug': 8, 'Sep': 9, 'Oct': 10, 'Nov': 11, 'Dec': 12}\n",
    "\n",
    "def time_feature_df(txt):\n",
    "    df = pd.DataFrame(columns=['Weekday', 'Month', 'Hour', 'Minute', 'Time zone'])\n",
    "    r = 'datetime=\"(.+?)\"'\n",
    "    for t in txt:\n",
    "        tt = re.findall(r, t)\n",
    "        try:\n",
    "            weekday = 1 if weekday_trans[tt[0][:3]] >= 4 else 0\n",
    "            month = 1 if month_trans[tt[0][8:11]] > 5 else 0\n",
    "            hour, minute, time_zone = int(tt[0][17:19]), int(tt[0][20:22]), int(tt[0][27:29])\n",
    "        except:\n",
    "            weekday, month, hour, minute, time_zone = 0, 0, 12, 0, 0\n",
    "        #print(f'{weekday}, {hour}:{minute}, +{time_zone}')\n",
    "        row = {'Weekday': weekday, 'Month': month, 'Hour': hour, 'Minute': minute, 'Time zone': time_zone}\n",
    "        df = df.append(row, ignore_index=True)\n",
    "    return df.drop(columns=['Hour', 'Minute', 'Time zone'])\n",
    "\n",
    "test = next(get_stream(path=train_file, size=50))['Page content']\n",
    "df_test = time_feature_df(test)\n",
    "df_test.head()"
   ]
  },
  {
   "cell_type": "code",
   "execution_count": 86,
   "metadata": {},
   "outputs": [
    {
     "data": {
      "text/plain": [
       "(1000, 8)"
      ]
     },
     "execution_count": 86,
     "metadata": {},
     "output_type": "execute_result"
    }
   ],
   "source": [
    "# Test data one-hot encoding\n",
    "catego_features = ['Weekday']\n",
    "# category = ['Mon', 'Tue', 'Wed', 'Thr', 'Fri', 'Sat', 'Sun']\n",
    "ohe = ColumnTransformer(\n",
    "    [(\"one_hot_encoder\", OneHotEncoder(sparse=False, categories='auto'), [0])],\n",
    "    remainder = \"passthrough\"\n",
    ")\n",
    "df_test_ohe = ohe.fit_transform(df_test)\n",
    "df_test_ohe.shape"
   ]
  },
  {
   "cell_type": "code",
   "execution_count": 125,
   "metadata": {},
   "outputs": [
    {
     "name": "stdout",
     "output_type": "stream",
     "text": [
      "[iter: 0] val. score: 0.5030\n",
      "[iter: 1] val. score: 0.5642\n",
      "[iter: 2] val. score: 0.5099\n",
      "[iter: 3] val. score: 0.5435\n",
      "[iter: 4] val. score: 0.5642\n",
      "[iter: 5] val. score: 0.5403\n",
      "[iter: 6] val. score: 0.6471\n",
      "[iter: 7] val. score: 0.5542\n",
      "[iter: 8] val. score: 0.5340\n",
      "[iter: 9] val. score: 0.5300\n",
      "[iter:10] val. score: 0.4957\n",
      "[iter:11] val. score: 0.6049\n",
      "[iter:12] val. score: 0.5769\n",
      "[iter:13] val. score: 0.5135\n",
      "[iter:14] val. score: 0.5728\n",
      "[iter:15] val. score: 0.5514\n",
      "[iter:16] val. score: 0.5716\n",
      "[iter:17] val. score: 0.5140\n",
      "[iter:18] val. score: 0.5623\n",
      "[iter:19] val. score: 0.5581\n",
      "[iter:20] val. score: 0.5695\n",
      "[iter:21] val. score: 0.5286\n",
      "[iter:22] val. score: 0.5896\n",
      "[iter:23] val. score: 0.6017\n",
      "[iter:24] val. score: 0.5701\n",
      "[iter:25] val. score: 0.5343\n",
      "[iter:26] val. score: 0.5807\n"
     ]
    }
   ],
   "source": [
    "pipe = Pipeline([ \n",
    "                    ('sc', StandardScaler()),\n",
    "                    (\"imr\", SimpleImputer(missing_values = np.NaN, strategy = 'most_frequent')),\n",
    "                    ('clf', RandomForestClassifier(n_estimators=500, max_depth=15, n_jobs=-1, random_state=1))\n",
    "                ])\n",
    "\n",
    "#clf = SGDClassifier(loss='log', max_iter=100, tol=1e-3)\n",
    "clf = RandomForestClassifier(n_estimators=500, max_depth=15, n_jobs=-1, random_state=1)\n",
    "\n",
    "batch_size = 1000\n",
    "stream = get_stream(path=train_file, size=batch_size)\n",
    "classes = np.array([-1, 1])\n",
    "train_auc, val_auc = [], []\n",
    "\n",
    "iters = (26000 + batch_size) // (batch_size)\n",
    "for i in range(iters):\n",
    "    batch = next(stream)\n",
    "    if batch['Page content'] is None:\n",
    "        break \n",
    "\n",
    "    X_train, X_val, y_train, y_val = train_test_split(batch['Page content'], batch['Popularity'],\n",
    "                                                        test_size=0.2, random_state=1)\n",
    "    \n",
    "    X_train = time_feature_df(X_train)\n",
    "    clf.fit(X_train, y_train)\n",
    "    train_auc.append(roc_auc_score(y_train, clf.predict_proba(X_train)[:,1]))\n",
    "    \n",
    "    # validate\n",
    "    score = roc_auc_score(y_val, clf.predict_proba(time_feature_df(X_val))[:,1])\n",
    "    val_auc.append(score)\n",
    "    print(f'[iter:{i:2d}] val. score: {score:.4f}')"
   ]
  },
  {
   "cell_type": "code",
   "execution_count": 126,
   "metadata": {},
   "outputs": [
    {
     "data": {
      "image/png": "[encoded data removed]",
      "text/plain": [
       "<Figure size 432x288 with 1 Axes>"
      ]
     },
     "metadata": {
      "needs_background": "light"
     },
     "output_type": "display_data"
    }
   ],
   "source": [
    "# Plot training curve\n",
    "\n",
    "plt.plot(range(1, len(train_auc)+1), train_auc, color='blue', label='Train auc')\n",
    "plt.plot(range(1, len(train_auc)+1), val_auc, color='red', label='Val auc')\n",
    "plt.legend(loc=\"best\")\n",
    "plt.xlabel('#Batches')\n",
    "plt.ylabel('Auc')\n",
    "plt.tight_layout()\n",
    "plt.show()"
   ]
  },
  {
   "cell_type": "markdown",
   "metadata": {},
   "source": [
    "# Model Using Emotional and Time Feature"
   ]
  },
  {
   "cell_type": "code",
   "execution_count": 187,
   "metadata": {},
   "outputs": [
    {
     "data": {
      "text/html": [
       "<div>\n",
       "<style scoped>\n",
       "    .dataframe tbody tr th:only-of-type {\n",
       "        vertical-align: middle;\n",
       "    }\n",
       "\n",
       "    .dataframe tbody tr th {\n",
       "        vertical-align: top;\n",
       "    }\n",
       "\n",
       "    .dataframe thead th {\n",
       "        text-align: right;\n",
       "    }\n",
       "</style>\n",
       "<table border=\"1\" class=\"dataframe\">\n",
       "  <thead>\n",
       "    <tr style=\"text-align: right;\">\n",
       "      <th></th>\n",
       "      <th>Weekday</th>\n",
       "      <th>Month</th>\n",
       "      <th>Emo value</th>\n",
       "    </tr>\n",
       "  </thead>\n",
       "  <tbody>\n",
       "    <tr>\n",
       "      <th>0</th>\n",
       "      <td>0.0</td>\n",
       "      <td>1.0</td>\n",
       "      <td>0.5000</td>\n",
       "    </tr>\n",
       "    <tr>\n",
       "      <th>1</th>\n",
       "      <td>0.0</td>\n",
       "      <td>0.0</td>\n",
       "      <td>0.6250</td>\n",
       "    </tr>\n",
       "    <tr>\n",
       "      <th>2</th>\n",
       "      <td>0.0</td>\n",
       "      <td>0.0</td>\n",
       "      <td>0.0000</td>\n",
       "    </tr>\n",
       "    <tr>\n",
       "      <th>3</th>\n",
       "      <td>1.0</td>\n",
       "      <td>1.0</td>\n",
       "      <td>0.0000</td>\n",
       "    </tr>\n",
       "    <tr>\n",
       "      <th>4</th>\n",
       "      <td>0.0</td>\n",
       "      <td>0.0</td>\n",
       "      <td>0.2500</td>\n",
       "    </tr>\n",
       "    <tr>\n",
       "      <th>5</th>\n",
       "      <td>0.0</td>\n",
       "      <td>1.0</td>\n",
       "      <td>1.0000</td>\n",
       "    </tr>\n",
       "    <tr>\n",
       "      <th>6</th>\n",
       "      <td>0.0</td>\n",
       "      <td>1.0</td>\n",
       "      <td>0.0000</td>\n",
       "    </tr>\n",
       "    <tr>\n",
       "      <th>7</th>\n",
       "      <td>0.0</td>\n",
       "      <td>1.0</td>\n",
       "      <td>0.0000</td>\n",
       "    </tr>\n",
       "    <tr>\n",
       "      <th>8</th>\n",
       "      <td>0.0</td>\n",
       "      <td>1.0</td>\n",
       "      <td>0.5578</td>\n",
       "    </tr>\n",
       "    <tr>\n",
       "      <th>9</th>\n",
       "      <td>0.0</td>\n",
       "      <td>0.0</td>\n",
       "      <td>0.0000</td>\n",
       "    </tr>\n",
       "  </tbody>\n",
       "</table>\n",
       "</div>"
      ],
      "text/plain": [
       "   Weekday  Month  Emo value\n",
       "0      0.0    1.0     0.5000\n",
       "1      0.0    0.0     0.6250\n",
       "2      0.0    0.0     0.0000\n",
       "3      1.0    1.0     0.0000\n",
       "4      0.0    0.0     0.2500\n",
       "5      0.0    1.0     1.0000\n",
       "6      0.0    1.0     0.0000\n",
       "7      0.0    1.0     0.0000\n",
       "8      0.0    1.0     0.5578\n",
       "9      0.0    0.0     0.0000"
      ]
     },
     "execution_count": 187,
     "metadata": {},
     "output_type": "execute_result"
    }
   ],
   "source": [
    "def time_emo_feature(txt):\n",
    "    df = pd.DataFrame(columns=['Weekday', 'Month', 'Emo value'])\n",
    "    r = 'datetime=\"(.+?)\"'\n",
    "    for t in txt:\n",
    "        # time feature\n",
    "        tt = re.findall(r, t)\n",
    "        try:\n",
    "            weekday = 1 if weekday_trans[tt[0][:3]] >= 4 else 0\n",
    "            month = 1 if month_trans[tt[0][8:11]] > 5 else 0\n",
    "        except:\n",
    "            weekday, month = 0, 0\n",
    "        \n",
    "        # emotional feature\n",
    "        bs = BeautifulSoup(t, 'html.parser')\n",
    "        title = bs.find(class_=\"title\").text\n",
    "        emo_val = 0\n",
    "        for v in list(te.get_emotion(title).values()):\n",
    "            if type(v)==int:\n",
    "                break\n",
    "            emo_val += v**2 if v!=0 else 0\n",
    "\n",
    "        row = {'Weekday': weekday,\n",
    "                'Month': month,\n",
    "                'Emo value': emo_val}\n",
    "        df = df.append(row, ignore_index=True)\n",
    "\n",
    "    return df\n",
    "\n",
    "text = next(get_stream(path=train_file, size=1000))['Page content']\n",
    "df_test = time_emo_feature(text)\n",
    "df_test.head(10)"
   ]
  },
  {
   "cell_type": "code",
   "execution_count": null,
   "metadata": {},
   "outputs": [],
   "source": [
    "clf = RandomForestClassifier(n_estimators=500, max_depth=15, n_jobs=-1, random_state=1)\n",
    "\n",
    "batch_size = 1000\n",
    "stream = get_stream(path=train_file, size=batch_size)\n",
    "classes = np.array([-1, 1])\n",
    "train_auc, val_auc = [], []\n",
    "\n",
    "iters = train_num // batch_size\n",
    "for i in range(iters):\n",
    "    batch = next(stream)\n",
    "    if batch['Page content'] is None:\n",
    "        break \n",
    "\n",
    "    X_train, X_val, y_train, y_val = train_test_split(batch['Page content'], batch['Popularity'],\n",
    "                                                        test_size=0.2, random_state=1)\n",
    "    \n",
    "    X_train = time_emo_feature(X_train)\n",
    "    clf.fit(X_train, y_train)\n",
    "    train_auc.append(roc_auc_score(y_train, clf.predict_proba(X_train)[:,1]))\n",
    "    \n",
    "    # validate\n",
    "    score = roc_auc_score(y_val, clf.predict_proba(time_emo_feature(X_val))[:,1])\n",
    "    val_auc.append(score)\n",
    "    print(f'[iter:{i:2d}] val. score: {score:.4f}')\n",
    "\n",
    "# Plot training curve\n",
    "plt.plot(range(1, len(train_auc)+1), train_auc, color='blue', label='Train auc')\n",
    "plt.plot(range(1, len(train_auc)+1), val_auc, color='red', label='Val auc')\n",
    "plt.legend(loc=\"best\")\n",
    "plt.xlabel('#Batches')\n",
    "plt.ylabel('Auc')\n",
    "plt.tight_layout()\n",
    "plt.show()"
   ]
  },
  {
   "cell_type": "markdown",
   "metadata": {},
   "source": [
    "# Testing and Output"
   ]
  },
  {
   "cell_type": "code",
   "execution_count": 189,
   "metadata": {},
   "outputs": [
    {
     "name": "stdout",
     "output_type": "stream",
     "text": [
      "[iter: 0]\n",
      "[iter: 1]\n",
      "[iter: 2]\n",
      "[iter: 3]\n",
      "[iter: 4]\n",
      "[iter: 5]\n",
      "[iter: 6]\n",
      "[iter: 7]\n",
      "[iter: 8]\n",
      "[iter: 9]\n",
      "[iter:10]\n",
      "[iter:11]\n",
      "[iter:12]\n",
      "[iter:13]\n",
      "[iter:14]\n",
      "[iter:15]\n",
      "[iter:16]\n",
      "[iter:17]\n",
      "[iter:18]\n",
      "[iter:19]\n",
      "[iter:20]\n",
      "[iter:21]\n",
      "[iter:22]\n",
      "[iter:23]\n",
      "[iter:24]\n",
      "[iter:25]\n",
      "[iter:26]\n"
     ]
    }
   ],
   "source": [
    "# Train on all training data\n",
    "# clf_test = SGDClassifier(loss='log', max_iter=100, tol=1e-3)\n",
    "clf_test = RandomForestClassifier(n_estimators=500, max_depth=15, n_jobs=-1, random_state=1)\n",
    "\n",
    "batch_size = 1000\n",
    "stream = get_stream(path=train_file, size=batch_size)\n",
    "classes = np.array([-1, 1])\n",
    "\n",
    "iters = train_num // batch_size\n",
    "for i in range(iters):\n",
    "    batch = next(stream)\n",
    "    X_train, y_train = batch['Page content'], batch['Popularity']\n",
    "    if X_train is None:\n",
    "        break\n",
    "    \n",
    "    clf_test.fit(time_emo_feature(X_train), y_train)  \n",
    "    print(f'[iter:{i:2d}]')"
   ]
  },
  {
   "cell_type": "code",
   "execution_count": 190,
   "metadata": {},
   "outputs": [
    {
     "data": {
      "text/plain": [
       "(11847, 2)"
      ]
     },
     "execution_count": 190,
     "metadata": {},
     "output_type": "execute_result"
    }
   ],
   "source": [
    "df_test = pd.read_csv(test_file)\n",
    "df_example = pd.read_csv('../data/sample_submission.csv')\n",
    "df_pred = pd.DataFrame(columns=df_example.columns)\n",
    "df_pred['Id'] = df_test['Id']\n",
    "df_test.shape"
   ]
  },
  {
   "cell_type": "code",
   "execution_count": null,
   "metadata": {},
   "outputs": [],
   "source": [
    "X_test = df_test['Page content']\n",
    "df_pred['Popularity'] = clf_test.predict_proba(time_emo_feature(X_test))[:,1]\n",
    "df_pred.to_csv('./output/predict.csv', index=False)"
   ]
  }
 ],
 "metadata": {
  "interpreter": {
   "hash": "22c6df8416d99150f2220dbf1611e4fb62265fefa3bde7b85f317bcaabf8ed29"
  },
  "kernelspec": {
   "display_name": "Python 3.9.7 64-bit",
   "name": "python3"
  },
  "language_info": {
   "codemirror_mode": {
    "name": "ipython",
    "version": 3
   },
   "file_extension": ".py",
   "mimetype": "text/x-python",
   "name": "python",
   "nbconvert_exporter": "python",
   "pygments_lexer": "ipython3",
   "version": "3.9.7"
  },
  "orig_nbformat": 4
 },
 "nbformat": 4,
 "nbformat_minor": 2
}
