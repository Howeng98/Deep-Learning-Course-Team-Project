{
 "cells": [
  {
   "cell_type": "markdown",
   "metadata": {},
   "source": [
    "# Library and Packages Import"
   ]
  },
  {
   "cell_type": "code",
   "execution_count": 1,
   "metadata": {},
   "outputs": [],
   "source": [
    "%matplotlib inline\n",
    "\n",
    "import pandas as pd\n",
    "import numpy as np\n",
    "import matplotlib.pyplot as plt\n",
    "\n",
    "from sklearn.feature_extraction.text import HashingVectorizer\n",
    "from sklearn.linear_model import SGDClassifier\n",
    "from sklearn.metrics import roc_auc_score\n",
    "\n",
    "import re\n",
    "from bs4 import BeautifulSoup\n",
    "import nltk\n",
    "from nltk.corpus import stopwords\n",
    "from nltk.stem.porter import PorterStemmer\n",
    "import _pickle as pkl\n",
    "\n",
    "train_file, test_file = '../data/train.csv', '../data/test.csv'"
   ]
  },
  {
   "cell_type": "markdown",
   "metadata": {},
   "source": [
    "# Pre-define Functions"
   ]
  },
  {
   "cell_type": "code",
   "execution_count": 2,
   "metadata": {},
   "outputs": [],
   "source": [
    "def preprocessor(text):\n",
    "    \"\"\"\n",
    "    - remove HTML tags\n",
    "    - remove punctuation\n",
    "    - convert to lowercase\n",
    "    \"\"\"\n",
    "    # remove HTML tags\n",
    "    text = BeautifulSoup(text, 'html.parser').get_text()\n",
    "    \n",
    "    # regex for matching emoticons, keep emoticons, ex: :), :-P, :-D\n",
    "    r = '(?::|;|=|X)(?:-)?(?:\\)|\\(|D|P)'\n",
    "    emoticons = re.findall(r, text)\n",
    "    text = re.sub(r, '', text)\n",
    "    \n",
    "    # convert to lowercase and append all emoticons behind (with space in between)\n",
    "    # replace('-','') removes nose of emoticons\n",
    "    text = re.sub('[\\W]+', ' ', text.lower()) + ' ' + ' '.join(emoticons).replace('-','')\n",
    "    return text"
   ]
  },
  {
   "cell_type": "code",
   "execution_count": 3,
   "metadata": {},
   "outputs": [
    {
     "name": "stderr",
     "output_type": "stream",
     "text": [
      "[nltk_data] Downloading package stopwords to\n",
      "[nltk_data]     C:\\Users\\Che\\AppData\\Roaming\\nltk_data...\n",
      "[nltk_data]   Package stopwords is already up-to-date!\n"
     ]
    }
   ],
   "source": [
    "nltk.download('stopwords')\n",
    "stop = stopwords.words('english')\n",
    "\n",
    "def tokenizer_stem_nostop(text):\n",
    "    \"\"\"\n",
    "    - tokenization\n",
    "    - word-stemming\n",
    "    - remove stop-word\n",
    "    \"\"\"\n",
    "    porter = PorterStemmer()\n",
    "    return [porter.stem(w) for w in re.split('\\s+', text.strip()) \\\n",
    "            if w not in stop and re.match('[a-zA-Z]+', w)]"
   ]
  },
  {
   "cell_type": "code",
   "execution_count": 4,
   "metadata": {},
   "outputs": [],
   "source": [
    "def get_stream(path, size):\n",
    "    for chunk in pd.read_csv(path, chunksize=size):\n",
    "        yield chunk\n",
    "\n",
    "txt = next(get_stream(path=train_file, size=10))['Page content'][0]"
   ]
  },
  {
   "cell_type": "markdown",
   "metadata": {},
   "source": [
    "# Data Pre-processing"
   ]
  },
  {
   "cell_type": "code",
   "execution_count": 5,
   "metadata": {},
   "outputs": [
    {
     "name": "stdout",
     "output_type": "stream",
     "text": [
      "['clara', 'moskowitz', 'space', 'com', 'utc', 'nasa', 'grand', 'challeng', 'stop', 'asteroid', 'destroy', 'earth', 'may', 'killer', 'asteroid', 'head', 'earth', 'nasa', 'decid', 'someth', 'space', 'agenc', 'announc', 'new', 'grand', 'challeng', 'june', 'find', 'danger', 'space', 'rock', 'figur', 'stop', 'destroy', 'planet', 'new', 'mission', 'build', 'project', 'alreadi', 'underway', 'nasa', 'includ', 'plan', 'captur', 'asteroid', 'pull', 'toward', 'moon', 'send', 'astronaut', 'visit', 'part', 'grand', 'challeng', 'agenc', 'issu', 'request', 'inform', 'today', 'aim', 'solicit', 'idea', 'industri', 'academia', 'public', 'improv', 'asteroid', 'mission', 'plan', 'ask', 'think', 'concept', 'differ', 'approach', 'describ', 'william', 'gerstenmai', 'nasa', 'associ', 'administr', 'human', 'explor', 'oper', 'said', 'yesterday', 'nasa', 'event', 'announc', 'initi', 'want', 'think', 'way', 'enhanc', 'get', 'see', 'also', 'work', 'nasa', 'asteroid', 'capturerespons', 'request', 'inform', 'also', 'seek', 'idea', 'detect', 'mitig', 'asteroid', 'threat', 'due', 'juli', 'asteroid', 'retriev', 'mission', 'design', 'provid', 'first', 'deep', 'space', 'mission', 'astronaut', 'fli', 'nasa', 'space', 'launch', 'system', 'rocket', 'orion', 'space', 'capsul', 'develop', 'come', 'fire', 'lawmak', 'would', 'prefer', 'nasa', 'return', 'moon', 'draft', 'nasa', 'author', 'bill', 'hous', 'space', 'subcommitte', 'current', 'debat', 'would', 'cancel', 'mission', 'steer', 'agenc', 'toward', 'project', 'bill', 'discuss', 'hear', 'wednesday', 'june', 'edt', 'see', 'also', 'work', 'nasa', 'asteroid', 'captur', 'mission', 'picturesbut', 'nasa', 'offici', 'defend', 'asteroid', 'mission', 'today', 'said', 'confid', 'win', 'congress', 'support', 'explain', 'benefit', 'think', 'realli', 'truli', 'go', 'abl', 'show', 'valu', 'mission', 'nasa', 'associ', 'administr', 'lori', 'garver', 'said', 'today', 'someth', 'countri', 'debat', 'spend', 'public', 'money', 'begin', 'debat', 'garver', 'also', 'maintain', 'send', 'astronaut', 'asteroid', 'would', 'diminish', 'nasa', 'scienc', 'explor', 'goal', 'includ', 'anoth', 'lunar', 'land', 'see', 'also', 'anim', 'propos', 'asteroid', 'retriev', 'mission', 'initi', 'take', 'noth', 'valuabl', 'work', 'said', 'small', 'piec', 'overal', 'strategi', 'integr', 'piec', 'take', 'noth', 'moon', 'part', 'nasa', 'plan', 'win', 'support', 'flight', 'link', 'close', 'larger', 'goal', 'protect', 'earth', 'asteroid', 'threat', 'someday', 'human', 'discov', 'asteroid', 'head', 'earth', 'manag', 'alter', 'cours', 'one', 'import', 'accomplish', 'human', 'histori', 'said', 'tom', 'kalil', 'deputi', 'director', 'technolog', 'innov', 'white', 'hous', 'offic', 'scienc', 'technolog', 'polici', 'see', 'also', 'wildest', 'privat', 'deep', 'space', 'mission', 'idea', 'countdownth', 'topic', 'asteroid', 'threat', 'time', 'ever', 'meteor', 'explod', 'russian', 'citi', 'chelyabinsk', 'feb', 'day', 'footbal', 'field', 'size', 'asteroid', 'da14', 'pass', 'within', 'moon', 'orbit', 'earth', 'imag', 'courtesi', 'nasa', 'spacex', 'musk', 'say', 'sabotag', 'unlik', 'caus', 'sept', 'explos', 'still', 'worri', 'proxima', 'centauri', 'like', 'sun', 'steroid', 'china', 'launch', 'shenzhou', 'astronaut', 'tiangong', 'space', 'lab', 'space', 'station', 'mockup', 'houston', 'astronaut', 'guid', 'tour', 'video', 'articl', 'origin', 'publish', 'space', 'com', 'topic', 'asteroid', 'asteroid', 'challeng', 'earth', 'space', 'u', 'world']\n"
     ]
    }
   ],
   "source": [
    "print(tokenizer_stem_nostop(preprocessor(txt)))"
   ]
  },
  {
   "cell_type": "markdown",
   "metadata": {},
   "source": [
    "# Model"
   ]
  },
  {
   "cell_type": "code",
   "execution_count": 6,
   "metadata": {},
   "outputs": [
    {
     "name": "stdout",
     "output_type": "stream",
     "text": [
      "[iter: 0] score: 0.4660\n",
      "[iter: 1] score: 0.5690\n",
      "[iter: 2] score: 0.4995\n",
      "[iter: 3] score: 0.5232\n",
      "[iter: 4] score: 0.5381\n",
      "[iter: 5] score: 0.4917\n",
      "[iter: 6] score: 0.5178\n",
      "[iter: 7] score: 0.5419\n",
      "[iter: 8] score: 0.5321\n",
      "[iter: 9] score: 0.5051\n",
      "[iter:10] score: 0.5493\n",
      "[iter:11] score: 0.5718\n",
      "[iter:12] score: 0.5361\n"
     ]
    }
   ],
   "source": [
    "hashvec = HashingVectorizer(n_features=2**20, \n",
    "                            preprocessor=preprocessor, tokenizer=tokenizer_stem_nostop)\n",
    "# loss='log' gives logistic regression\n",
    "clf = SGDClassifier(loss='log', max_iter=100, tol=1e-3)\n",
    "batch_size = 1000\n",
    "stream = get_stream(path=train_file, size=batch_size)\n",
    "classes = np.array([-1, 1])\n",
    "train_auc, val_auc = [], []\n",
    "\n",
    "# we use one batch for training and another for validation in each iteration\n",
    "iters = (26000 + batch_size - 1) // (batch_size * 2)\n",
    "for i in range(iters):\n",
    "    batch = next(stream)\n",
    "    X_train, y_train = batch['Page content'], batch['Popularity']\n",
    "    if X_train is None:\n",
    "        break\n",
    "    X_train = hashvec.transform(X_train)\n",
    "    clf.partial_fit(X_train, y_train, classes=classes)\n",
    "    train_auc.append(roc_auc_score(y_train, clf.predict_proba(X_train)[:,1]))\n",
    "    \n",
    "    # validate\n",
    "    batch = next(stream)\n",
    "    X_val, y_val = batch['Page content'], batch['Popularity']\n",
    "    score = roc_auc_score(y_val, clf.predict_proba(hashvec.transform(X_val))[:,1])\n",
    "    val_auc.append(score)\n",
    "    print(f'[iter:{i:2d}] score: {score:.4f}')"
   ]
  },
  {
   "cell_type": "code",
   "execution_count": 7,
   "metadata": {},
   "outputs": [
    {
     "data": {
      "image/png": "[encoded data removed]",
      "text/plain": [
       "<Figure size 432x288 with 1 Axes>"
      ]
     },
     "metadata": {
      "needs_background": "light"
     },
     "output_type": "display_data"
    }
   ],
   "source": [
    "# Plot training curve\n",
    "\n",
    "plt.plot(range(1, len(train_auc)+1), train_auc, color='blue', label='Train auc')\n",
    "plt.plot(range(1, len(train_auc)+1), val_auc, color='red', label='Val auc')\n",
    "plt.legend(loc=\"best\")\n",
    "plt.xlabel('#Batches')\n",
    "plt.ylabel('Auc')\n",
    "plt.tight_layout()\n",
    "plt.show()"
   ]
  }
 ],
 "metadata": {
  "interpreter": {
   "hash": "22c6df8416d99150f2220dbf1611e4fb62265fefa3bde7b85f317bcaabf8ed29"
  },
  "kernelspec": {
   "display_name": "Python 3.9.7 64-bit",
   "name": "python3"
  },
  "language_info": {
   "codemirror_mode": {
    "name": "ipython",
    "version": 3
   },
   "file_extension": ".py",
   "mimetype": "text/x-python",
   "name": "python",
   "nbconvert_exporter": "python",
   "pygments_lexer": "ipython3",
   "version": "3.9.7"
  },
  "orig_nbformat": 4
 },
 "nbformat": 4,
 "nbformat_minor": 2
}
