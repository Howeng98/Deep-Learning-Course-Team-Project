{
 "cells": [
  {
   "cell_type": "markdown",
   "metadata": {},
   "source": [
    "# Libraries and Packages Import\n",
    "There are 3 groups of import library and package used in this project.\n",
    "- Utility: common library like numpy and pandas, etc.\n",
    "- Text related: BeautifulSoup for parser HTML 、 nltk for processing text and te for text emotion.\n",
    "- Sklearn: machine learning packages as previous labs and lectures."
   ]
  },
  {
   "cell_type": "code",
   "execution_count": 1,
   "id": "88e1ea2c",
   "metadata": {},
   "outputs": [
    {
     "name": "stderr",
     "output_type": "stream",
     "text": [
      "[nltk_data] Downloading package stopwords to\n",
      "[nltk_data]     C:\\Users\\Che\\AppData\\Roaming\\nltk_data...\n",
      "[nltk_data]   Package stopwords is already up-to-date!\n",
      "[nltk_data] Downloading package punkt to\n",
      "[nltk_data]     C:\\Users\\Che\\AppData\\Roaming\\nltk_data...\n",
      "[nltk_data]   Package punkt is already up-to-date!\n",
      "[nltk_data] Downloading package wordnet to\n",
      "[nltk_data]     C:\\Users\\Che\\AppData\\Roaming\\nltk_data...\n",
      "[nltk_data]   Package wordnet is already up-to-date!\n"
     ]
    }
   ],
   "source": [
    "%matplotlib inline\n",
    "# util\n",
    "import numpy as np\n",
    "import pandas as pd\n",
    "import matplotlib.pyplot as plt\n",
    "from tqdm import trange\n",
    "\n",
    "# text related\n",
    "import re\n",
    "from bs4 import BeautifulSoup\n",
    "from datetime import datetime\n",
    "import nltk\n",
    "from nltk.corpus import stopwords\n",
    "from nltk.stem.porter import PorterStemmer\n",
    "import text2emotion as te\n",
    "\n",
    "# sklearn\n",
    "from sklearn.base import TransformerMixin, BaseEstimator\n",
    "from sklearn.pipeline import Pipeline\n",
    "from sklearn.model_selection import GridSearchCV, train_test_split, cross_val_score\n",
    "from sklearn.preprocessing import StandardScaler, LabelEncoder\n",
    "from sklearn.ensemble import RandomForestClassifier\n",
    "from sklearn.feature_extraction.text import TfidfVectorizer, HashingVectorizer\n",
    "from sklearn.metrics import accuracy_score, auc, roc_curve\n",
    "from sklearn.impute import SimpleImputer"
   ]
  },
  {
   "cell_type": "markdown",
   "metadata": {},
   "source": [
    "# Custom Defined Functions and Classes"
   ]
  },
  {
   "cell_type": "markdown",
   "metadata": {},
   "source": [
    "We defined the following functions to simply compute attribute information we need. "
   ]
  },
  {
   "cell_type": "code",
   "execution_count": 2,
   "metadata": {},
   "outputs": [],
   "source": [
    "import nltk\n",
    "from nltk import word_tokenize\n",
    "\n",
    "def count_words(text):\n",
    "    return len(text.split())\n",
    "\n",
    "def count_words_in_quotes(text):\n",
    "    x = re.findall(\"'.'|\\\".\\\"\", text)\n",
    "    count=0\n",
    "    if x is None:\n",
    "        return 0\n",
    "    else:\n",
    "        for i in x:\n",
    "            t=i[1:-1]\n",
    "            count+=count_words(t)\n",
    "        return count\n",
    "\n",
    "def count_stopwords(text):\n",
    "    stop_words = set(stopwords.words('english'))  \n",
    "    word_tokens = word_tokenize(text)\n",
    "    stopwords_x = [w for w in word_tokens if w in stop_words]\n",
    "    return len(stopwords_x)\n",
    "\n",
    "def count_sentence(text):\n",
    "    x = re.split(r'[.!?]+', text)\n",
    "    return len(x) - 1"
   ]
  },
  {
   "cell_type": "markdown",
   "metadata": {},
   "source": [
    "## Data Pre-processing Function: conducts the major part of data pre-processing.\n",
    "We use BeautifulSoup to extract specific html tags and tune different attributes in the 'Tuning Attribute' part. In 'Time' session, we do a trivial transformation first to divide the values of weekday and month into binary groups. In 'Emotion' session, because <i>te.get_motion(text)</i> would return a set of emotion value of text, for example, \n",
    "<code>{'Angry': 0.12, 'Fear': 0.42, 'Happy': 0.04, 'Sad': 0.33, 'Surprise': 0.08}.</code> Accordingly, we sum up square value of each emotion to output an overall emotion value which represents the emotion degree of the text. In 'Channel' section, we find that some attributes are actually redudant, which means they will not influence final predict. After some experiments, we pick 6 type of channel <code>{\"is_lifestyle\", \"is_entertainment\", \"is_bus\", \"is_socmed\", \"is_tech\", \"is_world\"}</code>from 33 type and give it binary label. (1 for positive, 0 for negative) \n",
    "\n",
    "Finally, return a dictionary after processing all values."
   ]
  },
  {
   "cell_type": "code",
   "execution_count": 8,
   "id": "8a1bb0a5",
   "metadata": {},
   "outputs": [],
   "source": [
    "def data_preprocess(text):\n",
    "    bs = BeautifulSoup(text, 'html.parser')\n",
    "    \n",
    "    title = bs.find(class_=\"title\").text\n",
    "    content = bs.find(class_=\"article-content\").text\n",
    "    channel = bs.find(\"article\")[\"data-channel\"]\n",
    "    # tag = bs.find(class_=\"article-topics\").text\n",
    "    # match = re.compile('Topics:')\n",
    "    # tag = match.sub(r' ', tag)\n",
    "    topic_tags = bs.find('footer', class_=\"article-topics\").find_all('a')\n",
    "    topics = [t.get_text() for t in topic_tags]\n",
    "    tag = ' '.join(topics)\n",
    "    fig_count = len(bs.find_all('img'))\n",
    "    link_count = len(bs.find_all('a'))\n",
    "\n",
    "    ### Tuning Attribute\n",
    "    # word_count = len(text.split())\n",
    "    # capital_word_count = sum(map(str.isupper,text.split()))\n",
    "    sentence_count = count_sentence(text)\n",
    "    # unique_word_count = len(set(text.split()))\n",
    "    # htags_count = re.findall(r'(#w[A-Za-z0-9]*)', text)\n",
    "    words_in_quotes_count = count_words_in_quotes(text)\n",
    "    # stopwords_count = count_stopwords(text)\n",
    "    \n",
    "    # Time\n",
    "    time = bs.find('time')\n",
    "    timestamp, weekday, month = np.NaN, np.NaN, np.NaN\n",
    "    if time.has_attr('datetime'):\n",
    "        time = datetime.strptime(time['datetime'], '%a, %d %b %Y %H:%M:%S %z')\n",
    "        weekday = 0 if time.weekday() > 4 else 1\n",
    "        month = 1 if time.month > 5 else 0\n",
    "        timestamp = time.timestamp()\n",
    "\n",
    "    # Emotion\n",
    "    emo_val = 0\n",
    "    for v in list(te.get_emotion(title).values()):\n",
    "        if type(v)==int:\n",
    "            break\n",
    "        emo_val += v**2 if v!=0 else 0\n",
    "\n",
    "    # Major channel: Lifestyle、Entertainment、Business、Social Media、Tech、World\n",
    "    is_lifestyle = 1 if channel == 'lifestyle' else 0\n",
    "    is_entertainment = 1 if channel == 'entertainment' else 0\n",
    "    is_bus = 1 if channel == 'bus' else 0\n",
    "    is_socmed = 1 if channel == 'socmed' else 0\n",
    "    is_tech = 1 if channel == 'tech' else 0\n",
    "    is_world = 1 if channel == 'world' else 0\n",
    "\n",
    "    return {\n",
    "            \"title\": title, \n",
    "            \"content\": content,\n",
    "            \"tag\":  tag,\n",
    "            \"channel\": channel, \n",
    "            \"fig_count\":  fig_count,\n",
    "            \"link_count\":  link_count,\n",
    "            \"weekday\":  weekday,\n",
    "            \"month\": month,\n",
    "            \"timestamp\":  timestamp,\n",
    "            \"word_count\": words_in_quotes_count,\n",
    "            \"sentence_count\": sentence_count,\n",
    "            \"emo_val\": emo_val,\n",
    "            \"is_lifestyle\": is_lifestyle,\n",
    "            \"is_entertainment\": is_entertainment,\n",
    "            \"is_bus\": is_bus,\n",
    "            \"is_socmed\": is_socmed,\n",
    "            \"is_tech\": is_tech,\n",
    "            \"is_world\": is_world\n",
    "            }\n",
    "\n",
    "# data_preprocess(df.loc[0,'Page content'])"
   ]
  },
  {
   "cell_type": "markdown",
   "metadata": {},
   "source": [
    "The following functions are copied from TA's notebook."
   ]
  },
  {
   "cell_type": "code",
   "execution_count": 4,
   "id": "4959f4f3",
   "metadata": {},
   "outputs": [],
   "source": [
    "def preprocessor(text):\n",
    "    \"\"\"\n",
    "    - remove HTML tags\n",
    "    - remove punctuation\n",
    "    - convert to lowercase\n",
    "    \"\"\"\n",
    "    text = text#[0]\n",
    "    # remove HTML tags\n",
    "    text = BeautifulSoup(text, 'html.parser').get_text()\n",
    "    \n",
    "    # regex for matching emoticons, keep emoticons, ex: :), :-P, :-D\n",
    "    r = '(?::|;|=|X)(?:-)?(?:\\)|\\(|D|P)'\n",
    "    emoticons = re.findall(r, text)\n",
    "    text = re.sub(r, '', text)\n",
    "    \n",
    "    # convert to lowercase and append all emoticons behind (with space in between)\n",
    "    # replace('-','') removes nose of emoticons\n",
    "    text = re.sub('[\\W]+', ' ', text.lower()) + ' ' + ' '.join(emoticons).replace('-','')\n",
    "    return text"
   ]
  },
  {
   "cell_type": "code",
   "execution_count": 5,
   "metadata": {},
   "outputs": [
    {
     "name": "stderr",
     "output_type": "stream",
     "text": [
      "[nltk_data] Downloading package stopwords to\n",
      "[nltk_data]     C:\\Users\\Che\\AppData\\Roaming\\nltk_data...\n",
      "[nltk_data]   Package stopwords is already up-to-date!\n"
     ]
    }
   ],
   "source": [
    "nltk.download('stopwords')\n",
    "stop = stopwords.words('english')\n",
    "\n",
    "def tokenizer_stem_nostop(text):\n",
    "    \"\"\"\n",
    "    - tokenization\n",
    "    - word-stemming\n",
    "    - remove stop-word\n",
    "    \"\"\"\n",
    "    porter = PorterStemmer()\n",
    "    return [porter.stem(w) for w in re.split('\\s+', text.strip()) \\\n",
    "            if w not in stop and re.match('[a-zA-Z]+', w)]"
   ]
  },
  {
   "cell_type": "markdown",
   "metadata": {},
   "source": [
    "# Data Pre-processing"
   ]
  },
  {
   "cell_type": "code",
   "execution_count": 9,
   "id": "1492ec46",
   "metadata": {},
   "outputs": [
    {
     "data": {
      "text/html": [
       "<div>\n",
       "<style scoped>\n",
       "    .dataframe tbody tr th:only-of-type {\n",
       "        vertical-align: middle;\n",
       "    }\n",
       "\n",
       "    .dataframe tbody tr th {\n",
       "        vertical-align: top;\n",
       "    }\n",
       "\n",
       "    .dataframe thead th {\n",
       "        text-align: right;\n",
       "    }\n",
       "</style>\n",
       "<table border=\"1\" class=\"dataframe\">\n",
       "  <thead>\n",
       "    <tr style=\"text-align: right;\">\n",
       "      <th></th>\n",
       "      <th>Id</th>\n",
       "      <th>Popularity</th>\n",
       "      <th>Page content</th>\n",
       "    </tr>\n",
       "  </thead>\n",
       "  <tbody>\n",
       "    <tr>\n",
       "      <th>0</th>\n",
       "      <td>0</td>\n",
       "      <td>-1</td>\n",
       "      <td>&lt;html&gt;&lt;head&gt;&lt;div class=\"article-info\"&gt; &lt;span c...</td>\n",
       "    </tr>\n",
       "    <tr>\n",
       "      <th>1</th>\n",
       "      <td>1</td>\n",
       "      <td>1</td>\n",
       "      <td>&lt;html&gt;&lt;head&gt;&lt;div class=\"article-info\"&gt;&lt;span cl...</td>\n",
       "    </tr>\n",
       "    <tr>\n",
       "      <th>2</th>\n",
       "      <td>2</td>\n",
       "      <td>1</td>\n",
       "      <td>&lt;html&gt;&lt;head&gt;&lt;div class=\"article-info\"&gt;&lt;span cl...</td>\n",
       "    </tr>\n",
       "    <tr>\n",
       "      <th>3</th>\n",
       "      <td>3</td>\n",
       "      <td>-1</td>\n",
       "      <td>&lt;html&gt;&lt;head&gt;&lt;div class=\"article-info\"&gt;&lt;span cl...</td>\n",
       "    </tr>\n",
       "    <tr>\n",
       "      <th>4</th>\n",
       "      <td>4</td>\n",
       "      <td>-1</td>\n",
       "      <td>&lt;html&gt;&lt;head&gt;&lt;div class=\"article-info\"&gt;&lt;span cl...</td>\n",
       "    </tr>\n",
       "  </tbody>\n",
       "</table>\n",
       "</div>"
      ],
      "text/plain": [
       "   Id  Popularity                                       Page content\n",
       "0   0          -1  <html><head><div class=\"article-info\"> <span c...\n",
       "1   1           1  <html><head><div class=\"article-info\"><span cl...\n",
       "2   2           1  <html><head><div class=\"article-info\"><span cl...\n",
       "3   3          -1  <html><head><div class=\"article-info\"><span cl...\n",
       "4   4          -1  <html><head><div class=\"article-info\"><span cl..."
      ]
     },
     "execution_count": 9,
     "metadata": {},
     "output_type": "execute_result"
    }
   ],
   "source": [
    "attribute = [\"title\", \"content\", \"tag\",\n",
    "            \"channel\", \"fig_count\", \"link_count\",\n",
    "            \"weekday\", \"month\", \"timestamp\",\n",
    "            \"word_count\", \"sentence_count\", \"emo_val\", \n",
    "            \"is_lifestyle\", \"is_entertainment\", \"is_bus\", \"is_socmed\", \"is_tech\", \"is_world\"]\n",
    "df = pd.read_csv('../data/train.csv')\n",
    "df.head()"
   ]
  },
  {
   "cell_type": "code",
   "execution_count": 10,
   "id": "8cfd954e",
   "metadata": {},
   "outputs": [
    {
     "name": "stderr",
     "output_type": "stream",
     "text": [
      "[nltk_data] Downloading package punkt to\n",
      "[nltk_data]     C:\\Users\\Che\\AppData\\Roaming\\nltk_data...\n",
      "[nltk_data]   Package punkt is already up-to-date!\n",
      "[nltk_data] Downloading package stopwords to\n",
      "[nltk_data]     C:\\Users\\Che\\AppData\\Roaming\\nltk_data...\n",
      "[nltk_data]   Package stopwords is already up-to-date!\n",
      "100%|██████████| 27643/27643 [32:09<00:00, 14.32it/s]\n"
     ]
    },
    {
     "data": {
      "text/html": [
       "<div>\n",
       "<style scoped>\n",
       "    .dataframe tbody tr th:only-of-type {\n",
       "        vertical-align: middle;\n",
       "    }\n",
       "\n",
       "    .dataframe tbody tr th {\n",
       "        vertical-align: top;\n",
       "    }\n",
       "\n",
       "    .dataframe thead th {\n",
       "        text-align: right;\n",
       "    }\n",
       "</style>\n",
       "<table border=\"1\" class=\"dataframe\">\n",
       "  <thead>\n",
       "    <tr style=\"text-align: right;\">\n",
       "      <th></th>\n",
       "      <th>title</th>\n",
       "      <th>content</th>\n",
       "      <th>tag</th>\n",
       "      <th>channel</th>\n",
       "      <th>fig_count</th>\n",
       "      <th>link_count</th>\n",
       "      <th>weekday</th>\n",
       "      <th>month</th>\n",
       "      <th>timestamp</th>\n",
       "      <th>word_count</th>\n",
       "      <th>sentence_count</th>\n",
       "      <th>emo_val</th>\n",
       "    </tr>\n",
       "  </thead>\n",
       "  <tbody>\n",
       "    <tr>\n",
       "      <th>0</th>\n",
       "      <td>NASA's Grand Challenge: Stop Asteroids From De...</td>\n",
       "      <td>There may be killer asteroids headed for Eart...</td>\n",
       "      <td>Asteroid Asteroids challenge Earth Space U.S. ...</td>\n",
       "      <td>world</td>\n",
       "      <td>1</td>\n",
       "      <td>22</td>\n",
       "      <td>1</td>\n",
       "      <td>1</td>\n",
       "      <td>1.371654e+09</td>\n",
       "      <td>1</td>\n",
       "      <td>84</td>\n",
       "      <td>0.500</td>\n",
       "    </tr>\n",
       "    <tr>\n",
       "      <th>1</th>\n",
       "      <td>Google's New Open Source Patent Pledge: We Won...</td>\n",
       "      <td>Google took a stand of sorts against patent-l...</td>\n",
       "      <td>Apps and Software Google open source opn pledg...</td>\n",
       "      <td>tech</td>\n",
       "      <td>2</td>\n",
       "      <td>18</td>\n",
       "      <td>1</td>\n",
       "      <td>0</td>\n",
       "      <td>1.364492e+09</td>\n",
       "      <td>1</td>\n",
       "      <td>54</td>\n",
       "      <td>0.625</td>\n",
       "    </tr>\n",
       "    <tr>\n",
       "      <th>2</th>\n",
       "      <td>Ballin': 2014 NFL Draft Picks Get to Choose Th...</td>\n",
       "      <td>You've spend countless hours training to be a...</td>\n",
       "      <td>Entertainment NFL NFL Draft Sports Television</td>\n",
       "      <td>entertainment</td>\n",
       "      <td>2</td>\n",
       "      <td>11</td>\n",
       "      <td>1</td>\n",
       "      <td>0</td>\n",
       "      <td>1.399490e+09</td>\n",
       "      <td>26</td>\n",
       "      <td>300</td>\n",
       "      <td>0.000</td>\n",
       "    </tr>\n",
       "    <tr>\n",
       "      <th>3</th>\n",
       "      <td>Cameraperson Fails Deliver Slapstick Laughs</td>\n",
       "      <td>Tired of the same old sports fails and ne...</td>\n",
       "      <td>Sports Video Videos Watercooler</td>\n",
       "      <td>watercooler</td>\n",
       "      <td>1</td>\n",
       "      <td>13</td>\n",
       "      <td>1</td>\n",
       "      <td>1</td>\n",
       "      <td>1.381458e+09</td>\n",
       "      <td>21</td>\n",
       "      <td>214</td>\n",
       "      <td>0.000</td>\n",
       "    </tr>\n",
       "    <tr>\n",
       "      <th>4</th>\n",
       "      <td>NFL Star Helps Young Fan Prove Friendship With...</td>\n",
       "      <td>At 6-foot-5 and 298 pounds, All-Pro NFL star ...</td>\n",
       "      <td>Entertainment instagram instagram video NFL Sp...</td>\n",
       "      <td>entertainment</td>\n",
       "      <td>52</td>\n",
       "      <td>16</td>\n",
       "      <td>1</td>\n",
       "      <td>0</td>\n",
       "      <td>1.397706e+09</td>\n",
       "      <td>3</td>\n",
       "      <td>691</td>\n",
       "      <td>0.250</td>\n",
       "    </tr>\n",
       "  </tbody>\n",
       "</table>\n",
       "</div>"
      ],
      "text/plain": [
       "                                               title  \\\n",
       "0  NASA's Grand Challenge: Stop Asteroids From De...   \n",
       "1  Google's New Open Source Patent Pledge: We Won...   \n",
       "2  Ballin': 2014 NFL Draft Picks Get to Choose Th...   \n",
       "3        Cameraperson Fails Deliver Slapstick Laughs   \n",
       "4  NFL Star Helps Young Fan Prove Friendship With...   \n",
       "\n",
       "                                             content  \\\n",
       "0   There may be killer asteroids headed for Eart...   \n",
       "1   Google took a stand of sorts against patent-l...   \n",
       "2   You've spend countless hours training to be a...   \n",
       "3       Tired of the same old sports fails and ne...   \n",
       "4   At 6-foot-5 and 298 pounds, All-Pro NFL star ...   \n",
       "\n",
       "                                                 tag        channel fig_count  \\\n",
       "0  Asteroid Asteroids challenge Earth Space U.S. ...          world         1   \n",
       "1  Apps and Software Google open source opn pledg...           tech         2   \n",
       "2      Entertainment NFL NFL Draft Sports Television  entertainment         2   \n",
       "3                    Sports Video Videos Watercooler    watercooler         1   \n",
       "4  Entertainment instagram instagram video NFL Sp...  entertainment        52   \n",
       "\n",
       "  link_count weekday month     timestamp word_count sentence_count  emo_val  \n",
       "0         22       1     1  1.371654e+09          1             84    0.500  \n",
       "1         18       1     0  1.364492e+09          1             54    0.625  \n",
       "2         11       1     0  1.399490e+09         26            300    0.000  \n",
       "3         13       1     1  1.381458e+09         21            214    0.000  \n",
       "4         16       1     0  1.397706e+09          3            691    0.250  "
      ]
     },
     "execution_count": 10,
     "metadata": {},
     "output_type": "execute_result"
    }
   ],
   "source": [
    "nltk.download('punkt')\n",
    "nltk.download('stopwords')\n",
    "\n",
    "train_data = pd.DataFrame(columns=attribute)\n",
    "train_label = pd.DataFrame(columns=[\"Popularity\"])\n",
    "for i in trange(len(df)):\n",
    "    train_data = train_data.append(data_preprocess(df.loc[i,'Page content']), ignore_index=True)\n",
    "    train_label = train_label.append({\"Popularity\": df.loc[i, \"Popularity\"]}, ignore_index=True)\n",
    "    \n",
    "train_data.head()"
   ]
  },
  {
   "cell_type": "code",
   "execution_count": 21,
   "id": "1ba4e58e",
   "metadata": {},
   "outputs": [
    {
     "name": "stdout",
     "output_type": "stream",
     "text": [
      "(22114, 9) (22114,)\n",
      "(5529, 9) (5529,)\n"
     ]
    },
    {
     "data": {
      "text/html": [
       "<div>\n",
       "<style scoped>\n",
       "    .dataframe tbody tr th:only-of-type {\n",
       "        vertical-align: middle;\n",
       "    }\n",
       "\n",
       "    .dataframe tbody tr th {\n",
       "        vertical-align: top;\n",
       "    }\n",
       "\n",
       "    .dataframe thead th {\n",
       "        text-align: right;\n",
       "    }\n",
       "</style>\n",
       "<table border=\"1\" class=\"dataframe\">\n",
       "  <thead>\n",
       "    <tr style=\"text-align: right;\">\n",
       "      <th></th>\n",
       "      <th>channel</th>\n",
       "      <th>fig_count</th>\n",
       "      <th>link_count</th>\n",
       "      <th>weekday</th>\n",
       "      <th>month</th>\n",
       "      <th>timestamp</th>\n",
       "      <th>word_count</th>\n",
       "      <th>sentence_count</th>\n",
       "      <th>emo_val</th>\n",
       "    </tr>\n",
       "  </thead>\n",
       "  <tbody>\n",
       "    <tr>\n",
       "      <th>3492</th>\n",
       "      <td>3</td>\n",
       "      <td>2</td>\n",
       "      <td>15</td>\n",
       "      <td>1</td>\n",
       "      <td>1</td>\n",
       "      <td>1.383328e+09</td>\n",
       "      <td>2</td>\n",
       "      <td>40</td>\n",
       "      <td>0.5000</td>\n",
       "    </tr>\n",
       "    <tr>\n",
       "      <th>9375</th>\n",
       "      <td>3</td>\n",
       "      <td>2</td>\n",
       "      <td>8</td>\n",
       "      <td>1</td>\n",
       "      <td>1</td>\n",
       "      <td>1.409834e+09</td>\n",
       "      <td>2</td>\n",
       "      <td>45</td>\n",
       "      <td>0.0000</td>\n",
       "    </tr>\n",
       "    <tr>\n",
       "      <th>17129</th>\n",
       "      <td>20</td>\n",
       "      <td>1</td>\n",
       "      <td>14</td>\n",
       "      <td>1</td>\n",
       "      <td>1</td>\n",
       "      <td>1.387937e+09</td>\n",
       "      <td>1</td>\n",
       "      <td>58</td>\n",
       "      <td>0.5578</td>\n",
       "    </tr>\n",
       "    <tr>\n",
       "      <th>27200</th>\n",
       "      <td>31</td>\n",
       "      <td>1</td>\n",
       "      <td>15</td>\n",
       "      <td>1</td>\n",
       "      <td>1</td>\n",
       "      <td>1.413211e+09</td>\n",
       "      <td>1</td>\n",
       "      <td>33</td>\n",
       "      <td>0.0000</td>\n",
       "    </tr>\n",
       "    <tr>\n",
       "      <th>22507</th>\n",
       "      <td>28</td>\n",
       "      <td>21</td>\n",
       "      <td>39</td>\n",
       "      <td>0</td>\n",
       "      <td>0</td>\n",
       "      <td>1.358004e+09</td>\n",
       "      <td>1</td>\n",
       "      <td>352</td>\n",
       "      <td>1.0000</td>\n",
       "    </tr>\n",
       "  </tbody>\n",
       "</table>\n",
       "</div>"
      ],
      "text/plain": [
       "       channel fig_count link_count weekday month     timestamp word_count  \\\n",
       "3492         3         2         15       1     1  1.383328e+09          2   \n",
       "9375         3         2          8       1     1  1.409834e+09          2   \n",
       "17129       20         1         14       1     1  1.387937e+09          1   \n",
       "27200       31         1         15       1     1  1.413211e+09          1   \n",
       "22507       28        21         39       0     0  1.358004e+09          1   \n",
       "\n",
       "      sentence_count  emo_val  \n",
       "3492              40   0.5000  \n",
       "9375              45   0.0000  \n",
       "17129             58   0.5578  \n",
       "27200             33   0.0000  \n",
       "22507            352   1.0000  "
      ]
     },
     "execution_count": 21,
     "metadata": {},
     "output_type": "execute_result"
    }
   ],
   "source": [
    "# Encoding non-numerical column\n",
    "label_le = LabelEncoder()\n",
    "train_data[\"channel\"] = label_le.fit_transform(train_data[\"channel\"].values)\n",
    "\n",
    "X_train, X_test, y_train, y_test = train_test_split(train_data.drop(columns=['title','content', 'tag']), train_label['Popularity'].astype('int'),\n",
    "                                                    test_size=0.2, random_state=0)\n",
    "print(X_train.shape, y_train.shape)\n",
    "print(X_test.shape, y_test.shape)\n",
    "X_train.head()"
   ]
  },
  {
   "cell_type": "markdown",
   "metadata": {},
   "source": [
    "# Models"
   ]
  },
  {
   "cell_type": "markdown",
   "metadata": {},
   "source": [
    "## Basic Model\n",
    "In the basic model, we drop the text columns including 'title', 'content', and 'tag' for convinence. We use a pipeline with StandardScalar, SimpleImputer, RandomForestClassifier as our estimator and tune different value of hyperparameters on random forest classifier."
   ]
  },
  {
   "cell_type": "code",
   "execution_count": 10,
   "metadata": {},
   "outputs": [
    {
     "name": "stdout",
     "output_type": "stream",
     "text": [
      "[SVC: grid search]\n",
      "Validation roc_auc score: 0.588\n",
      "{'clf__max_depth': 10, 'clf__n_estimators': 500}\n"
     ]
    }
   ],
   "source": [
    "# param\n",
    "param_est = [50, 200, 500, 800]\n",
    "param_depth = [2, 5, 10, 15]\n",
    "param_grid = [{'clf__n_estimators': param_est, \n",
    "               'clf__max_depth': param_depth}]\n",
    "\n",
    "pipe = Pipeline([ \n",
    "                    ('sc', StandardScaler()),\n",
    "                    (\"imr\", SimpleImputer(missing_values = np.NaN, strategy = 'most_frequent')),\n",
    "                    ('clf', RandomForestClassifier(n_jobs=-1, random_state=1))\n",
    "                ])\n",
    "\n",
    "gs = GridSearchCV(\n",
    "    estimator = pipe, \n",
    "    param_grid = param_grid, \n",
    "    scoring = 'roc_auc',\n",
    "    cv = 10\n",
    ")\n",
    "\n",
    "gs = gs.fit(X_train, y_train)\n",
    "print('[RF: grid search]')\n",
    "print('Validation roc_auc score: %.3f' % gs.best_score_)\n",
    "print(gs.best_params_)\n",
    "\n",
    "best_clf = gs.best_estimator_"
   ]
  },
  {
   "cell_type": "markdown",
   "metadata": {},
   "source": [
    "## Text + Numerical Model (Best Model)\n",
    "In this model, we use both text and numerical features. Process each feature and combine into a high dimensional input. Use random forest as classifier."
   ]
  },
  {
   "cell_type": "code",
   "execution_count": 79,
   "metadata": {},
   "outputs": [
    {
     "data": {
      "text/html": [
       "<div>\n",
       "<style scoped>\n",
       "    .dataframe tbody tr th:only-of-type {\n",
       "        vertical-align: middle;\n",
       "    }\n",
       "\n",
       "    .dataframe tbody tr th {\n",
       "        vertical-align: top;\n",
       "    }\n",
       "\n",
       "    .dataframe thead th {\n",
       "        text-align: right;\n",
       "    }\n",
       "</style>\n",
       "<table border=\"1\" class=\"dataframe\">\n",
       "  <thead>\n",
       "    <tr style=\"text-align: right;\">\n",
       "      <th></th>\n",
       "      <th>title</th>\n",
       "      <th>tag</th>\n",
       "      <th>channel</th>\n",
       "      <th>fig_count</th>\n",
       "      <th>link_count</th>\n",
       "      <th>weekday</th>\n",
       "      <th>month</th>\n",
       "      <th>timestamp</th>\n",
       "      <th>word_count</th>\n",
       "      <th>sentence_count</th>\n",
       "      <th>emo_val</th>\n",
       "    </tr>\n",
       "  </thead>\n",
       "  <tbody>\n",
       "    <tr>\n",
       "      <th>3492</th>\n",
       "      <td>Analyst: iPad Air Sales May Top 3 Million This...</td>\n",
       "      <td>Apple Business Gadgets iPad iPad Air iPad Mini...</td>\n",
       "      <td>3</td>\n",
       "      <td>2</td>\n",
       "      <td>15</td>\n",
       "      <td>1</td>\n",
       "      <td>1</td>\n",
       "      <td>1.383328e+09</td>\n",
       "      <td>2</td>\n",
       "      <td>40</td>\n",
       "      <td>0.5000</td>\n",
       "    </tr>\n",
       "    <tr>\n",
       "      <th>9375</th>\n",
       "      <td>Vice Raises $500 Million in Its Quest for 'Tot...</td>\n",
       "      <td>Business Media VICE Media</td>\n",
       "      <td>3</td>\n",
       "      <td>2</td>\n",
       "      <td>8</td>\n",
       "      <td>1</td>\n",
       "      <td>1</td>\n",
       "      <td>1.409834e+09</td>\n",
       "      <td>2</td>\n",
       "      <td>45</td>\n",
       "      <td>0.0000</td>\n",
       "    </tr>\n",
       "    <tr>\n",
       "      <th>17129</th>\n",
       "      <td>Twitter Shares Soar to Record on Optimism for ...</td>\n",
       "      <td>Advertising Business Mobile Twitter</td>\n",
       "      <td>20</td>\n",
       "      <td>1</td>\n",
       "      <td>14</td>\n",
       "      <td>1</td>\n",
       "      <td>1</td>\n",
       "      <td>1.387937e+09</td>\n",
       "      <td>1</td>\n",
       "      <td>58</td>\n",
       "      <td>0.5578</td>\n",
       "    </tr>\n",
       "    <tr>\n",
       "      <th>27200</th>\n",
       "      <td>John Oliver Is Leading the War Against Pumpkin...</td>\n",
       "      <td>Coffee John Oliver Last Week Tonight With John...</td>\n",
       "      <td>31</td>\n",
       "      <td>1</td>\n",
       "      <td>15</td>\n",
       "      <td>1</td>\n",
       "      <td>1</td>\n",
       "      <td>1.413211e+09</td>\n",
       "      <td>1</td>\n",
       "      <td>33</td>\n",
       "      <td>0.0000</td>\n",
       "    </tr>\n",
       "    <tr>\n",
       "      <th>22507</th>\n",
       "      <td>10 Top News Stories This Week</td>\n",
       "      <td>CES Tech</td>\n",
       "      <td>28</td>\n",
       "      <td>21</td>\n",
       "      <td>39</td>\n",
       "      <td>0</td>\n",
       "      <td>0</td>\n",
       "      <td>1.358004e+09</td>\n",
       "      <td>1</td>\n",
       "      <td>352</td>\n",
       "      <td>1.0000</td>\n",
       "    </tr>\n",
       "  </tbody>\n",
       "</table>\n",
       "</div>"
      ],
      "text/plain": [
       "                                                   title  \\\n",
       "3492   Analyst: iPad Air Sales May Top 3 Million This...   \n",
       "9375   Vice Raises $500 Million in Its Quest for 'Tot...   \n",
       "17129  Twitter Shares Soar to Record on Optimism for ...   \n",
       "27200  John Oliver Is Leading the War Against Pumpkin...   \n",
       "22507                      10 Top News Stories This Week   \n",
       "\n",
       "                                                     tag  channel fig_count  \\\n",
       "3492   Apple Business Gadgets iPad iPad Air iPad Mini...        3         2   \n",
       "9375                           Business Media VICE Media        3         2   \n",
       "17129                Advertising Business Mobile Twitter       20         1   \n",
       "27200  Coffee John Oliver Last Week Tonight With John...       31         1   \n",
       "22507                                           CES Tech       28        21   \n",
       "\n",
       "      link_count weekday month     timestamp word_count sentence_count  \\\n",
       "3492          15       1     1  1.383328e+09          2             40   \n",
       "9375           8       1     1  1.409834e+09          2             45   \n",
       "17129         14       1     1  1.387937e+09          1             58   \n",
       "27200         15       1     1  1.413211e+09          1             33   \n",
       "22507         39       0     0  1.358004e+09          1            352   \n",
       "\n",
       "       emo_val  \n",
       "3492    0.5000  \n",
       "9375    0.0000  \n",
       "17129   0.5578  \n",
       "27200   0.0000  \n",
       "22507   1.0000  "
      ]
     },
     "execution_count": 79,
     "metadata": {},
     "output_type": "execute_result"
    }
   ],
   "source": [
    "tmpx_train, tmpx_test, tmpy_train, tmpy_test = train_test_split(train_data.drop(columns=['content']), train_label['Popularity'].astype('int'),\n",
    "                                                    test_size=0.2, random_state=0)\n",
    "tmpx_train.head()"
   ]
  },
  {
   "cell_type": "code",
   "execution_count": 80,
   "metadata": {},
   "outputs": [
    {
     "data": {
      "text/plain": [
       "[{'clf__n_estimators': [500, 1000, 1500], 'clf__max_depth': [15]}]"
      ]
     },
     "execution_count": 80,
     "metadata": {},
     "output_type": "execute_result"
    }
   ],
   "source": [
    "param_est = [500, 1000, 1500]\n",
    "param_depth = [15]\n",
    "param_grid = [{'clf__n_estimators': param_est, \n",
    "               'clf__max_depth': param_depth}]\n",
    "param_grid"
   ]
  },
  {
   "cell_type": "code",
   "execution_count": 81,
   "metadata": {},
   "outputs": [
    {
     "name": "stderr",
     "output_type": "stream",
     "text": [
      "C:\\Users\\Che\\AppData\\Local\\Programs\\Python\\Python39\\lib\\site-packages\\sklearn\\feature_extraction\\text.py:516: UserWarning: The parameter 'token_pattern' will not be used since 'tokenizer' is not None'\n",
      "  warnings.warn(\n"
     ]
    },
    {
     "name": "stdout",
     "output_type": "stream",
     "text": [
      "x_train shape: (22114, 25)\n",
      "[SVC: grid search]\n",
      "Validation roc_auc score: 0.587\n",
      "{'clf__max_depth': 15, 'clf__n_estimators': 1000}\n"
     ]
    }
   ],
   "source": [
    "from sklearn.compose import ColumnTransformer\n",
    "\n",
    "numeric_features = ['channel', 'fig_count', 'link_count',\n",
    "                    'weekday', 'month', 'timestamp', \n",
    "                    'word_count', 'sentence_count', 'emo_val', \n",
    "                    \"is_lifestyle\", \"is_entertainment\", \"is_bus\", \"is_socmed\", \"is_tech\", \"is_world\"]\n",
    "numeric_transformer = Pipeline([ \n",
    "                                ('sc', StandardScaler()),\n",
    "                                (\"imr\", SimpleImputer(missing_values = np.NaN, strategy = 'most_frequent'))\n",
    "                            ])\n",
    "\n",
    "# tf = TfidfVectorizer(preprocessor=preprocessor, tokenizer=tokenizer_stem_nostop)\n",
    "tf = HashingVectorizer(n_features=2**3,\n",
    "                        preprocessor=preprocessor,\n",
    "                        tokenizer=tokenizer_stem_nostop)\n",
    "text_trans = tf.fit_transform(tmpx_train['tag']).toarray()\n",
    "text_trans_2 = tf.fit_transform(tmpx_train['title']).toarray()\n",
    "\n",
    "col_preprocessor = ColumnTransformer(transformers=[(\"num\", numeric_transformer, numeric_features)])\n",
    "num_trans = col_preprocessor.fit_transform(tmpx_train)\n",
    "\n",
    "# Mix text & numeric\n",
    "tmpx_train = np.hstack((text_trans, text_trans_2, num_trans))\n",
    "print(\"x_train shape:\", tmpx_train.shape)\n",
    "\n",
    "pipe = Pipeline([('clf', RandomForestClassifier(n_jobs=-1, random_state=1))])\n",
    "\n",
    "gs = GridSearchCV(\n",
    "    estimator = pipe,\n",
    "    param_grid = param_grid, \n",
    "    scoring = 'roc_auc',\n",
    "    cv = 10\n",
    ")\n",
    "\n",
    "gs = gs.fit(tmpx_train, tmpy_train)\n",
    "print('[SVC: grid search]')\n",
    "print('Validation roc_auc score: %.3f' % gs.best_score_)\n",
    "print(gs.best_params_)\n",
    "\n",
    "best_clf = gs.best_estimator_"
   ]
  },
  {
   "cell_type": "markdown",
   "metadata": {},
   "source": [
    "## Try channel\n",
    "This block is to see whether 'channel' attribute affect the performance or not.\n",
    "In the following bar chart, we can find lots of redundant information in all channel type "
   ]
  },
  {
   "cell_type": "code",
   "execution_count": 52,
   "metadata": {},
   "outputs": [
    {
     "data": {
      "image/png": "[encoded data removed]",
      "text/plain": [
       "<Figure size 432x288 with 1 Axes>"
      ]
     },
     "metadata": {
      "needs_background": "light"
     },
     "output_type": "display_data"
    }
   ],
   "source": [
    "channel_num = np.zeros((33, 2))\n",
    "for i in range(len(train_data)):\n",
    "    c = train_data['channel'][i]\n",
    "    channel_num[c][(train_label['Popularity'][i] + 2) // 2] += 1\n",
    "sort_idx = np.argsort(np.sum(channel_num, axis=1))\n",
    "pop = channel_num[:,1] / np.sum(channel_num, axis=1)\n",
    "plt.bar(range(33), pop)\n",
    "plt.show()"
   ]
  },
  {
   "cell_type": "code",
   "execution_count": 3,
   "metadata": {},
   "outputs": [
    {
     "name": "stdout",
     "output_type": "stream",
     "text": [
      "Channel[ 2]: [1. 0.]\n",
      "Channel[ 4]: [0. 1.]\n",
      "Channel[13]: [0. 1.]\n",
      "Channel[16]: [164. 229.]\n",
      "Channel[18]: [0. 2.]\n",
      "Channel[19]: [0. 2.]\n",
      "Channel[25]: [0. 2.]\n",
      "Channel[26]: [0. 6.]\n",
      "Channel[30]: [0. 1.]\n",
      "# of data w/ significant impact: 409.0\n"
     ]
    }
   ],
   "source": [
    "tmp_sum = 0\n",
    "thre = 0.08\n",
    "for i in range(33):\n",
    "    if pop[i] > 0.5+thre or pop[i] < 0.5-thre:\n",
    "        print(f\"Channel[{i:2d}]: {channel_num[i]}\")\n",
    "        tmp_sum += np.sum(channel_num[i])\n",
    "print(\"# of data w/ significant impact: \", tmp_sum)"
   ]
  },
  {
   "cell_type": "markdown",
   "metadata": {},
   "source": [
    "The number of data with significant impact accounts for little proportion. It seems that there is almost no influence on the performance."
   ]
  },
  {
   "cell_type": "markdown",
   "metadata": {},
   "source": [
    "## Test the Best Model\n",
    "Test our best model on validation data and show the ROC curve."
   ]
  },
  {
   "cell_type": "code",
   "execution_count": 82,
   "id": "9525f931",
   "metadata": {},
   "outputs": [
    {
     "name": "stderr",
     "output_type": "stream",
     "text": [
      "C:\\Users\\Che\\AppData\\Local\\Programs\\Python\\Python39\\lib\\site-packages\\sklearn\\feature_extraction\\text.py:516: UserWarning: The parameter 'token_pattern' will not be used since 'tokenizer' is not None'\n",
      "  warnings.warn(\n"
     ]
    },
    {
     "name": "stdout",
     "output_type": "stream",
     "text": [
      "Validation Accuracy: 0.5630\n",
      "AUC: 0.5860\n"
     ]
    },
    {
     "data": {
      "image/png": "[encoded data removed]",
      "text/plain": [
       "<Figure size 432x288 with 1 Axes>"
      ]
     },
     "metadata": {
      "needs_background": "light"
     },
     "output_type": "display_data"
    }
   ],
   "source": [
    "# Best Model\n",
    "text_trans = tf.fit_transform(tmpx_test['tag']).toarray()\n",
    "text_trans_2 = tf.fit_transform(tmpx_test['title']).toarray()\n",
    "num_trans = col_preprocessor.fit_transform(tmpx_test)\n",
    "\n",
    "tmpx_test = np.hstack((text_trans, text_trans_2, num_trans))\n",
    "\n",
    "X_test = tmpx_test\n",
    "y_test = tmpy_test\n",
    "\n",
    "proba = best_clf.predict_proba(X_test)\n",
    "y_pred = best_clf.predict(X_test)\n",
    "print('Validation Accuracy: %.4f' % accuracy_score(y_test, y_pred))\n",
    "# Use feature 1 as positive label\n",
    "fpr, tpr, thresholds = roc_curve(y_test,\n",
    "                                 proba[:, 1],\n",
    "                                pos_label=1)\n",
    "print('AUC: %.4f' % auc(fpr, tpr))\n",
    "\n",
    "\n",
    "plt.plot(fpr, tpr, lw=2, label='Voting Classfier')\n",
    "plt.plot([0, 1], [0, 1], linestyle='--', color='gray', label='Random guessing')\n",
    "plt.plot([0, 0, 1], [0, 1, 1], linestyle='-.', alpha=0.5, color='red', label='Perfect')\n",
    "\n",
    "plt.xlim([-0.05, 1.05])\n",
    "plt.ylim([-0.05, 1.05])\n",
    "plt.xlabel('FPR')\n",
    "plt.ylabel('TPR')\n",
    "plt.title('ROC Curve')\n",
    "plt.legend(loc=\"lower right\")\n",
    "plt.tight_layout()\n",
    "plt.legend(loc=4, prop={'size': 18})\n",
    "plt.show()"
   ]
  },
  {
   "cell_type": "markdown",
   "metadata": {},
   "source": [
    "# Testing and Output"
   ]
  },
  {
   "cell_type": "code",
   "execution_count": 11,
   "id": "7f575c02",
   "metadata": {},
   "outputs": [
    {
     "name": "stderr",
     "output_type": "stream",
     "text": [
      "100%|██████████| 11847/11847 [12:22<00:00, 15.96it/s]\n"
     ]
    },
    {
     "data": {
      "text/html": [
       "<div>\n",
       "<style scoped>\n",
       "    .dataframe tbody tr th:only-of-type {\n",
       "        vertical-align: middle;\n",
       "    }\n",
       "\n",
       "    .dataframe tbody tr th {\n",
       "        vertical-align: top;\n",
       "    }\n",
       "\n",
       "    .dataframe thead th {\n",
       "        text-align: right;\n",
       "    }\n",
       "</style>\n",
       "<table border=\"1\" class=\"dataframe\">\n",
       "  <thead>\n",
       "    <tr style=\"text-align: right;\">\n",
       "      <th></th>\n",
       "      <th>title</th>\n",
       "      <th>content</th>\n",
       "      <th>tag</th>\n",
       "      <th>channel</th>\n",
       "      <th>fig_count</th>\n",
       "      <th>link_count</th>\n",
       "      <th>weekday</th>\n",
       "      <th>month</th>\n",
       "      <th>timestamp</th>\n",
       "      <th>word_count</th>\n",
       "      <th>sentence_count</th>\n",
       "      <th>emo_val</th>\n",
       "    </tr>\n",
       "  </thead>\n",
       "  <tbody>\n",
       "    <tr>\n",
       "      <th>0</th>\n",
       "      <td>Soccer Star Gets Twitter Death Threats After T...</td>\n",
       "      <td>Note to humanity: One Direction fandom ai...</td>\n",
       "      <td>Entertainment Music One Direction soccer Sports</td>\n",
       "      <td>5</td>\n",
       "      <td>1</td>\n",
       "      <td>30</td>\n",
       "      <td>1</td>\n",
       "      <td>1</td>\n",
       "      <td>1.378756e+09</td>\n",
       "      <td>8</td>\n",
       "      <td>128</td>\n",
       "      <td>0.5578</td>\n",
       "    </tr>\n",
       "    <tr>\n",
       "      <th>1</th>\n",
       "      <td>Google Glass Gets an Accessory Store</td>\n",
       "      <td>Shortly after announcing a hardware upgrade f...</td>\n",
       "      <td>Gadgets glass Google Google Glass Google Glass...</td>\n",
       "      <td>25</td>\n",
       "      <td>3</td>\n",
       "      <td>13</td>\n",
       "      <td>1</td>\n",
       "      <td>1</td>\n",
       "      <td>1.383212e+09</td>\n",
       "      <td>2</td>\n",
       "      <td>44</td>\n",
       "      <td>0.0000</td>\n",
       "    </tr>\n",
       "    <tr>\n",
       "      <th>2</th>\n",
       "      <td>OUYA Gaming Console Already Sold Out on Amazon</td>\n",
       "      <td>Well, that was quick. Just hours after going ...</td>\n",
       "      <td>amazon amazon kindle Business Gaming</td>\n",
       "      <td>2</td>\n",
       "      <td>2</td>\n",
       "      <td>13</td>\n",
       "      <td>1</td>\n",
       "      <td>1</td>\n",
       "      <td>1.372165e+09</td>\n",
       "      <td>1</td>\n",
       "      <td>40</td>\n",
       "      <td>1.0000</td>\n",
       "    </tr>\n",
       "    <tr>\n",
       "      <th>3</th>\n",
       "      <td>'Between Two Ferns' Mocks Oscar Nominees</td>\n",
       "      <td>Between Two Ferns: Oscar Buzz Edition Part 1...</td>\n",
       "      <td>Between Two Ferns Movies The Oscars Oscars 201...</td>\n",
       "      <td>6</td>\n",
       "      <td>1</td>\n",
       "      <td>15</td>\n",
       "      <td>1</td>\n",
       "      <td>0</td>\n",
       "      <td>1.360726e+09</td>\n",
       "      <td>4</td>\n",
       "      <td>41</td>\n",
       "      <td>0.0000</td>\n",
       "    </tr>\n",
       "    <tr>\n",
       "      <th>4</th>\n",
       "      <td>'American Sniper' Trailer: Looks Like Eastwood...</td>\n",
       "      <td>Ever since The Hurt Locker it seems like ...</td>\n",
       "      <td>American Sniper Awards Bradley Cooper clint ea...</td>\n",
       "      <td>5</td>\n",
       "      <td>1</td>\n",
       "      <td>10</td>\n",
       "      <td>1</td>\n",
       "      <td>1</td>\n",
       "      <td>1.412300e+09</td>\n",
       "      <td>1</td>\n",
       "      <td>28</td>\n",
       "      <td>1.0000</td>\n",
       "    </tr>\n",
       "  </tbody>\n",
       "</table>\n",
       "</div>"
      ],
      "text/plain": [
       "                                               title  \\\n",
       "0  Soccer Star Gets Twitter Death Threats After T...   \n",
       "1               Google Glass Gets an Accessory Store   \n",
       "2     OUYA Gaming Console Already Sold Out on Amazon   \n",
       "3           'Between Two Ferns' Mocks Oscar Nominees   \n",
       "4  'American Sniper' Trailer: Looks Like Eastwood...   \n",
       "\n",
       "                                             content  \\\n",
       "0       Note to humanity: One Direction fandom ai...   \n",
       "1   Shortly after announcing a hardware upgrade f...   \n",
       "2   Well, that was quick. Just hours after going ...   \n",
       "3    Between Two Ferns: Oscar Buzz Edition Part 1...   \n",
       "4       Ever since The Hurt Locker it seems like ...   \n",
       "\n",
       "                                                 tag  channel fig_count  \\\n",
       "0    Entertainment Music One Direction soccer Sports        5         1   \n",
       "1  Gadgets glass Google Google Glass Google Glass...       25         3   \n",
       "2               amazon amazon kindle Business Gaming        2         2   \n",
       "3  Between Two Ferns Movies The Oscars Oscars 201...        6         1   \n",
       "4  American Sniper Awards Bradley Cooper clint ea...        5         1   \n",
       "\n",
       "  link_count weekday month     timestamp word_count sentence_count  emo_val  \n",
       "0         30       1     1  1.378756e+09          8            128   0.5578  \n",
       "1         13       1     1  1.383212e+09          2             44   0.0000  \n",
       "2         13       1     1  1.372165e+09          1             40   1.0000  \n",
       "3         15       1     0  1.360726e+09          4             41   0.0000  \n",
       "4         10       1     1  1.412300e+09          1             28   1.0000  "
      ]
     },
     "execution_count": 11,
     "metadata": {},
     "output_type": "execute_result"
    }
   ],
   "source": [
    "df_real = pd.read_csv('../data/test.csv')\n",
    "\n",
    "test_data = pd.DataFrame(columns=attribute)\n",
    "for i in trange(len(df_real)):\n",
    "    test_data = test_data.append(data_preprocess(df_real.loc[i,'Page content']), ignore_index=True)\n",
    "    \n",
    "label_le = LabelEncoder()\n",
    "test_data[\"channel\"] = label_le.fit_transform(test_data[\"channel\"].values)\n",
    "test_data.head()\n"
   ]
  },
  {
   "cell_type": "code",
   "execution_count": 83,
   "metadata": {},
   "outputs": [
    {
     "name": "stderr",
     "output_type": "stream",
     "text": [
      "C:\\Users\\Che\\AppData\\Local\\Programs\\Python\\Python39\\lib\\site-packages\\sklearn\\feature_extraction\\text.py:516: UserWarning: The parameter 'token_pattern' will not be used since 'tokenizer' is not None'\n",
      "  warnings.warn(\n"
     ]
    },
    {
     "name": "stdout",
     "output_type": "stream",
     "text": [
      "Train shape: (27643, 25)\n"
     ]
    },
    {
     "name": "stderr",
     "output_type": "stream",
     "text": [
      "C:\\Users\\Che\\AppData\\Local\\Programs\\Python\\Python39\\lib\\site-packages\\sklearn\\feature_extraction\\text.py:516: UserWarning: The parameter 'token_pattern' will not be used since 'tokenizer' is not None'\n",
      "  warnings.warn(\n"
     ]
    },
    {
     "name": "stdout",
     "output_type": "stream",
     "text": [
      "Test shape: (11847, 25)\n"
     ]
    }
   ],
   "source": [
    "# Run first if choose the second model(text+num)\n",
    "\n",
    "all_train = train_data.drop(columns=['content'])\n",
    "text_trans = tf.fit_transform(all_train['tag']).toarray()\n",
    "text_trans_2 = tf.fit_transform(all_train['title']).toarray()\n",
    "num_trans = col_preprocessor.fit_transform(all_train)\n",
    "\n",
    "all_train = np.hstack((text_trans, text_trans_2, num_trans))\n",
    "print(\"Train shape:\", all_train.shape)\n",
    "\n",
    "all_test = test_data.drop(columns=['content'])\n",
    "text_trans = tf.fit_transform(all_test['tag']).toarray()\n",
    "text_trans_2 = tf.fit_transform(all_test['title']).toarray()\n",
    "num_trans = col_preprocessor.fit_transform(all_test)\n",
    "\n",
    "all_test = np.hstack((text_trans, text_trans_2, num_trans))\n",
    "print(\"Test shape:\", all_test.shape)"
   ]
  },
  {
   "cell_type": "code",
   "execution_count": 84,
   "id": "f8e3f1f9",
   "metadata": {},
   "outputs": [
    {
     "name": "stdout",
     "output_type": "stream",
     "text": [
      "          Id  Popularity\n",
      "0      27643    0.410812\n",
      "1      27644    0.489053\n",
      "2      27645    0.402413\n",
      "3      27646    0.464574\n",
      "4      27647    0.445739\n",
      "...      ...         ...\n",
      "11842  39485    0.801128\n",
      "11843  39486    0.494128\n",
      "11844  39487    0.544063\n",
      "11845  39488    0.457916\n",
      "11846  39489    0.476914\n",
      "\n",
      "[11847 rows x 2 columns]\n"
     ]
    }
   ],
   "source": [
    "'''\n",
    "Basic model: all_train/test -> train/test_data.drop(columns=[])\n",
    "Text+Numerical model: run above block first\n",
    "'''\n",
    "\n",
    "best_clf.fit(all_train, train_label['Popularity'].astype('int'))\n",
    "result = best_clf.predict_proba(all_test)\n",
    "out = pd.DataFrame({'Id': df_real.Id, 'Popularity': result[:, 1]})\n",
    "out.to_csv('./output/predict.csv', index=False)\n",
    "print(out)"
   ]
  },
  {
   "cell_type": "markdown",
   "metadata": {},
   "source": [
    "# Conclusion"
   ]
  },
  {
   "cell_type": "markdown",
   "metadata": {},
   "source": [
    "## Experiment Result\n",
    "|| Validation Score | Kaggle Public Score | Kaggle Private Score |\n",
    "| ---- | :----: | :----: | :----: |\n",
    "|Basic Model w/o 'emo_val'|0.572|0.57219|0.57413|\n",
    "|Basic Model w/ 'emo_val'|0.5841|0.57646|0.57639|\n",
    "|Best Model w/o 'channel'|0.5848|<b>0.58640</b>|0.58315|\n",
    "|Best Model w/ 'channel'|<b>0.5867</b>|0.58387|<b>0.58414</b>|\n",
    "\n",
    "- Basic Model: Use numerical features only.\n",
    "- Best Model: Use both text and numerical features.\n",
    "- Final features used: \n",
    "    - Text: 'title': 8-D, 'tag': 8-D\n",
    "    - Numeric: 'channel', 'fig_count', 'link_count', 'weekday', 'month', 'timestamp', 'word_count', 'sentence_count', 'emo_val', 'is_lifestyle', 'is_entertainment', 'is_bus', 'is_socmed', 'is_tech', 'is_world'"
   ]
  },
  {
   "cell_type": "markdown",
   "metadata": {},
   "source": [
    "## Opinion\n",
    "- In Time information, the most useful features are \"Weekday\" and \"Month\". It is one of the easist way to beyond the 60 baseline.\n",
    "- Combine Texture and Numerical Features for training can improve performance obviously. \n",
    "- Sometimes, the higher public score means overfitting so maybe cause worst private score as expected.\n",
    "- Maybe next time we can submit different model to kaggle, rather than depend on validation score."
   ]
  },
  {
   "cell_type": "markdown",
   "metadata": {},
   "source": []
  }
 ],
 "metadata": {
  "interpreter": {
   "hash": "22c6df8416d99150f2220dbf1611e4fb62265fefa3bde7b85f317bcaabf8ed29"
  },
  "kernelspec": {
   "display_name": "Python 3.9.7 64-bit",
   "name": "python3"
  },
  "language_info": {
   "codemirror_mode": {
    "name": "ipython",
    "version": 3
   },
   "file_extension": ".py",
   "mimetype": "text/x-python",
   "name": "python",
   "nbconvert_exporter": "python",
   "pygments_lexer": "ipython3",
   "version": "3.9.7"
  }
 },
 "nbformat": 4,
 "nbformat_minor": 5
}
